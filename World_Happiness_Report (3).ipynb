{
 "cells": [
  {
   "cell_type": "markdown",
   "id": "d32f403f",
   "metadata": {},
   "source": [
    "#       WORLD HAPPINESS REPORT"
   ]
  },
  {
   "cell_type": "code",
   "execution_count": 1,
   "id": "94f68499",
   "metadata": {},
   "outputs": [],
   "source": [
    "import pandas as pd\n",
    "import numpy as np\n",
    "import matplotlib.pyplot as plt\n",
    "import seaborn as sns\n",
    "\n",
    "%matplotlib inline\n",
    "\n",
    "import warnings\n",
    "warnings.filterwarnings('ignore') "
   ]
  },
  {
   "cell_type": "code",
   "execution_count": 2,
   "id": "37e1197d",
   "metadata": {},
   "outputs": [],
   "source": [
    "#extracting file\n",
    "\n",
    "data = pd.read_csv(r'https://raw.githubusercontent.com/dsrscientist/DSData/master/happiness_score_dataset.csv')"
   ]
  },
  {
   "cell_type": "code",
   "execution_count": 3,
   "id": "be6df7b1",
   "metadata": {},
   "outputs": [
    {
     "data": {
      "text/html": [
       "<div>\n",
       "<style scoped>\n",
       "    .dataframe tbody tr th:only-of-type {\n",
       "        vertical-align: middle;\n",
       "    }\n",
       "\n",
       "    .dataframe tbody tr th {\n",
       "        vertical-align: top;\n",
       "    }\n",
       "\n",
       "    .dataframe thead th {\n",
       "        text-align: right;\n",
       "    }\n",
       "</style>\n",
       "<table border=\"1\" class=\"dataframe\">\n",
       "  <thead>\n",
       "    <tr style=\"text-align: right;\">\n",
       "      <th></th>\n",
       "      <th>Country</th>\n",
       "      <th>Region</th>\n",
       "      <th>Happiness Rank</th>\n",
       "      <th>Happiness Score</th>\n",
       "      <th>Standard Error</th>\n",
       "      <th>Economy (GDP per Capita)</th>\n",
       "      <th>Family</th>\n",
       "      <th>Health (Life Expectancy)</th>\n",
       "      <th>Freedom</th>\n",
       "      <th>Trust (Government Corruption)</th>\n",
       "      <th>Generosity</th>\n",
       "      <th>Dystopia Residual</th>\n",
       "    </tr>\n",
       "  </thead>\n",
       "  <tbody>\n",
       "    <tr>\n",
       "      <th>0</th>\n",
       "      <td>Switzerland</td>\n",
       "      <td>Western Europe</td>\n",
       "      <td>1</td>\n",
       "      <td>7.587</td>\n",
       "      <td>0.03411</td>\n",
       "      <td>1.39651</td>\n",
       "      <td>1.34951</td>\n",
       "      <td>0.94143</td>\n",
       "      <td>0.66557</td>\n",
       "      <td>0.41978</td>\n",
       "      <td>0.29678</td>\n",
       "      <td>2.51738</td>\n",
       "    </tr>\n",
       "    <tr>\n",
       "      <th>1</th>\n",
       "      <td>Iceland</td>\n",
       "      <td>Western Europe</td>\n",
       "      <td>2</td>\n",
       "      <td>7.561</td>\n",
       "      <td>0.04884</td>\n",
       "      <td>1.30232</td>\n",
       "      <td>1.40223</td>\n",
       "      <td>0.94784</td>\n",
       "      <td>0.62877</td>\n",
       "      <td>0.14145</td>\n",
       "      <td>0.43630</td>\n",
       "      <td>2.70201</td>\n",
       "    </tr>\n",
       "    <tr>\n",
       "      <th>2</th>\n",
       "      <td>Denmark</td>\n",
       "      <td>Western Europe</td>\n",
       "      <td>3</td>\n",
       "      <td>7.527</td>\n",
       "      <td>0.03328</td>\n",
       "      <td>1.32548</td>\n",
       "      <td>1.36058</td>\n",
       "      <td>0.87464</td>\n",
       "      <td>0.64938</td>\n",
       "      <td>0.48357</td>\n",
       "      <td>0.34139</td>\n",
       "      <td>2.49204</td>\n",
       "    </tr>\n",
       "    <tr>\n",
       "      <th>3</th>\n",
       "      <td>Norway</td>\n",
       "      <td>Western Europe</td>\n",
       "      <td>4</td>\n",
       "      <td>7.522</td>\n",
       "      <td>0.03880</td>\n",
       "      <td>1.45900</td>\n",
       "      <td>1.33095</td>\n",
       "      <td>0.88521</td>\n",
       "      <td>0.66973</td>\n",
       "      <td>0.36503</td>\n",
       "      <td>0.34699</td>\n",
       "      <td>2.46531</td>\n",
       "    </tr>\n",
       "    <tr>\n",
       "      <th>4</th>\n",
       "      <td>Canada</td>\n",
       "      <td>North America</td>\n",
       "      <td>5</td>\n",
       "      <td>7.427</td>\n",
       "      <td>0.03553</td>\n",
       "      <td>1.32629</td>\n",
       "      <td>1.32261</td>\n",
       "      <td>0.90563</td>\n",
       "      <td>0.63297</td>\n",
       "      <td>0.32957</td>\n",
       "      <td>0.45811</td>\n",
       "      <td>2.45176</td>\n",
       "    </tr>\n",
       "    <tr>\n",
       "      <th>...</th>\n",
       "      <td>...</td>\n",
       "      <td>...</td>\n",
       "      <td>...</td>\n",
       "      <td>...</td>\n",
       "      <td>...</td>\n",
       "      <td>...</td>\n",
       "      <td>...</td>\n",
       "      <td>...</td>\n",
       "      <td>...</td>\n",
       "      <td>...</td>\n",
       "      <td>...</td>\n",
       "      <td>...</td>\n",
       "    </tr>\n",
       "    <tr>\n",
       "      <th>153</th>\n",
       "      <td>Rwanda</td>\n",
       "      <td>Sub-Saharan Africa</td>\n",
       "      <td>154</td>\n",
       "      <td>3.465</td>\n",
       "      <td>0.03464</td>\n",
       "      <td>0.22208</td>\n",
       "      <td>0.77370</td>\n",
       "      <td>0.42864</td>\n",
       "      <td>0.59201</td>\n",
       "      <td>0.55191</td>\n",
       "      <td>0.22628</td>\n",
       "      <td>0.67042</td>\n",
       "    </tr>\n",
       "    <tr>\n",
       "      <th>154</th>\n",
       "      <td>Benin</td>\n",
       "      <td>Sub-Saharan Africa</td>\n",
       "      <td>155</td>\n",
       "      <td>3.340</td>\n",
       "      <td>0.03656</td>\n",
       "      <td>0.28665</td>\n",
       "      <td>0.35386</td>\n",
       "      <td>0.31910</td>\n",
       "      <td>0.48450</td>\n",
       "      <td>0.08010</td>\n",
       "      <td>0.18260</td>\n",
       "      <td>1.63328</td>\n",
       "    </tr>\n",
       "    <tr>\n",
       "      <th>155</th>\n",
       "      <td>Syria</td>\n",
       "      <td>Middle East and Northern Africa</td>\n",
       "      <td>156</td>\n",
       "      <td>3.006</td>\n",
       "      <td>0.05015</td>\n",
       "      <td>0.66320</td>\n",
       "      <td>0.47489</td>\n",
       "      <td>0.72193</td>\n",
       "      <td>0.15684</td>\n",
       "      <td>0.18906</td>\n",
       "      <td>0.47179</td>\n",
       "      <td>0.32858</td>\n",
       "    </tr>\n",
       "    <tr>\n",
       "      <th>156</th>\n",
       "      <td>Burundi</td>\n",
       "      <td>Sub-Saharan Africa</td>\n",
       "      <td>157</td>\n",
       "      <td>2.905</td>\n",
       "      <td>0.08658</td>\n",
       "      <td>0.01530</td>\n",
       "      <td>0.41587</td>\n",
       "      <td>0.22396</td>\n",
       "      <td>0.11850</td>\n",
       "      <td>0.10062</td>\n",
       "      <td>0.19727</td>\n",
       "      <td>1.83302</td>\n",
       "    </tr>\n",
       "    <tr>\n",
       "      <th>157</th>\n",
       "      <td>Togo</td>\n",
       "      <td>Sub-Saharan Africa</td>\n",
       "      <td>158</td>\n",
       "      <td>2.839</td>\n",
       "      <td>0.06727</td>\n",
       "      <td>0.20868</td>\n",
       "      <td>0.13995</td>\n",
       "      <td>0.28443</td>\n",
       "      <td>0.36453</td>\n",
       "      <td>0.10731</td>\n",
       "      <td>0.16681</td>\n",
       "      <td>1.56726</td>\n",
       "    </tr>\n",
       "  </tbody>\n",
       "</table>\n",
       "<p>158 rows × 12 columns</p>\n",
       "</div>"
      ],
      "text/plain": [
       "         Country                           Region  Happiness Rank  \\\n",
       "0    Switzerland                   Western Europe               1   \n",
       "1        Iceland                   Western Europe               2   \n",
       "2        Denmark                   Western Europe               3   \n",
       "3         Norway                   Western Europe               4   \n",
       "4         Canada                    North America               5   \n",
       "..           ...                              ...             ...   \n",
       "153       Rwanda               Sub-Saharan Africa             154   \n",
       "154        Benin               Sub-Saharan Africa             155   \n",
       "155        Syria  Middle East and Northern Africa             156   \n",
       "156      Burundi               Sub-Saharan Africa             157   \n",
       "157         Togo               Sub-Saharan Africa             158   \n",
       "\n",
       "     Happiness Score  Standard Error  Economy (GDP per Capita)   Family  \\\n",
       "0              7.587         0.03411                   1.39651  1.34951   \n",
       "1              7.561         0.04884                   1.30232  1.40223   \n",
       "2              7.527         0.03328                   1.32548  1.36058   \n",
       "3              7.522         0.03880                   1.45900  1.33095   \n",
       "4              7.427         0.03553                   1.32629  1.32261   \n",
       "..               ...             ...                       ...      ...   \n",
       "153            3.465         0.03464                   0.22208  0.77370   \n",
       "154            3.340         0.03656                   0.28665  0.35386   \n",
       "155            3.006         0.05015                   0.66320  0.47489   \n",
       "156            2.905         0.08658                   0.01530  0.41587   \n",
       "157            2.839         0.06727                   0.20868  0.13995   \n",
       "\n",
       "     Health (Life Expectancy)  Freedom  Trust (Government Corruption)  \\\n",
       "0                     0.94143  0.66557                        0.41978   \n",
       "1                     0.94784  0.62877                        0.14145   \n",
       "2                     0.87464  0.64938                        0.48357   \n",
       "3                     0.88521  0.66973                        0.36503   \n",
       "4                     0.90563  0.63297                        0.32957   \n",
       "..                        ...      ...                            ...   \n",
       "153                   0.42864  0.59201                        0.55191   \n",
       "154                   0.31910  0.48450                        0.08010   \n",
       "155                   0.72193  0.15684                        0.18906   \n",
       "156                   0.22396  0.11850                        0.10062   \n",
       "157                   0.28443  0.36453                        0.10731   \n",
       "\n",
       "     Generosity  Dystopia Residual  \n",
       "0       0.29678            2.51738  \n",
       "1       0.43630            2.70201  \n",
       "2       0.34139            2.49204  \n",
       "3       0.34699            2.46531  \n",
       "4       0.45811            2.45176  \n",
       "..          ...                ...  \n",
       "153     0.22628            0.67042  \n",
       "154     0.18260            1.63328  \n",
       "155     0.47179            0.32858  \n",
       "156     0.19727            1.83302  \n",
       "157     0.16681            1.56726  \n",
       "\n",
       "[158 rows x 12 columns]"
      ]
     },
     "execution_count": 3,
     "metadata": {},
     "output_type": "execute_result"
    }
   ],
   "source": [
    "data"
   ]
  },
  {
   "cell_type": "code",
   "execution_count": 4,
   "id": "55505ea0",
   "metadata": {},
   "outputs": [
    {
     "data": {
      "text/plain": [
       "Index(['Country', 'Region', 'Happiness Rank', 'Happiness Score',\n",
       "       'Standard Error', 'Economy (GDP per Capita)', 'Family',\n",
       "       'Health (Life Expectancy)', 'Freedom', 'Trust (Government Corruption)',\n",
       "       'Generosity', 'Dystopia Residual'],\n",
       "      dtype='object')"
      ]
     },
     "execution_count": 4,
     "metadata": {},
     "output_type": "execute_result"
    }
   ],
   "source": [
    "data.columns #To check column names"
   ]
  },
  {
   "cell_type": "code",
   "execution_count": 5,
   "id": "bf76fcfa",
   "metadata": {},
   "outputs": [],
   "source": [
    "#renaming the columns\n",
    "data.rename(columns = {'Happiness Rank': 'Rank', 'Happiness Score': 'Score','Standard Error':'Error','Economy (GDP per Capita)':'Economy','Health (Life Expectancy)':'Life','Trust (Government Corruption)':'Trust','Dystopia Residual':'Dystopia_Residual'},inplace= True)"
   ]
  },
  {
   "cell_type": "code",
   "execution_count": 6,
   "id": "7ba5d199",
   "metadata": {},
   "outputs": [
    {
     "data": {
      "text/html": [
       "<div>\n",
       "<style scoped>\n",
       "    .dataframe tbody tr th:only-of-type {\n",
       "        vertical-align: middle;\n",
       "    }\n",
       "\n",
       "    .dataframe tbody tr th {\n",
       "        vertical-align: top;\n",
       "    }\n",
       "\n",
       "    .dataframe thead th {\n",
       "        text-align: right;\n",
       "    }\n",
       "</style>\n",
       "<table border=\"1\" class=\"dataframe\">\n",
       "  <thead>\n",
       "    <tr style=\"text-align: right;\">\n",
       "      <th></th>\n",
       "      <th>Rank</th>\n",
       "      <th>Score</th>\n",
       "      <th>Error</th>\n",
       "      <th>Economy</th>\n",
       "      <th>Family</th>\n",
       "      <th>Life</th>\n",
       "      <th>Freedom</th>\n",
       "      <th>Trust</th>\n",
       "      <th>Generosity</th>\n",
       "      <th>Dystopia_Residual</th>\n",
       "    </tr>\n",
       "  </thead>\n",
       "  <tbody>\n",
       "    <tr>\n",
       "      <th>count</th>\n",
       "      <td>158.000000</td>\n",
       "      <td>158.000000</td>\n",
       "      <td>158.000000</td>\n",
       "      <td>158.000000</td>\n",
       "      <td>158.000000</td>\n",
       "      <td>158.000000</td>\n",
       "      <td>158.000000</td>\n",
       "      <td>158.000000</td>\n",
       "      <td>158.000000</td>\n",
       "      <td>158.000000</td>\n",
       "    </tr>\n",
       "    <tr>\n",
       "      <th>mean</th>\n",
       "      <td>79.493671</td>\n",
       "      <td>5.375734</td>\n",
       "      <td>0.047885</td>\n",
       "      <td>0.846137</td>\n",
       "      <td>0.991046</td>\n",
       "      <td>0.630259</td>\n",
       "      <td>0.428615</td>\n",
       "      <td>0.143422</td>\n",
       "      <td>0.237296</td>\n",
       "      <td>2.098977</td>\n",
       "    </tr>\n",
       "    <tr>\n",
       "      <th>std</th>\n",
       "      <td>45.754363</td>\n",
       "      <td>1.145010</td>\n",
       "      <td>0.017146</td>\n",
       "      <td>0.403121</td>\n",
       "      <td>0.272369</td>\n",
       "      <td>0.247078</td>\n",
       "      <td>0.150693</td>\n",
       "      <td>0.120034</td>\n",
       "      <td>0.126685</td>\n",
       "      <td>0.553550</td>\n",
       "    </tr>\n",
       "    <tr>\n",
       "      <th>min</th>\n",
       "      <td>1.000000</td>\n",
       "      <td>2.839000</td>\n",
       "      <td>0.018480</td>\n",
       "      <td>0.000000</td>\n",
       "      <td>0.000000</td>\n",
       "      <td>0.000000</td>\n",
       "      <td>0.000000</td>\n",
       "      <td>0.000000</td>\n",
       "      <td>0.000000</td>\n",
       "      <td>0.328580</td>\n",
       "    </tr>\n",
       "    <tr>\n",
       "      <th>25%</th>\n",
       "      <td>40.250000</td>\n",
       "      <td>4.526000</td>\n",
       "      <td>0.037268</td>\n",
       "      <td>0.545808</td>\n",
       "      <td>0.856823</td>\n",
       "      <td>0.439185</td>\n",
       "      <td>0.328330</td>\n",
       "      <td>0.061675</td>\n",
       "      <td>0.150553</td>\n",
       "      <td>1.759410</td>\n",
       "    </tr>\n",
       "    <tr>\n",
       "      <th>50%</th>\n",
       "      <td>79.500000</td>\n",
       "      <td>5.232500</td>\n",
       "      <td>0.043940</td>\n",
       "      <td>0.910245</td>\n",
       "      <td>1.029510</td>\n",
       "      <td>0.696705</td>\n",
       "      <td>0.435515</td>\n",
       "      <td>0.107220</td>\n",
       "      <td>0.216130</td>\n",
       "      <td>2.095415</td>\n",
       "    </tr>\n",
       "    <tr>\n",
       "      <th>75%</th>\n",
       "      <td>118.750000</td>\n",
       "      <td>6.243750</td>\n",
       "      <td>0.052300</td>\n",
       "      <td>1.158448</td>\n",
       "      <td>1.214405</td>\n",
       "      <td>0.811013</td>\n",
       "      <td>0.549092</td>\n",
       "      <td>0.180255</td>\n",
       "      <td>0.309883</td>\n",
       "      <td>2.462415</td>\n",
       "    </tr>\n",
       "    <tr>\n",
       "      <th>max</th>\n",
       "      <td>158.000000</td>\n",
       "      <td>7.587000</td>\n",
       "      <td>0.136930</td>\n",
       "      <td>1.690420</td>\n",
       "      <td>1.402230</td>\n",
       "      <td>1.025250</td>\n",
       "      <td>0.669730</td>\n",
       "      <td>0.551910</td>\n",
       "      <td>0.795880</td>\n",
       "      <td>3.602140</td>\n",
       "    </tr>\n",
       "  </tbody>\n",
       "</table>\n",
       "</div>"
      ],
      "text/plain": [
       "             Rank       Score       Error     Economy      Family        Life  \\\n",
       "count  158.000000  158.000000  158.000000  158.000000  158.000000  158.000000   \n",
       "mean    79.493671    5.375734    0.047885    0.846137    0.991046    0.630259   \n",
       "std     45.754363    1.145010    0.017146    0.403121    0.272369    0.247078   \n",
       "min      1.000000    2.839000    0.018480    0.000000    0.000000    0.000000   \n",
       "25%     40.250000    4.526000    0.037268    0.545808    0.856823    0.439185   \n",
       "50%     79.500000    5.232500    0.043940    0.910245    1.029510    0.696705   \n",
       "75%    118.750000    6.243750    0.052300    1.158448    1.214405    0.811013   \n",
       "max    158.000000    7.587000    0.136930    1.690420    1.402230    1.025250   \n",
       "\n",
       "          Freedom       Trust  Generosity  Dystopia_Residual  \n",
       "count  158.000000  158.000000  158.000000         158.000000  \n",
       "mean     0.428615    0.143422    0.237296           2.098977  \n",
       "std      0.150693    0.120034    0.126685           0.553550  \n",
       "min      0.000000    0.000000    0.000000           0.328580  \n",
       "25%      0.328330    0.061675    0.150553           1.759410  \n",
       "50%      0.435515    0.107220    0.216130           2.095415  \n",
       "75%      0.549092    0.180255    0.309883           2.462415  \n",
       "max      0.669730    0.551910    0.795880           3.602140  "
      ]
     },
     "execution_count": 6,
     "metadata": {},
     "output_type": "execute_result"
    }
   ],
   "source": [
    "data.describe()"
   ]
  },
  {
   "cell_type": "code",
   "execution_count": 7,
   "id": "57889a48",
   "metadata": {},
   "outputs": [],
   "source": [
    "#filling the data with '0' value\n",
    "\n",
    "data['Economy']=data['Economy'].replace(0,data['Economy'].mean())\n",
    "\n",
    "data['Family']=data['Family'].replace(0,data['Family'].mean())\n",
    "data['Life']=data['Life'].replace(0,data['Life'].mean())\n",
    "data['Freedom']=data['Freedom'].replace(0,data['Freedom'].mean())\n",
    "data['Trust']=data['Trust'].replace(0,data['Trust'].mean())\n",
    "data['Generosity']=data['Generosity'].replace(0,data['Generosity'].mean())\n"
   ]
  },
  {
   "cell_type": "code",
   "execution_count": 8,
   "id": "2e89ad97",
   "metadata": {},
   "outputs": [
    {
     "data": {
      "text/html": [
       "<div>\n",
       "<style scoped>\n",
       "    .dataframe tbody tr th:only-of-type {\n",
       "        vertical-align: middle;\n",
       "    }\n",
       "\n",
       "    .dataframe tbody tr th {\n",
       "        vertical-align: top;\n",
       "    }\n",
       "\n",
       "    .dataframe thead th {\n",
       "        text-align: right;\n",
       "    }\n",
       "</style>\n",
       "<table border=\"1\" class=\"dataframe\">\n",
       "  <thead>\n",
       "    <tr style=\"text-align: right;\">\n",
       "      <th></th>\n",
       "      <th>Rank</th>\n",
       "      <th>Score</th>\n",
       "      <th>Error</th>\n",
       "      <th>Economy</th>\n",
       "      <th>Family</th>\n",
       "      <th>Life</th>\n",
       "      <th>Freedom</th>\n",
       "      <th>Trust</th>\n",
       "      <th>Generosity</th>\n",
       "      <th>Dystopia_Residual</th>\n",
       "    </tr>\n",
       "  </thead>\n",
       "  <tbody>\n",
       "    <tr>\n",
       "      <th>count</th>\n",
       "      <td>158.000000</td>\n",
       "      <td>158.000000</td>\n",
       "      <td>158.000000</td>\n",
       "      <td>158.000000</td>\n",
       "      <td>158.000000</td>\n",
       "      <td>158.000000</td>\n",
       "      <td>158.000000</td>\n",
       "      <td>158.000000</td>\n",
       "      <td>158.000000</td>\n",
       "      <td>158.000000</td>\n",
       "    </tr>\n",
       "    <tr>\n",
       "      <th>mean</th>\n",
       "      <td>79.493671</td>\n",
       "      <td>5.375734</td>\n",
       "      <td>0.047885</td>\n",
       "      <td>0.851493</td>\n",
       "      <td>0.997318</td>\n",
       "      <td>0.634248</td>\n",
       "      <td>0.431328</td>\n",
       "      <td>0.144330</td>\n",
       "      <td>0.238797</td>\n",
       "      <td>2.098977</td>\n",
       "    </tr>\n",
       "    <tr>\n",
       "      <th>std</th>\n",
       "      <td>45.754363</td>\n",
       "      <td>1.145010</td>\n",
       "      <td>0.017146</td>\n",
       "      <td>0.397388</td>\n",
       "      <td>0.260556</td>\n",
       "      <td>0.241870</td>\n",
       "      <td>0.146734</td>\n",
       "      <td>0.119484</td>\n",
       "      <td>0.125252</td>\n",
       "      <td>0.553550</td>\n",
       "    </tr>\n",
       "    <tr>\n",
       "      <th>min</th>\n",
       "      <td>1.000000</td>\n",
       "      <td>2.839000</td>\n",
       "      <td>0.018480</td>\n",
       "      <td>0.015300</td>\n",
       "      <td>0.139950</td>\n",
       "      <td>0.047760</td>\n",
       "      <td>0.076990</td>\n",
       "      <td>0.002270</td>\n",
       "      <td>0.001990</td>\n",
       "      <td>0.328580</td>\n",
       "    </tr>\n",
       "    <tr>\n",
       "      <th>25%</th>\n",
       "      <td>40.250000</td>\n",
       "      <td>4.526000</td>\n",
       "      <td>0.037268</td>\n",
       "      <td>0.557532</td>\n",
       "      <td>0.861422</td>\n",
       "      <td>0.447215</td>\n",
       "      <td>0.329603</td>\n",
       "      <td>0.062550</td>\n",
       "      <td>0.154913</td>\n",
       "      <td>1.759410</td>\n",
       "    </tr>\n",
       "    <tr>\n",
       "      <th>50%</th>\n",
       "      <td>79.500000</td>\n",
       "      <td>5.232500</td>\n",
       "      <td>0.043940</td>\n",
       "      <td>0.910245</td>\n",
       "      <td>1.029510</td>\n",
       "      <td>0.696705</td>\n",
       "      <td>0.435515</td>\n",
       "      <td>0.108770</td>\n",
       "      <td>0.217155</td>\n",
       "      <td>2.095415</td>\n",
       "    </tr>\n",
       "    <tr>\n",
       "      <th>75%</th>\n",
       "      <td>118.750000</td>\n",
       "      <td>6.243750</td>\n",
       "      <td>0.052300</td>\n",
       "      <td>1.158448</td>\n",
       "      <td>1.214405</td>\n",
       "      <td>0.811013</td>\n",
       "      <td>0.549092</td>\n",
       "      <td>0.180255</td>\n",
       "      <td>0.309883</td>\n",
       "      <td>2.462415</td>\n",
       "    </tr>\n",
       "    <tr>\n",
       "      <th>max</th>\n",
       "      <td>158.000000</td>\n",
       "      <td>7.587000</td>\n",
       "      <td>0.136930</td>\n",
       "      <td>1.690420</td>\n",
       "      <td>1.402230</td>\n",
       "      <td>1.025250</td>\n",
       "      <td>0.669730</td>\n",
       "      <td>0.551910</td>\n",
       "      <td>0.795880</td>\n",
       "      <td>3.602140</td>\n",
       "    </tr>\n",
       "  </tbody>\n",
       "</table>\n",
       "</div>"
      ],
      "text/plain": [
       "             Rank       Score       Error     Economy      Family        Life  \\\n",
       "count  158.000000  158.000000  158.000000  158.000000  158.000000  158.000000   \n",
       "mean    79.493671    5.375734    0.047885    0.851493    0.997318    0.634248   \n",
       "std     45.754363    1.145010    0.017146    0.397388    0.260556    0.241870   \n",
       "min      1.000000    2.839000    0.018480    0.015300    0.139950    0.047760   \n",
       "25%     40.250000    4.526000    0.037268    0.557532    0.861422    0.447215   \n",
       "50%     79.500000    5.232500    0.043940    0.910245    1.029510    0.696705   \n",
       "75%    118.750000    6.243750    0.052300    1.158448    1.214405    0.811013   \n",
       "max    158.000000    7.587000    0.136930    1.690420    1.402230    1.025250   \n",
       "\n",
       "          Freedom       Trust  Generosity  Dystopia_Residual  \n",
       "count  158.000000  158.000000  158.000000         158.000000  \n",
       "mean     0.431328    0.144330    0.238797           2.098977  \n",
       "std      0.146734    0.119484    0.125252           0.553550  \n",
       "min      0.076990    0.002270    0.001990           0.328580  \n",
       "25%      0.329603    0.062550    0.154913           1.759410  \n",
       "50%      0.435515    0.108770    0.217155           2.095415  \n",
       "75%      0.549092    0.180255    0.309883           2.462415  \n",
       "max      0.669730    0.551910    0.795880           3.602140  "
      ]
     },
     "execution_count": 8,
     "metadata": {},
     "output_type": "execute_result"
    }
   ],
   "source": [
    "data.describe()"
   ]
  },
  {
   "cell_type": "code",
   "execution_count": 9,
   "id": "5c3d07f3",
   "metadata": {},
   "outputs": [
    {
     "name": "stdout",
     "output_type": "stream",
     "text": [
      "<class 'pandas.core.frame.DataFrame'>\n",
      "RangeIndex: 158 entries, 0 to 157\n",
      "Data columns (total 12 columns):\n",
      " #   Column             Non-Null Count  Dtype  \n",
      "---  ------             --------------  -----  \n",
      " 0   Country            158 non-null    object \n",
      " 1   Region             158 non-null    object \n",
      " 2   Rank               158 non-null    int64  \n",
      " 3   Score              158 non-null    float64\n",
      " 4   Error              158 non-null    float64\n",
      " 5   Economy            158 non-null    float64\n",
      " 6   Family             158 non-null    float64\n",
      " 7   Life               158 non-null    float64\n",
      " 8   Freedom            158 non-null    float64\n",
      " 9   Trust              158 non-null    float64\n",
      " 10  Generosity         158 non-null    float64\n",
      " 11  Dystopia_Residual  158 non-null    float64\n",
      "dtypes: float64(9), int64(1), object(2)\n",
      "memory usage: 14.9+ KB\n"
     ]
    }
   ],
   "source": [
    "data.info()"
   ]
  },
  {
   "cell_type": "code",
   "execution_count": 10,
   "id": "ac896023",
   "metadata": {
    "scrolled": true
   },
   "outputs": [
    {
     "data": {
      "text/plain": [
       "Country              0\n",
       "Region               0\n",
       "Rank                 0\n",
       "Score                0\n",
       "Error                0\n",
       "Economy              0\n",
       "Family               0\n",
       "Life                 0\n",
       "Freedom              0\n",
       "Trust                0\n",
       "Generosity           0\n",
       "Dystopia_Residual    0\n",
       "dtype: int64"
      ]
     },
     "execution_count": 10,
     "metadata": {},
     "output_type": "execute_result"
    }
   ],
   "source": [
    "data.isna().sum()"
   ]
  },
  {
   "cell_type": "code",
   "execution_count": 11,
   "id": "d29c3edd",
   "metadata": {},
   "outputs": [],
   "source": [
    "data.set_index('Country',inplace = True)\n"
   ]
  },
  {
   "cell_type": "markdown",
   "id": "a184fc53",
   "metadata": {},
   "source": [
    "Visualization"
   ]
  },
  {
   "cell_type": "code",
   "execution_count": 12,
   "id": "c829dc58",
   "metadata": {},
   "outputs": [
    {
     "name": "stdout",
     "output_type": "stream",
     "text": [
      "['Region' 'Rank' 'Score' 'Error' 'Economy' 'Family' 'Life' 'Freedom'\n",
      " 'Trust' 'Generosity' 'Dystopia_Residual']\n"
     ]
    }
   ],
   "source": [
    "ncol,nrow = 4,3\n",
    "colNames = data.columns.values\n",
    "print(colNames)"
   ]
  },
  {
   "cell_type": "code",
   "execution_count": 13,
   "id": "ddde6134",
   "metadata": {},
   "outputs": [
    {
     "name": "stdout",
     "output_type": "stream",
     "text": [
      "[(0, 'Region'), (1, 'Rank'), (2, 'Score'), (3, 'Error'), (4, 'Economy'), (5, 'Family'), (6, 'Life'), (7, 'Freedom'), (8, 'Trust'), (9, 'Generosity'), (10, 'Dystopia_Residual')]\n"
     ]
    }
   ],
   "source": [
    "enum_obj = enumerate(colNames)\n",
    "print(list(enum_obj))"
   ]
  },
  {
   "cell_type": "code",
   "execution_count": 14,
   "id": "6f474316",
   "metadata": {},
   "outputs": [
    {
     "data": {
      "image/png": "[encoded data removed]",
      "text/plain": [
       "<Figure size 2160x2520 with 11 Axes>"
      ]
     },
     "metadata": {
      "needs_background": "light"
     },
     "output_type": "display_data"
    }
   ],
   "source": [
    "\n",
    "plt.figure(figsize = (30,35))\n",
    "for index,col in enumerate(colNames):\n",
    "    plt.subplot(ncol,nrow,index+1)\n",
    "    if data[col].dtype == 'object':\n",
    "        sns.countplot(data[col])\n",
    "        plt.title(col)\n",
    "        plt.xticks(rotation = 45)\n",
    "    else:\n",
    "        sns.boxplot(data[col])\n",
    "        plt.title(col)\n",
    "    plt.tight_layout()\n",
    "plt.show()"
   ]
  },
  {
   "cell_type": "code",
   "execution_count": 15,
   "id": "aef83ea1",
   "metadata": {},
   "outputs": [],
   "source": [
    "#importing libraries\n",
    "\n",
    "from scipy.stats import zscore"
   ]
  },
  {
   "cell_type": "markdown",
   "id": "920f08d6",
   "metadata": {},
   "source": [
    "### Applying IQR Method"
   ]
  },
  {
   "cell_type": "code",
   "execution_count": 16,
   "id": "2e9790d1",
   "metadata": {},
   "outputs": [],
   "source": [
    "Q1 = data.quantile(0.25)\n",
    "Q3 = data.quantile(0.75)\n",
    "IQR = Q3-Q1\n",
    "\n",
    "data1 = data.drop(columns = 'Region')\n",
    "data_new = data1[~((data1 < (Q1-1.5*IQR)) | (data1> (Q3 + 1.5*Q3))).any(axis = 1)]\n"
   ]
  },
  {
   "cell_type": "code",
   "execution_count": 17,
   "id": "ad2feb9b",
   "metadata": {},
   "outputs": [
    {
     "name": "stdout",
     "output_type": "stream",
     "text": [
      "Shape - before and after:\n",
      "\n",
      "shape before         : (158, 10)\n",
      "shape after          : (147, 10)\n",
      "percentage loss      : 0.06962025316455696\n"
     ]
    }
   ],
   "source": [
    "print('Shape - before and after:\\n')\n",
    "print('shape before'.ljust(20),\":\",data1.shape)\n",
    "print('shape after'.ljust(20),\":\",data_new.shape)\n",
    "print('percentage loss'.ljust(20),\":\",(data1.shape[0]-data_new.shape[0])/data1.shape[0])"
   ]
  },
  {
   "cell_type": "markdown",
   "id": "39cad682",
   "metadata": {},
   "source": [
    "### Applying Z-Score Method"
   ]
  },
  {
   "cell_type": "code",
   "execution_count": 18,
   "id": "acd024ec",
   "metadata": {},
   "outputs": [],
   "source": [
    "data1 = data.drop(columns = 'Region')\n",
    "z=np.abs(zscore(data1))\n",
    "threshold = 3\n",
    "data_new = data1[(z<3).all(axis=1)]"
   ]
  },
  {
   "cell_type": "code",
   "execution_count": 19,
   "id": "489fd494",
   "metadata": {},
   "outputs": [
    {
     "name": "stdout",
     "output_type": "stream",
     "text": [
      "Shape - before and after:\n",
      "\n",
      "shape before         : (158, 10)\n",
      "shape after          : (150, 10)\n",
      "percentage loss      : 0.05063291139240506\n"
     ]
    }
   ],
   "source": [
    "print('Shape - before and after:\\n')\n",
    "print('shape before'.ljust(20),\":\",data1.shape)\n",
    "print('shape after'.ljust(20),\":\",data_new.shape)\n",
    "print('percentage loss'.ljust(20),\":\",(data1.shape[0]-data_new.shape[0])/data1.shape[0])"
   ]
  },
  {
   "cell_type": "markdown",
   "id": "3f6f0e3d",
   "metadata": {},
   "source": [
    "#### Apply zscore method helps us with less percentage loss when compared to IQR method"
   ]
  },
  {
   "cell_type": "code",
   "execution_count": 20,
   "id": "63e91e90",
   "metadata": {},
   "outputs": [
    {
     "data": {
      "text/html": [
       "<div>\n",
       "<style scoped>\n",
       "    .dataframe tbody tr th:only-of-type {\n",
       "        vertical-align: middle;\n",
       "    }\n",
       "\n",
       "    .dataframe tbody tr th {\n",
       "        vertical-align: top;\n",
       "    }\n",
       "\n",
       "    .dataframe thead th {\n",
       "        text-align: right;\n",
       "    }\n",
       "</style>\n",
       "<table border=\"1\" class=\"dataframe\">\n",
       "  <thead>\n",
       "    <tr style=\"text-align: right;\">\n",
       "      <th></th>\n",
       "      <th>Rank</th>\n",
       "      <th>Score</th>\n",
       "      <th>Error</th>\n",
       "      <th>Economy</th>\n",
       "      <th>Family</th>\n",
       "      <th>Life</th>\n",
       "      <th>Freedom</th>\n",
       "      <th>Trust</th>\n",
       "      <th>Generosity</th>\n",
       "      <th>Dystopia_Residual</th>\n",
       "    </tr>\n",
       "    <tr>\n",
       "      <th>Country</th>\n",
       "      <th></th>\n",
       "      <th></th>\n",
       "      <th></th>\n",
       "      <th></th>\n",
       "      <th></th>\n",
       "      <th></th>\n",
       "      <th></th>\n",
       "      <th></th>\n",
       "      <th></th>\n",
       "      <th></th>\n",
       "    </tr>\n",
       "  </thead>\n",
       "  <tbody>\n",
       "    <tr>\n",
       "      <th>Switzerland</th>\n",
       "      <td>1</td>\n",
       "      <td>7.587</td>\n",
       "      <td>0.03411</td>\n",
       "      <td>1.39651</td>\n",
       "      <td>1.34951</td>\n",
       "      <td>0.94143</td>\n",
       "      <td>0.66557</td>\n",
       "      <td>0.41978</td>\n",
       "      <td>0.29678</td>\n",
       "      <td>2.51738</td>\n",
       "    </tr>\n",
       "    <tr>\n",
       "      <th>Iceland</th>\n",
       "      <td>2</td>\n",
       "      <td>7.561</td>\n",
       "      <td>0.04884</td>\n",
       "      <td>1.30232</td>\n",
       "      <td>1.40223</td>\n",
       "      <td>0.94784</td>\n",
       "      <td>0.62877</td>\n",
       "      <td>0.14145</td>\n",
       "      <td>0.43630</td>\n",
       "      <td>2.70201</td>\n",
       "    </tr>\n",
       "    <tr>\n",
       "      <th>Denmark</th>\n",
       "      <td>3</td>\n",
       "      <td>7.527</td>\n",
       "      <td>0.03328</td>\n",
       "      <td>1.32548</td>\n",
       "      <td>1.36058</td>\n",
       "      <td>0.87464</td>\n",
       "      <td>0.64938</td>\n",
       "      <td>0.48357</td>\n",
       "      <td>0.34139</td>\n",
       "      <td>2.49204</td>\n",
       "    </tr>\n",
       "    <tr>\n",
       "      <th>Norway</th>\n",
       "      <td>4</td>\n",
       "      <td>7.522</td>\n",
       "      <td>0.03880</td>\n",
       "      <td>1.45900</td>\n",
       "      <td>1.33095</td>\n",
       "      <td>0.88521</td>\n",
       "      <td>0.66973</td>\n",
       "      <td>0.36503</td>\n",
       "      <td>0.34699</td>\n",
       "      <td>2.46531</td>\n",
       "    </tr>\n",
       "    <tr>\n",
       "      <th>Canada</th>\n",
       "      <td>5</td>\n",
       "      <td>7.427</td>\n",
       "      <td>0.03553</td>\n",
       "      <td>1.32629</td>\n",
       "      <td>1.32261</td>\n",
       "      <td>0.90563</td>\n",
       "      <td>0.63297</td>\n",
       "      <td>0.32957</td>\n",
       "      <td>0.45811</td>\n",
       "      <td>2.45176</td>\n",
       "    </tr>\n",
       "    <tr>\n",
       "      <th>...</th>\n",
       "      <td>...</td>\n",
       "      <td>...</td>\n",
       "      <td>...</td>\n",
       "      <td>...</td>\n",
       "      <td>...</td>\n",
       "      <td>...</td>\n",
       "      <td>...</td>\n",
       "      <td>...</td>\n",
       "      <td>...</td>\n",
       "      <td>...</td>\n",
       "    </tr>\n",
       "    <tr>\n",
       "      <th>Ivory Coast</th>\n",
       "      <td>151</td>\n",
       "      <td>3.655</td>\n",
       "      <td>0.05141</td>\n",
       "      <td>0.46534</td>\n",
       "      <td>0.77115</td>\n",
       "      <td>0.15185</td>\n",
       "      <td>0.46866</td>\n",
       "      <td>0.17922</td>\n",
       "      <td>0.20165</td>\n",
       "      <td>1.41723</td>\n",
       "    </tr>\n",
       "    <tr>\n",
       "      <th>Burkina Faso</th>\n",
       "      <td>152</td>\n",
       "      <td>3.587</td>\n",
       "      <td>0.04324</td>\n",
       "      <td>0.25812</td>\n",
       "      <td>0.85188</td>\n",
       "      <td>0.27125</td>\n",
       "      <td>0.39493</td>\n",
       "      <td>0.12832</td>\n",
       "      <td>0.21747</td>\n",
       "      <td>1.46494</td>\n",
       "    </tr>\n",
       "    <tr>\n",
       "      <th>Afghanistan</th>\n",
       "      <td>153</td>\n",
       "      <td>3.575</td>\n",
       "      <td>0.03084</td>\n",
       "      <td>0.31982</td>\n",
       "      <td>0.30285</td>\n",
       "      <td>0.30335</td>\n",
       "      <td>0.23414</td>\n",
       "      <td>0.09719</td>\n",
       "      <td>0.36510</td>\n",
       "      <td>1.95210</td>\n",
       "    </tr>\n",
       "    <tr>\n",
       "      <th>Benin</th>\n",
       "      <td>155</td>\n",
       "      <td>3.340</td>\n",
       "      <td>0.03656</td>\n",
       "      <td>0.28665</td>\n",
       "      <td>0.35386</td>\n",
       "      <td>0.31910</td>\n",
       "      <td>0.48450</td>\n",
       "      <td>0.08010</td>\n",
       "      <td>0.18260</td>\n",
       "      <td>1.63328</td>\n",
       "    </tr>\n",
       "    <tr>\n",
       "      <th>Burundi</th>\n",
       "      <td>157</td>\n",
       "      <td>2.905</td>\n",
       "      <td>0.08658</td>\n",
       "      <td>0.01530</td>\n",
       "      <td>0.41587</td>\n",
       "      <td>0.22396</td>\n",
       "      <td>0.11850</td>\n",
       "      <td>0.10062</td>\n",
       "      <td>0.19727</td>\n",
       "      <td>1.83302</td>\n",
       "    </tr>\n",
       "  </tbody>\n",
       "</table>\n",
       "<p>150 rows × 10 columns</p>\n",
       "</div>"
      ],
      "text/plain": [
       "              Rank  Score    Error  Economy   Family     Life  Freedom  \\\n",
       "Country                                                                  \n",
       "Switzerland      1  7.587  0.03411  1.39651  1.34951  0.94143  0.66557   \n",
       "Iceland          2  7.561  0.04884  1.30232  1.40223  0.94784  0.62877   \n",
       "Denmark          3  7.527  0.03328  1.32548  1.36058  0.87464  0.64938   \n",
       "Norway           4  7.522  0.03880  1.45900  1.33095  0.88521  0.66973   \n",
       "Canada           5  7.427  0.03553  1.32629  1.32261  0.90563  0.63297   \n",
       "...            ...    ...      ...      ...      ...      ...      ...   \n",
       "Ivory Coast    151  3.655  0.05141  0.46534  0.77115  0.15185  0.46866   \n",
       "Burkina Faso   152  3.587  0.04324  0.25812  0.85188  0.27125  0.39493   \n",
       "Afghanistan    153  3.575  0.03084  0.31982  0.30285  0.30335  0.23414   \n",
       "Benin          155  3.340  0.03656  0.28665  0.35386  0.31910  0.48450   \n",
       "Burundi        157  2.905  0.08658  0.01530  0.41587  0.22396  0.11850   \n",
       "\n",
       "                Trust  Generosity  Dystopia_Residual  \n",
       "Country                                               \n",
       "Switzerland   0.41978     0.29678            2.51738  \n",
       "Iceland       0.14145     0.43630            2.70201  \n",
       "Denmark       0.48357     0.34139            2.49204  \n",
       "Norway        0.36503     0.34699            2.46531  \n",
       "Canada        0.32957     0.45811            2.45176  \n",
       "...               ...         ...                ...  \n",
       "Ivory Coast   0.17922     0.20165            1.41723  \n",
       "Burkina Faso  0.12832     0.21747            1.46494  \n",
       "Afghanistan   0.09719     0.36510            1.95210  \n",
       "Benin         0.08010     0.18260            1.63328  \n",
       "Burundi       0.10062     0.19727            1.83302  \n",
       "\n",
       "[150 rows x 10 columns]"
      ]
     },
     "execution_count": 20,
     "metadata": {},
     "output_type": "execute_result"
    }
   ],
   "source": [
    "data_new"
   ]
  },
  {
   "cell_type": "code",
   "execution_count": 21,
   "id": "a88ae0db",
   "metadata": {},
   "outputs": [
    {
     "data": {
      "image/png": "[encoded data removed]",
      "text/plain": [
       "<Figure size 864x720 with 2 Axes>"
      ]
     },
     "metadata": {
      "needs_background": "light"
     },
     "output_type": "display_data"
    }
   ],
   "source": [
    "data_corr = data_new.corr().abs() #to get the correlation values\n",
    "plt.figure(figsize=(12,10))\n",
    "sns.heatmap(data_corr,vmin=-1,vmax=1,annot=True,square=True,center=0,fmt='.1g',linewidth=0.1)\n",
    "plt.tight_layout()"
   ]
  },
  {
   "cell_type": "code",
   "execution_count": 22,
   "id": "76d9806c",
   "metadata": {},
   "outputs": [],
   "source": [
    "df = data_new.drop(columns = 'Rank')"
   ]
  },
  {
   "cell_type": "code",
   "execution_count": 23,
   "id": "f59fa10e",
   "metadata": {},
   "outputs": [
    {
     "data": {
      "text/html": [
       "<div>\n",
       "<style scoped>\n",
       "    .dataframe tbody tr th:only-of-type {\n",
       "        vertical-align: middle;\n",
       "    }\n",
       "\n",
       "    .dataframe tbody tr th {\n",
       "        vertical-align: top;\n",
       "    }\n",
       "\n",
       "    .dataframe thead th {\n",
       "        text-align: right;\n",
       "    }\n",
       "</style>\n",
       "<table border=\"1\" class=\"dataframe\">\n",
       "  <thead>\n",
       "    <tr style=\"text-align: right;\">\n",
       "      <th></th>\n",
       "      <th>Score</th>\n",
       "      <th>Error</th>\n",
       "      <th>Economy</th>\n",
       "      <th>Family</th>\n",
       "      <th>Life</th>\n",
       "      <th>Freedom</th>\n",
       "      <th>Trust</th>\n",
       "      <th>Generosity</th>\n",
       "      <th>Dystopia_Residual</th>\n",
       "    </tr>\n",
       "    <tr>\n",
       "      <th>Country</th>\n",
       "      <th></th>\n",
       "      <th></th>\n",
       "      <th></th>\n",
       "      <th></th>\n",
       "      <th></th>\n",
       "      <th></th>\n",
       "      <th></th>\n",
       "      <th></th>\n",
       "      <th></th>\n",
       "    </tr>\n",
       "  </thead>\n",
       "  <tbody>\n",
       "    <tr>\n",
       "      <th>Switzerland</th>\n",
       "      <td>7.587</td>\n",
       "      <td>0.03411</td>\n",
       "      <td>1.39651</td>\n",
       "      <td>1.34951</td>\n",
       "      <td>0.94143</td>\n",
       "      <td>0.66557</td>\n",
       "      <td>0.41978</td>\n",
       "      <td>0.29678</td>\n",
       "      <td>2.51738</td>\n",
       "    </tr>\n",
       "    <tr>\n",
       "      <th>Iceland</th>\n",
       "      <td>7.561</td>\n",
       "      <td>0.04884</td>\n",
       "      <td>1.30232</td>\n",
       "      <td>1.40223</td>\n",
       "      <td>0.94784</td>\n",
       "      <td>0.62877</td>\n",
       "      <td>0.14145</td>\n",
       "      <td>0.43630</td>\n",
       "      <td>2.70201</td>\n",
       "    </tr>\n",
       "    <tr>\n",
       "      <th>Denmark</th>\n",
       "      <td>7.527</td>\n",
       "      <td>0.03328</td>\n",
       "      <td>1.32548</td>\n",
       "      <td>1.36058</td>\n",
       "      <td>0.87464</td>\n",
       "      <td>0.64938</td>\n",
       "      <td>0.48357</td>\n",
       "      <td>0.34139</td>\n",
       "      <td>2.49204</td>\n",
       "    </tr>\n",
       "    <tr>\n",
       "      <th>Norway</th>\n",
       "      <td>7.522</td>\n",
       "      <td>0.03880</td>\n",
       "      <td>1.45900</td>\n",
       "      <td>1.33095</td>\n",
       "      <td>0.88521</td>\n",
       "      <td>0.66973</td>\n",
       "      <td>0.36503</td>\n",
       "      <td>0.34699</td>\n",
       "      <td>2.46531</td>\n",
       "    </tr>\n",
       "    <tr>\n",
       "      <th>Canada</th>\n",
       "      <td>7.427</td>\n",
       "      <td>0.03553</td>\n",
       "      <td>1.32629</td>\n",
       "      <td>1.32261</td>\n",
       "      <td>0.90563</td>\n",
       "      <td>0.63297</td>\n",
       "      <td>0.32957</td>\n",
       "      <td>0.45811</td>\n",
       "      <td>2.45176</td>\n",
       "    </tr>\n",
       "    <tr>\n",
       "      <th>...</th>\n",
       "      <td>...</td>\n",
       "      <td>...</td>\n",
       "      <td>...</td>\n",
       "      <td>...</td>\n",
       "      <td>...</td>\n",
       "      <td>...</td>\n",
       "      <td>...</td>\n",
       "      <td>...</td>\n",
       "      <td>...</td>\n",
       "    </tr>\n",
       "    <tr>\n",
       "      <th>Ivory Coast</th>\n",
       "      <td>3.655</td>\n",
       "      <td>0.05141</td>\n",
       "      <td>0.46534</td>\n",
       "      <td>0.77115</td>\n",
       "      <td>0.15185</td>\n",
       "      <td>0.46866</td>\n",
       "      <td>0.17922</td>\n",
       "      <td>0.20165</td>\n",
       "      <td>1.41723</td>\n",
       "    </tr>\n",
       "    <tr>\n",
       "      <th>Burkina Faso</th>\n",
       "      <td>3.587</td>\n",
       "      <td>0.04324</td>\n",
       "      <td>0.25812</td>\n",
       "      <td>0.85188</td>\n",
       "      <td>0.27125</td>\n",
       "      <td>0.39493</td>\n",
       "      <td>0.12832</td>\n",
       "      <td>0.21747</td>\n",
       "      <td>1.46494</td>\n",
       "    </tr>\n",
       "    <tr>\n",
       "      <th>Afghanistan</th>\n",
       "      <td>3.575</td>\n",
       "      <td>0.03084</td>\n",
       "      <td>0.31982</td>\n",
       "      <td>0.30285</td>\n",
       "      <td>0.30335</td>\n",
       "      <td>0.23414</td>\n",
       "      <td>0.09719</td>\n",
       "      <td>0.36510</td>\n",
       "      <td>1.95210</td>\n",
       "    </tr>\n",
       "    <tr>\n",
       "      <th>Benin</th>\n",
       "      <td>3.340</td>\n",
       "      <td>0.03656</td>\n",
       "      <td>0.28665</td>\n",
       "      <td>0.35386</td>\n",
       "      <td>0.31910</td>\n",
       "      <td>0.48450</td>\n",
       "      <td>0.08010</td>\n",
       "      <td>0.18260</td>\n",
       "      <td>1.63328</td>\n",
       "    </tr>\n",
       "    <tr>\n",
       "      <th>Burundi</th>\n",
       "      <td>2.905</td>\n",
       "      <td>0.08658</td>\n",
       "      <td>0.01530</td>\n",
       "      <td>0.41587</td>\n",
       "      <td>0.22396</td>\n",
       "      <td>0.11850</td>\n",
       "      <td>0.10062</td>\n",
       "      <td>0.19727</td>\n",
       "      <td>1.83302</td>\n",
       "    </tr>\n",
       "  </tbody>\n",
       "</table>\n",
       "<p>150 rows × 9 columns</p>\n",
       "</div>"
      ],
      "text/plain": [
       "              Score    Error  Economy   Family     Life  Freedom    Trust  \\\n",
       "Country                                                                     \n",
       "Switzerland   7.587  0.03411  1.39651  1.34951  0.94143  0.66557  0.41978   \n",
       "Iceland       7.561  0.04884  1.30232  1.40223  0.94784  0.62877  0.14145   \n",
       "Denmark       7.527  0.03328  1.32548  1.36058  0.87464  0.64938  0.48357   \n",
       "Norway        7.522  0.03880  1.45900  1.33095  0.88521  0.66973  0.36503   \n",
       "Canada        7.427  0.03553  1.32629  1.32261  0.90563  0.63297  0.32957   \n",
       "...             ...      ...      ...      ...      ...      ...      ...   \n",
       "Ivory Coast   3.655  0.05141  0.46534  0.77115  0.15185  0.46866  0.17922   \n",
       "Burkina Faso  3.587  0.04324  0.25812  0.85188  0.27125  0.39493  0.12832   \n",
       "Afghanistan   3.575  0.03084  0.31982  0.30285  0.30335  0.23414  0.09719   \n",
       "Benin         3.340  0.03656  0.28665  0.35386  0.31910  0.48450  0.08010   \n",
       "Burundi       2.905  0.08658  0.01530  0.41587  0.22396  0.11850  0.10062   \n",
       "\n",
       "              Generosity  Dystopia_Residual  \n",
       "Country                                      \n",
       "Switzerland      0.29678            2.51738  \n",
       "Iceland          0.43630            2.70201  \n",
       "Denmark          0.34139            2.49204  \n",
       "Norway           0.34699            2.46531  \n",
       "Canada           0.45811            2.45176  \n",
       "...                  ...                ...  \n",
       "Ivory Coast      0.20165            1.41723  \n",
       "Burkina Faso     0.21747            1.46494  \n",
       "Afghanistan      0.36510            1.95210  \n",
       "Benin            0.18260            1.63328  \n",
       "Burundi          0.19727            1.83302  \n",
       "\n",
       "[150 rows x 9 columns]"
      ]
     },
     "execution_count": 23,
     "metadata": {},
     "output_type": "execute_result"
    }
   ],
   "source": [
    "df"
   ]
  },
  {
   "cell_type": "code",
   "execution_count": 24,
   "id": "25c4d67d",
   "metadata": {},
   "outputs": [],
   "source": [
    "Region = data['Region']"
   ]
  },
  {
   "cell_type": "code",
   "execution_count": 25,
   "id": "a2bc1d11",
   "metadata": {},
   "outputs": [
    {
     "data": {
      "text/html": [
       "<div>\n",
       "<style scoped>\n",
       "    .dataframe tbody tr th:only-of-type {\n",
       "        vertical-align: middle;\n",
       "    }\n",
       "\n",
       "    .dataframe tbody tr th {\n",
       "        vertical-align: top;\n",
       "    }\n",
       "\n",
       "    .dataframe thead th {\n",
       "        text-align: right;\n",
       "    }\n",
       "</style>\n",
       "<table border=\"1\" class=\"dataframe\">\n",
       "  <thead>\n",
       "    <tr style=\"text-align: right;\">\n",
       "      <th></th>\n",
       "      <th>Score</th>\n",
       "      <th>Error</th>\n",
       "      <th>Economy</th>\n",
       "      <th>Family</th>\n",
       "      <th>Life</th>\n",
       "      <th>Freedom</th>\n",
       "      <th>Trust</th>\n",
       "      <th>Generosity</th>\n",
       "      <th>Dystopia_Residual</th>\n",
       "      <th>Region</th>\n",
       "    </tr>\n",
       "    <tr>\n",
       "      <th>Country</th>\n",
       "      <th></th>\n",
       "      <th></th>\n",
       "      <th></th>\n",
       "      <th></th>\n",
       "      <th></th>\n",
       "      <th></th>\n",
       "      <th></th>\n",
       "      <th></th>\n",
       "      <th></th>\n",
       "      <th></th>\n",
       "    </tr>\n",
       "  </thead>\n",
       "  <tbody>\n",
       "    <tr>\n",
       "      <th>Switzerland</th>\n",
       "      <td>7.587</td>\n",
       "      <td>0.03411</td>\n",
       "      <td>1.39651</td>\n",
       "      <td>1.34951</td>\n",
       "      <td>0.94143</td>\n",
       "      <td>0.66557</td>\n",
       "      <td>0.41978</td>\n",
       "      <td>0.29678</td>\n",
       "      <td>2.51738</td>\n",
       "      <td>Western Europe</td>\n",
       "    </tr>\n",
       "    <tr>\n",
       "      <th>Iceland</th>\n",
       "      <td>7.561</td>\n",
       "      <td>0.04884</td>\n",
       "      <td>1.30232</td>\n",
       "      <td>1.40223</td>\n",
       "      <td>0.94784</td>\n",
       "      <td>0.62877</td>\n",
       "      <td>0.14145</td>\n",
       "      <td>0.43630</td>\n",
       "      <td>2.70201</td>\n",
       "      <td>Western Europe</td>\n",
       "    </tr>\n",
       "    <tr>\n",
       "      <th>Denmark</th>\n",
       "      <td>7.527</td>\n",
       "      <td>0.03328</td>\n",
       "      <td>1.32548</td>\n",
       "      <td>1.36058</td>\n",
       "      <td>0.87464</td>\n",
       "      <td>0.64938</td>\n",
       "      <td>0.48357</td>\n",
       "      <td>0.34139</td>\n",
       "      <td>2.49204</td>\n",
       "      <td>Western Europe</td>\n",
       "    </tr>\n",
       "    <tr>\n",
       "      <th>Norway</th>\n",
       "      <td>7.522</td>\n",
       "      <td>0.03880</td>\n",
       "      <td>1.45900</td>\n",
       "      <td>1.33095</td>\n",
       "      <td>0.88521</td>\n",
       "      <td>0.66973</td>\n",
       "      <td>0.36503</td>\n",
       "      <td>0.34699</td>\n",
       "      <td>2.46531</td>\n",
       "      <td>Western Europe</td>\n",
       "    </tr>\n",
       "    <tr>\n",
       "      <th>Canada</th>\n",
       "      <td>7.427</td>\n",
       "      <td>0.03553</td>\n",
       "      <td>1.32629</td>\n",
       "      <td>1.32261</td>\n",
       "      <td>0.90563</td>\n",
       "      <td>0.63297</td>\n",
       "      <td>0.32957</td>\n",
       "      <td>0.45811</td>\n",
       "      <td>2.45176</td>\n",
       "      <td>North America</td>\n",
       "    </tr>\n",
       "    <tr>\n",
       "      <th>...</th>\n",
       "      <td>...</td>\n",
       "      <td>...</td>\n",
       "      <td>...</td>\n",
       "      <td>...</td>\n",
       "      <td>...</td>\n",
       "      <td>...</td>\n",
       "      <td>...</td>\n",
       "      <td>...</td>\n",
       "      <td>...</td>\n",
       "      <td>...</td>\n",
       "    </tr>\n",
       "    <tr>\n",
       "      <th>Ivory Coast</th>\n",
       "      <td>3.655</td>\n",
       "      <td>0.05141</td>\n",
       "      <td>0.46534</td>\n",
       "      <td>0.77115</td>\n",
       "      <td>0.15185</td>\n",
       "      <td>0.46866</td>\n",
       "      <td>0.17922</td>\n",
       "      <td>0.20165</td>\n",
       "      <td>1.41723</td>\n",
       "      <td>Sub-Saharan Africa</td>\n",
       "    </tr>\n",
       "    <tr>\n",
       "      <th>Burkina Faso</th>\n",
       "      <td>3.587</td>\n",
       "      <td>0.04324</td>\n",
       "      <td>0.25812</td>\n",
       "      <td>0.85188</td>\n",
       "      <td>0.27125</td>\n",
       "      <td>0.39493</td>\n",
       "      <td>0.12832</td>\n",
       "      <td>0.21747</td>\n",
       "      <td>1.46494</td>\n",
       "      <td>Sub-Saharan Africa</td>\n",
       "    </tr>\n",
       "    <tr>\n",
       "      <th>Afghanistan</th>\n",
       "      <td>3.575</td>\n",
       "      <td>0.03084</td>\n",
       "      <td>0.31982</td>\n",
       "      <td>0.30285</td>\n",
       "      <td>0.30335</td>\n",
       "      <td>0.23414</td>\n",
       "      <td>0.09719</td>\n",
       "      <td>0.36510</td>\n",
       "      <td>1.95210</td>\n",
       "      <td>Southern Asia</td>\n",
       "    </tr>\n",
       "    <tr>\n",
       "      <th>Benin</th>\n",
       "      <td>3.340</td>\n",
       "      <td>0.03656</td>\n",
       "      <td>0.28665</td>\n",
       "      <td>0.35386</td>\n",
       "      <td>0.31910</td>\n",
       "      <td>0.48450</td>\n",
       "      <td>0.08010</td>\n",
       "      <td>0.18260</td>\n",
       "      <td>1.63328</td>\n",
       "      <td>Sub-Saharan Africa</td>\n",
       "    </tr>\n",
       "    <tr>\n",
       "      <th>Burundi</th>\n",
       "      <td>2.905</td>\n",
       "      <td>0.08658</td>\n",
       "      <td>0.01530</td>\n",
       "      <td>0.41587</td>\n",
       "      <td>0.22396</td>\n",
       "      <td>0.11850</td>\n",
       "      <td>0.10062</td>\n",
       "      <td>0.19727</td>\n",
       "      <td>1.83302</td>\n",
       "      <td>Sub-Saharan Africa</td>\n",
       "    </tr>\n",
       "  </tbody>\n",
       "</table>\n",
       "<p>150 rows × 10 columns</p>\n",
       "</div>"
      ],
      "text/plain": [
       "              Score    Error  Economy   Family     Life  Freedom    Trust  \\\n",
       "Country                                                                     \n",
       "Switzerland   7.587  0.03411  1.39651  1.34951  0.94143  0.66557  0.41978   \n",
       "Iceland       7.561  0.04884  1.30232  1.40223  0.94784  0.62877  0.14145   \n",
       "Denmark       7.527  0.03328  1.32548  1.36058  0.87464  0.64938  0.48357   \n",
       "Norway        7.522  0.03880  1.45900  1.33095  0.88521  0.66973  0.36503   \n",
       "Canada        7.427  0.03553  1.32629  1.32261  0.90563  0.63297  0.32957   \n",
       "...             ...      ...      ...      ...      ...      ...      ...   \n",
       "Ivory Coast   3.655  0.05141  0.46534  0.77115  0.15185  0.46866  0.17922   \n",
       "Burkina Faso  3.587  0.04324  0.25812  0.85188  0.27125  0.39493  0.12832   \n",
       "Afghanistan   3.575  0.03084  0.31982  0.30285  0.30335  0.23414  0.09719   \n",
       "Benin         3.340  0.03656  0.28665  0.35386  0.31910  0.48450  0.08010   \n",
       "Burundi       2.905  0.08658  0.01530  0.41587  0.22396  0.11850  0.10062   \n",
       "\n",
       "              Generosity  Dystopia_Residual              Region  \n",
       "Country                                                          \n",
       "Switzerland      0.29678            2.51738      Western Europe  \n",
       "Iceland          0.43630            2.70201      Western Europe  \n",
       "Denmark          0.34139            2.49204      Western Europe  \n",
       "Norway           0.34699            2.46531      Western Europe  \n",
       "Canada           0.45811            2.45176       North America  \n",
       "...                  ...                ...                 ...  \n",
       "Ivory Coast      0.20165            1.41723  Sub-Saharan Africa  \n",
       "Burkina Faso     0.21747            1.46494  Sub-Saharan Africa  \n",
       "Afghanistan      0.36510            1.95210       Southern Asia  \n",
       "Benin            0.18260            1.63328  Sub-Saharan Africa  \n",
       "Burundi          0.19727            1.83302  Sub-Saharan Africa  \n",
       "\n",
       "[150 rows x 10 columns]"
      ]
     },
     "execution_count": 25,
     "metadata": {},
     "output_type": "execute_result"
    }
   ],
   "source": [
    "df_new = pd.concat([df, Region], axis=1, join=\"inner\")\n",
    "df_new"
   ]
  },
  {
   "cell_type": "markdown",
   "id": "bce0dbfe",
   "metadata": {},
   "source": [
    "#### Encode the categorical variables\n"
   ]
  },
  {
   "cell_type": "code",
   "execution_count": 26,
   "id": "b2011251",
   "metadata": {},
   "outputs": [
    {
     "name": "stdout",
     "output_type": "stream",
     "text": [
      "Requirement already satisfied: category_encoders in c:\\users\\91977\\anaconda3\\lib\\site-packages (2.2.2)Note: you may need to restart the kernel to use updated packages.\n",
      "Requirement already satisfied: scipy>=1.0.0 in c:\\users\\91977\\anaconda3\\lib\\site-packages (from category_encoders) (1.6.2)\n",
      "Requirement already satisfied: pandas>=0.21.1 in c:\\users\\91977\\anaconda3\\lib\\site-packages (from category_encoders) (1.2.4)\n",
      "Requirement already satisfied: scikit-learn>=0.20.0 in c:\\users\\91977\\anaconda3\\lib\\site-packages (from category_encoders) (0.24.1)\n",
      "Requirement already satisfied: patsy>=0.5.1 in c:\\users\\91977\\anaconda3\\lib\\site-packages (from category_encoders) (0.5.1)\n",
      "Requirement already satisfied: numpy>=1.14.0 in c:\\users\\91977\\anaconda3\\lib\\site-packages (from category_encoders) (1.20.1)\n",
      "Requirement already satisfied: statsmodels>=0.9.0 in c:\\users\\91977\\anaconda3\\lib\\site-packages (from category_encoders) (0.12.2)\n",
      "Requirement already satisfied: pytz>=2017.3 in c:\\users\\91977\\anaconda3\\lib\\site-packages (from pandas>=0.21.1->category_encoders) (2021.1)\n",
      "Requirement already satisfied: python-dateutil>=2.7.3 in c:\\users\\91977\\anaconda3\\lib\\site-packages (from pandas>=0.21.1->category_encoders) (2.8.1)\n",
      "Requirement already satisfied: six in c:\\users\\91977\\anaconda3\\lib\\site-packages (from patsy>=0.5.1->category_encoders) (1.15.0)\n",
      "Requirement already satisfied: threadpoolctl>=2.0.0 in c:\\users\\91977\\anaconda3\\lib\\site-packages (from scikit-learn>=0.20.0->category_encoders) (2.1.0)\n",
      "Requirement already satisfied: joblib>=0.11 in c:\\users\\91977\\anaconda3\\lib\\site-packages (from scikit-learn>=0.20.0->category_encoders) (1.0.1)\n",
      "\n"
     ]
    }
   ],
   "source": [
    "pip install category_encoders"
   ]
  },
  {
   "cell_type": "code",
   "execution_count": 27,
   "id": "92487816",
   "metadata": {},
   "outputs": [
    {
     "data": {
      "text/html": [
       "<div>\n",
       "<style scoped>\n",
       "    .dataframe tbody tr th:only-of-type {\n",
       "        vertical-align: middle;\n",
       "    }\n",
       "\n",
       "    .dataframe tbody tr th {\n",
       "        vertical-align: top;\n",
       "    }\n",
       "\n",
       "    .dataframe thead th {\n",
       "        text-align: right;\n",
       "    }\n",
       "</style>\n",
       "<table border=\"1\" class=\"dataframe\">\n",
       "  <thead>\n",
       "    <tr style=\"text-align: right;\">\n",
       "      <th></th>\n",
       "      <th>Score</th>\n",
       "      <th>Error</th>\n",
       "      <th>Economy</th>\n",
       "      <th>Family</th>\n",
       "      <th>Life</th>\n",
       "      <th>Freedom</th>\n",
       "      <th>Trust</th>\n",
       "      <th>Generosity</th>\n",
       "      <th>Dystopia_Residual</th>\n",
       "      <th>Region_Western Europe</th>\n",
       "      <th>Region_North America</th>\n",
       "      <th>Region_Australia and New Zealand</th>\n",
       "      <th>Region_Middle East and Northern Africa</th>\n",
       "      <th>Region_Latin America and Caribbean</th>\n",
       "      <th>Region_Southeastern Asia</th>\n",
       "      <th>Region_Central and Eastern Europe</th>\n",
       "      <th>Region_Eastern Asia</th>\n",
       "      <th>Region_Sub-Saharan Africa</th>\n",
       "      <th>Region_Southern Asia</th>\n",
       "    </tr>\n",
       "    <tr>\n",
       "      <th>Country</th>\n",
       "      <th></th>\n",
       "      <th></th>\n",
       "      <th></th>\n",
       "      <th></th>\n",
       "      <th></th>\n",
       "      <th></th>\n",
       "      <th></th>\n",
       "      <th></th>\n",
       "      <th></th>\n",
       "      <th></th>\n",
       "      <th></th>\n",
       "      <th></th>\n",
       "      <th></th>\n",
       "      <th></th>\n",
       "      <th></th>\n",
       "      <th></th>\n",
       "      <th></th>\n",
       "      <th></th>\n",
       "      <th></th>\n",
       "    </tr>\n",
       "  </thead>\n",
       "  <tbody>\n",
       "    <tr>\n",
       "      <th>Switzerland</th>\n",
       "      <td>7.587</td>\n",
       "      <td>0.03411</td>\n",
       "      <td>1.39651</td>\n",
       "      <td>1.34951</td>\n",
       "      <td>0.94143</td>\n",
       "      <td>0.66557</td>\n",
       "      <td>0.41978</td>\n",
       "      <td>0.29678</td>\n",
       "      <td>2.51738</td>\n",
       "      <td>1</td>\n",
       "      <td>0</td>\n",
       "      <td>0</td>\n",
       "      <td>0</td>\n",
       "      <td>0</td>\n",
       "      <td>0</td>\n",
       "      <td>0</td>\n",
       "      <td>0</td>\n",
       "      <td>0</td>\n",
       "      <td>0</td>\n",
       "    </tr>\n",
       "    <tr>\n",
       "      <th>Iceland</th>\n",
       "      <td>7.561</td>\n",
       "      <td>0.04884</td>\n",
       "      <td>1.30232</td>\n",
       "      <td>1.40223</td>\n",
       "      <td>0.94784</td>\n",
       "      <td>0.62877</td>\n",
       "      <td>0.14145</td>\n",
       "      <td>0.43630</td>\n",
       "      <td>2.70201</td>\n",
       "      <td>1</td>\n",
       "      <td>0</td>\n",
       "      <td>0</td>\n",
       "      <td>0</td>\n",
       "      <td>0</td>\n",
       "      <td>0</td>\n",
       "      <td>0</td>\n",
       "      <td>0</td>\n",
       "      <td>0</td>\n",
       "      <td>0</td>\n",
       "    </tr>\n",
       "    <tr>\n",
       "      <th>Denmark</th>\n",
       "      <td>7.527</td>\n",
       "      <td>0.03328</td>\n",
       "      <td>1.32548</td>\n",
       "      <td>1.36058</td>\n",
       "      <td>0.87464</td>\n",
       "      <td>0.64938</td>\n",
       "      <td>0.48357</td>\n",
       "      <td>0.34139</td>\n",
       "      <td>2.49204</td>\n",
       "      <td>1</td>\n",
       "      <td>0</td>\n",
       "      <td>0</td>\n",
       "      <td>0</td>\n",
       "      <td>0</td>\n",
       "      <td>0</td>\n",
       "      <td>0</td>\n",
       "      <td>0</td>\n",
       "      <td>0</td>\n",
       "      <td>0</td>\n",
       "    </tr>\n",
       "    <tr>\n",
       "      <th>Norway</th>\n",
       "      <td>7.522</td>\n",
       "      <td>0.03880</td>\n",
       "      <td>1.45900</td>\n",
       "      <td>1.33095</td>\n",
       "      <td>0.88521</td>\n",
       "      <td>0.66973</td>\n",
       "      <td>0.36503</td>\n",
       "      <td>0.34699</td>\n",
       "      <td>2.46531</td>\n",
       "      <td>1</td>\n",
       "      <td>0</td>\n",
       "      <td>0</td>\n",
       "      <td>0</td>\n",
       "      <td>0</td>\n",
       "      <td>0</td>\n",
       "      <td>0</td>\n",
       "      <td>0</td>\n",
       "      <td>0</td>\n",
       "      <td>0</td>\n",
       "    </tr>\n",
       "    <tr>\n",
       "      <th>Canada</th>\n",
       "      <td>7.427</td>\n",
       "      <td>0.03553</td>\n",
       "      <td>1.32629</td>\n",
       "      <td>1.32261</td>\n",
       "      <td>0.90563</td>\n",
       "      <td>0.63297</td>\n",
       "      <td>0.32957</td>\n",
       "      <td>0.45811</td>\n",
       "      <td>2.45176</td>\n",
       "      <td>0</td>\n",
       "      <td>1</td>\n",
       "      <td>0</td>\n",
       "      <td>0</td>\n",
       "      <td>0</td>\n",
       "      <td>0</td>\n",
       "      <td>0</td>\n",
       "      <td>0</td>\n",
       "      <td>0</td>\n",
       "      <td>0</td>\n",
       "    </tr>\n",
       "    <tr>\n",
       "      <th>...</th>\n",
       "      <td>...</td>\n",
       "      <td>...</td>\n",
       "      <td>...</td>\n",
       "      <td>...</td>\n",
       "      <td>...</td>\n",
       "      <td>...</td>\n",
       "      <td>...</td>\n",
       "      <td>...</td>\n",
       "      <td>...</td>\n",
       "      <td>...</td>\n",
       "      <td>...</td>\n",
       "      <td>...</td>\n",
       "      <td>...</td>\n",
       "      <td>...</td>\n",
       "      <td>...</td>\n",
       "      <td>...</td>\n",
       "      <td>...</td>\n",
       "      <td>...</td>\n",
       "      <td>...</td>\n",
       "    </tr>\n",
       "    <tr>\n",
       "      <th>Ivory Coast</th>\n",
       "      <td>3.655</td>\n",
       "      <td>0.05141</td>\n",
       "      <td>0.46534</td>\n",
       "      <td>0.77115</td>\n",
       "      <td>0.15185</td>\n",
       "      <td>0.46866</td>\n",
       "      <td>0.17922</td>\n",
       "      <td>0.20165</td>\n",
       "      <td>1.41723</td>\n",
       "      <td>0</td>\n",
       "      <td>0</td>\n",
       "      <td>0</td>\n",
       "      <td>0</td>\n",
       "      <td>0</td>\n",
       "      <td>0</td>\n",
       "      <td>0</td>\n",
       "      <td>0</td>\n",
       "      <td>1</td>\n",
       "      <td>0</td>\n",
       "    </tr>\n",
       "    <tr>\n",
       "      <th>Burkina Faso</th>\n",
       "      <td>3.587</td>\n",
       "      <td>0.04324</td>\n",
       "      <td>0.25812</td>\n",
       "      <td>0.85188</td>\n",
       "      <td>0.27125</td>\n",
       "      <td>0.39493</td>\n",
       "      <td>0.12832</td>\n",
       "      <td>0.21747</td>\n",
       "      <td>1.46494</td>\n",
       "      <td>0</td>\n",
       "      <td>0</td>\n",
       "      <td>0</td>\n",
       "      <td>0</td>\n",
       "      <td>0</td>\n",
       "      <td>0</td>\n",
       "      <td>0</td>\n",
       "      <td>0</td>\n",
       "      <td>1</td>\n",
       "      <td>0</td>\n",
       "    </tr>\n",
       "    <tr>\n",
       "      <th>Afghanistan</th>\n",
       "      <td>3.575</td>\n",
       "      <td>0.03084</td>\n",
       "      <td>0.31982</td>\n",
       "      <td>0.30285</td>\n",
       "      <td>0.30335</td>\n",
       "      <td>0.23414</td>\n",
       "      <td>0.09719</td>\n",
       "      <td>0.36510</td>\n",
       "      <td>1.95210</td>\n",
       "      <td>0</td>\n",
       "      <td>0</td>\n",
       "      <td>0</td>\n",
       "      <td>0</td>\n",
       "      <td>0</td>\n",
       "      <td>0</td>\n",
       "      <td>0</td>\n",
       "      <td>0</td>\n",
       "      <td>0</td>\n",
       "      <td>1</td>\n",
       "    </tr>\n",
       "    <tr>\n",
       "      <th>Benin</th>\n",
       "      <td>3.340</td>\n",
       "      <td>0.03656</td>\n",
       "      <td>0.28665</td>\n",
       "      <td>0.35386</td>\n",
       "      <td>0.31910</td>\n",
       "      <td>0.48450</td>\n",
       "      <td>0.08010</td>\n",
       "      <td>0.18260</td>\n",
       "      <td>1.63328</td>\n",
       "      <td>0</td>\n",
       "      <td>0</td>\n",
       "      <td>0</td>\n",
       "      <td>0</td>\n",
       "      <td>0</td>\n",
       "      <td>0</td>\n",
       "      <td>0</td>\n",
       "      <td>0</td>\n",
       "      <td>1</td>\n",
       "      <td>0</td>\n",
       "    </tr>\n",
       "    <tr>\n",
       "      <th>Burundi</th>\n",
       "      <td>2.905</td>\n",
       "      <td>0.08658</td>\n",
       "      <td>0.01530</td>\n",
       "      <td>0.41587</td>\n",
       "      <td>0.22396</td>\n",
       "      <td>0.11850</td>\n",
       "      <td>0.10062</td>\n",
       "      <td>0.19727</td>\n",
       "      <td>1.83302</td>\n",
       "      <td>0</td>\n",
       "      <td>0</td>\n",
       "      <td>0</td>\n",
       "      <td>0</td>\n",
       "      <td>0</td>\n",
       "      <td>0</td>\n",
       "      <td>0</td>\n",
       "      <td>0</td>\n",
       "      <td>1</td>\n",
       "      <td>0</td>\n",
       "    </tr>\n",
       "  </tbody>\n",
       "</table>\n",
       "<p>150 rows × 19 columns</p>\n",
       "</div>"
      ],
      "text/plain": [
       "              Score    Error  Economy   Family     Life  Freedom    Trust  \\\n",
       "Country                                                                     \n",
       "Switzerland   7.587  0.03411  1.39651  1.34951  0.94143  0.66557  0.41978   \n",
       "Iceland       7.561  0.04884  1.30232  1.40223  0.94784  0.62877  0.14145   \n",
       "Denmark       7.527  0.03328  1.32548  1.36058  0.87464  0.64938  0.48357   \n",
       "Norway        7.522  0.03880  1.45900  1.33095  0.88521  0.66973  0.36503   \n",
       "Canada        7.427  0.03553  1.32629  1.32261  0.90563  0.63297  0.32957   \n",
       "...             ...      ...      ...      ...      ...      ...      ...   \n",
       "Ivory Coast   3.655  0.05141  0.46534  0.77115  0.15185  0.46866  0.17922   \n",
       "Burkina Faso  3.587  0.04324  0.25812  0.85188  0.27125  0.39493  0.12832   \n",
       "Afghanistan   3.575  0.03084  0.31982  0.30285  0.30335  0.23414  0.09719   \n",
       "Benin         3.340  0.03656  0.28665  0.35386  0.31910  0.48450  0.08010   \n",
       "Burundi       2.905  0.08658  0.01530  0.41587  0.22396  0.11850  0.10062   \n",
       "\n",
       "              Generosity  Dystopia_Residual  Region_Western Europe  \\\n",
       "Country                                                              \n",
       "Switzerland      0.29678            2.51738                      1   \n",
       "Iceland          0.43630            2.70201                      1   \n",
       "Denmark          0.34139            2.49204                      1   \n",
       "Norway           0.34699            2.46531                      1   \n",
       "Canada           0.45811            2.45176                      0   \n",
       "...                  ...                ...                    ...   \n",
       "Ivory Coast      0.20165            1.41723                      0   \n",
       "Burkina Faso     0.21747            1.46494                      0   \n",
       "Afghanistan      0.36510            1.95210                      0   \n",
       "Benin            0.18260            1.63328                      0   \n",
       "Burundi          0.19727            1.83302                      0   \n",
       "\n",
       "              Region_North America  Region_Australia and New Zealand  \\\n",
       "Country                                                                \n",
       "Switzerland                      0                                 0   \n",
       "Iceland                          0                                 0   \n",
       "Denmark                          0                                 0   \n",
       "Norway                           0                                 0   \n",
       "Canada                           1                                 0   \n",
       "...                            ...                               ...   \n",
       "Ivory Coast                      0                                 0   \n",
       "Burkina Faso                     0                                 0   \n",
       "Afghanistan                      0                                 0   \n",
       "Benin                            0                                 0   \n",
       "Burundi                          0                                 0   \n",
       "\n",
       "              Region_Middle East and Northern Africa  \\\n",
       "Country                                                \n",
       "Switzerland                                        0   \n",
       "Iceland                                            0   \n",
       "Denmark                                            0   \n",
       "Norway                                             0   \n",
       "Canada                                             0   \n",
       "...                                              ...   \n",
       "Ivory Coast                                        0   \n",
       "Burkina Faso                                       0   \n",
       "Afghanistan                                        0   \n",
       "Benin                                              0   \n",
       "Burundi                                            0   \n",
       "\n",
       "              Region_Latin America and Caribbean  Region_Southeastern Asia  \\\n",
       "Country                                                                      \n",
       "Switzerland                                    0                         0   \n",
       "Iceland                                        0                         0   \n",
       "Denmark                                        0                         0   \n",
       "Norway                                         0                         0   \n",
       "Canada                                         0                         0   \n",
       "...                                          ...                       ...   \n",
       "Ivory Coast                                    0                         0   \n",
       "Burkina Faso                                   0                         0   \n",
       "Afghanistan                                    0                         0   \n",
       "Benin                                          0                         0   \n",
       "Burundi                                        0                         0   \n",
       "\n",
       "              Region_Central and Eastern Europe  Region_Eastern Asia  \\\n",
       "Country                                                                \n",
       "Switzerland                                   0                    0   \n",
       "Iceland                                       0                    0   \n",
       "Denmark                                       0                    0   \n",
       "Norway                                        0                    0   \n",
       "Canada                                        0                    0   \n",
       "...                                         ...                  ...   \n",
       "Ivory Coast                                   0                    0   \n",
       "Burkina Faso                                  0                    0   \n",
       "Afghanistan                                   0                    0   \n",
       "Benin                                         0                    0   \n",
       "Burundi                                       0                    0   \n",
       "\n",
       "              Region_Sub-Saharan Africa  Region_Southern Asia  \n",
       "Country                                                        \n",
       "Switzerland                           0                     0  \n",
       "Iceland                               0                     0  \n",
       "Denmark                               0                     0  \n",
       "Norway                                0                     0  \n",
       "Canada                                0                     0  \n",
       "...                                 ...                   ...  \n",
       "Ivory Coast                           1                     0  \n",
       "Burkina Faso                          1                     0  \n",
       "Afghanistan                           0                     1  \n",
       "Benin                                 1                     0  \n",
       "Burundi                               1                     0  \n",
       "\n",
       "[150 rows x 19 columns]"
      ]
     },
     "execution_count": 27,
     "metadata": {},
     "output_type": "execute_result"
    }
   ],
   "source": [
    "import category_encoders as ce\n",
    "\n",
    "ohe = ce.OneHotEncoder(cols = ['Region'],use_cat_names=True)\n",
    "WHA = ohe.fit_transform(df_new)\n",
    "WHA"
   ]
  },
  {
   "cell_type": "code",
   "execution_count": 28,
   "id": "4e30108b",
   "metadata": {},
   "outputs": [],
   "source": [
    "# Split data in features and labels"
   ]
  },
  {
   "cell_type": "code",
   "execution_count": 29,
   "id": "38c27e0d",
   "metadata": {},
   "outputs": [],
   "source": [
    "x = WHA.drop(columns = ['Score'])\n",
    "y = WHA['Score']"
   ]
  },
  {
   "cell_type": "markdown",
   "id": "0fbe0873",
   "metadata": {},
   "source": [
    "# Visualizing Relationship\n"
   ]
  },
  {
   "cell_type": "markdown",
   "id": "194dc2d2",
   "metadata": {},
   "source": [
    "- Scatter plot is used to see the relationship.\n"
   ]
  },
  {
   "cell_type": "code",
   "execution_count": 30,
   "id": "b236a41d",
   "metadata": {
    "scrolled": false
   },
   "outputs": [
    {
     "data": {
      "text/plain": [
       "<seaborn.axisgrid.PairGrid at 0x1c598bf2070>"
      ]
     },
     "execution_count": 30,
     "metadata": {},
     "output_type": "execute_result"
    },
    {
     "data": {
      "image/png": "[encoded data removed]",
      "text/plain": [
       "<Figure size 360x2520 with 7 Axes>"
      ]
     },
     "metadata": {
      "needs_background": "light"
     },
     "output_type": "display_data"
    }
   ],
   "source": [
    "sns.pairplot(data=WHA, kind='reg', size = 5,\n",
    "                  x_vars=['Score'],\n",
    "                  y_vars=['Economy', 'Family','Life', 'Freedom', 'Generosity', 'Trust', 'Dystopia_Residual'])"
   ]
  },
  {
   "cell_type": "markdown",
   "id": "691c1863",
   "metadata": {},
   "source": [
    "# Data Scaling"
   ]
  },
  {
   "cell_type": "code",
   "execution_count": 31,
   "id": "2be06393",
   "metadata": {},
   "outputs": [],
   "source": [
    "from sklearn.preprocessing import StandardScaler"
   ]
  },
  {
   "cell_type": "code",
   "execution_count": 32,
   "id": "71524d07",
   "metadata": {},
   "outputs": [],
   "source": [
    "Scaler = StandardScaler()\n",
    "x_scaled = Scaler.fit_transform(x)\n"
   ]
  },
  {
   "cell_type": "markdown",
   "id": "df4f2430",
   "metadata": {},
   "source": [
    "### Split data into train and test"
   ]
  },
  {
   "cell_type": "code",
   "execution_count": 33,
   "id": "1492a693",
   "metadata": {},
   "outputs": [],
   "source": [
    "#importing libraries\n",
    "from sklearn.model_selection import train_test_split\n",
    "from sklearn.metrics import mean_squared_error"
   ]
  },
  {
   "cell_type": "code",
   "execution_count": 34,
   "id": "116309f0",
   "metadata": {},
   "outputs": [
    {
     "data": {
      "text/plain": [
       "Country\n",
       "Somaliland region    5.057\n",
       "Czech Republic       6.505\n",
       "Denmark              7.527\n",
       "Cameroon             4.252\n",
       "South Korea          5.984\n",
       "Name: Score, dtype: float64"
      ]
     },
     "execution_count": 34,
     "metadata": {},
     "output_type": "execute_result"
    }
   ],
   "source": [
    "x_train,x_test,y_train,y_test = train_test_split(x_scaled,y,test_size = 0.16, random_state=2) #not applying scaled data\n",
    "y_train.head()"
   ]
  },
  {
   "cell_type": "markdown",
   "id": "142eab23",
   "metadata": {},
   "source": [
    "# MODEL BUILDING"
   ]
  },
  {
   "cell_type": "markdown",
   "id": "a0965272",
   "metadata": {},
   "source": [
    "Let us apply many model building techniques one by one:"
   ]
  },
  {
   "cell_type": "markdown",
   "id": "a78ff938",
   "metadata": {},
   "source": [
    "## Linear Regression Method"
   ]
  },
  {
   "cell_type": "code",
   "execution_count": 35,
   "id": "3f5fcba4",
   "metadata": {},
   "outputs": [],
   "source": [
    "from sklearn.linear_model import LinearRegression"
   ]
  },
  {
   "cell_type": "code",
   "execution_count": 36,
   "id": "4c7230c3",
   "metadata": {},
   "outputs": [
    {
     "data": {
      "text/plain": [
       "LinearRegression()"
      ]
     },
     "execution_count": 36,
     "metadata": {},
     "output_type": "execute_result"
    }
   ],
   "source": [
    "#Training the data\n",
    "\n",
    "Linear_reg = LinearRegression()\n",
    "Linear_reg.fit(x_train,y_train)"
   ]
  },
  {
   "cell_type": "code",
   "execution_count": 64,
   "id": "c740400f",
   "metadata": {},
   "outputs": [
    {
     "data": {
      "text/plain": [
       "0.9918410544408556"
      ]
     },
     "execution_count": 64,
     "metadata": {},
     "output_type": "execute_result"
    }
   ],
   "source": [
    "Linear_reg.score(x_train,y_train)\n"
   ]
  },
  {
   "cell_type": "markdown",
   "id": "05634828",
   "metadata": {},
   "source": [
    "####  Adjusted R2 Score\n"
   ]
  },
  {
   "cell_type": "code",
   "execution_count": 37,
   "id": "ce326cd4",
   "metadata": {},
   "outputs": [],
   "source": [
    "y_predict = Linear_reg.predict(x_test)"
   ]
  },
  {
   "cell_type": "code",
   "execution_count": 38,
   "id": "db571854",
   "metadata": {},
   "outputs": [],
   "source": [
    "from sklearn.metrics import r2_score"
   ]
  },
  {
   "cell_type": "code",
   "execution_count": 39,
   "id": "ee6b2f1d",
   "metadata": {},
   "outputs": [
    {
     "name": "stdout",
     "output_type": "stream",
     "text": [
      "The r2_score of the model is:\n",
      " \n",
      " 0.9692150034349165\n"
     ]
    }
   ],
   "source": [
    "print(\"The r2_score of the model is:\\n\",'\\n',r2_score(y_test, y_predict))"
   ]
  },
  {
   "cell_type": "code",
   "execution_count": 40,
   "id": "b3b6c1f0",
   "metadata": {},
   "outputs": [
    {
     "data": {
      "text/html": [
       "<div>\n",
       "<style scoped>\n",
       "    .dataframe tbody tr th:only-of-type {\n",
       "        vertical-align: middle;\n",
       "    }\n",
       "\n",
       "    .dataframe tbody tr th {\n",
       "        vertical-align: top;\n",
       "    }\n",
       "\n",
       "    .dataframe thead th {\n",
       "        text-align: right;\n",
       "    }\n",
       "</style>\n",
       "<table border=\"1\" class=\"dataframe\">\n",
       "  <thead>\n",
       "    <tr style=\"text-align: right;\">\n",
       "      <th></th>\n",
       "      <th>Score</th>\n",
       "      <th>Error</th>\n",
       "      <th>Economy</th>\n",
       "      <th>Family</th>\n",
       "      <th>Life</th>\n",
       "      <th>Freedom</th>\n",
       "      <th>Trust</th>\n",
       "      <th>Generosity</th>\n",
       "      <th>Dystopia_Residual</th>\n",
       "      <th>Region_Western Europe</th>\n",
       "      <th>Region_North America</th>\n",
       "      <th>Region_Australia and New Zealand</th>\n",
       "      <th>Region_Middle East and Northern Africa</th>\n",
       "      <th>Region_Latin America and Caribbean</th>\n",
       "      <th>Region_Southeastern Asia</th>\n",
       "      <th>Region_Central and Eastern Europe</th>\n",
       "      <th>Region_Eastern Asia</th>\n",
       "      <th>Region_Sub-Saharan Africa</th>\n",
       "      <th>Region_Southern Asia</th>\n",
       "    </tr>\n",
       "    <tr>\n",
       "      <th>Country</th>\n",
       "      <th></th>\n",
       "      <th></th>\n",
       "      <th></th>\n",
       "      <th></th>\n",
       "      <th></th>\n",
       "      <th></th>\n",
       "      <th></th>\n",
       "      <th></th>\n",
       "      <th></th>\n",
       "      <th></th>\n",
       "      <th></th>\n",
       "      <th></th>\n",
       "      <th></th>\n",
       "      <th></th>\n",
       "      <th></th>\n",
       "      <th></th>\n",
       "      <th></th>\n",
       "      <th></th>\n",
       "      <th></th>\n",
       "    </tr>\n",
       "  </thead>\n",
       "  <tbody>\n",
       "    <tr>\n",
       "      <th>Switzerland</th>\n",
       "      <td>7.587</td>\n",
       "      <td>0.03411</td>\n",
       "      <td>1.39651</td>\n",
       "      <td>1.34951</td>\n",
       "      <td>0.94143</td>\n",
       "      <td>0.66557</td>\n",
       "      <td>0.41978</td>\n",
       "      <td>0.29678</td>\n",
       "      <td>2.51738</td>\n",
       "      <td>1</td>\n",
       "      <td>0</td>\n",
       "      <td>0</td>\n",
       "      <td>0</td>\n",
       "      <td>0</td>\n",
       "      <td>0</td>\n",
       "      <td>0</td>\n",
       "      <td>0</td>\n",
       "      <td>0</td>\n",
       "      <td>0</td>\n",
       "    </tr>\n",
       "  </tbody>\n",
       "</table>\n",
       "</div>"
      ],
      "text/plain": [
       "             Score    Error  Economy   Family     Life  Freedom    Trust  \\\n",
       "Country                                                                    \n",
       "Switzerland  7.587  0.03411  1.39651  1.34951  0.94143  0.66557  0.41978   \n",
       "\n",
       "             Generosity  Dystopia_Residual  Region_Western Europe  \\\n",
       "Country                                                             \n",
       "Switzerland     0.29678            2.51738                      1   \n",
       "\n",
       "             Region_North America  Region_Australia and New Zealand  \\\n",
       "Country                                                               \n",
       "Switzerland                     0                                 0   \n",
       "\n",
       "             Region_Middle East and Northern Africa  \\\n",
       "Country                                               \n",
       "Switzerland                                       0   \n",
       "\n",
       "             Region_Latin America and Caribbean  Region_Southeastern Asia  \\\n",
       "Country                                                                     \n",
       "Switzerland                                   0                         0   \n",
       "\n",
       "             Region_Central and Eastern Europe  Region_Eastern Asia  \\\n",
       "Country                                                               \n",
       "Switzerland                                  0                    0   \n",
       "\n",
       "             Region_Sub-Saharan Africa  Region_Southern Asia  \n",
       "Country                                                       \n",
       "Switzerland                          0                     0  "
      ]
     },
     "execution_count": 40,
     "metadata": {},
     "output_type": "execute_result"
    }
   ],
   "source": [
    "WHA.head(1)"
   ]
  },
  {
   "cell_type": "code",
   "execution_count": 41,
   "id": "7d531767",
   "metadata": {},
   "outputs": [
    {
     "data": {
      "text/plain": [
       "array([7.56765952])"
      ]
     },
     "execution_count": 41,
     "metadata": {},
     "output_type": "execute_result"
    }
   ],
   "source": [
    "Linear_reg.predict(Scaler.transform([[0.03411,1.39651,1.34951,0.94143,0.66557,0.41978,0.29678,2.51738,1,0,0,0,0,0,0,0,0,0]]))"
   ]
  },
  {
   "cell_type": "markdown",
   "id": "944a50f0",
   "metadata": {},
   "source": [
    "## GridSearchCV"
   ]
  },
  {
   "cell_type": "markdown",
   "id": "dc9acc38",
   "metadata": {},
   "source": [
    "Let's use GridSearchCV for the best parameter to improve the accuracy\n",
    "\n",
    "The Hyper Parameter Tuning\n"
   ]
  },
  {
   "cell_type": "code",
   "execution_count": 42,
   "id": "66aa604c",
   "metadata": {},
   "outputs": [],
   "source": [
    "from sklearn.model_selection import GridSearchCV"
   ]
  },
  {
   "cell_type": "code",
   "execution_count": 43,
   "id": "55c76064",
   "metadata": {},
   "outputs": [],
   "source": [
    "#Hyper Parameter tuning techniques"
   ]
  },
  {
   "cell_type": "code",
   "execution_count": 44,
   "id": "139c1adb",
   "metadata": {},
   "outputs": [],
   "source": [
    "param_grid = {'fit_intercept':[True, False],\n",
    " \"normalize\":[True, False],\n",
    " \"copy_X\":[True, False],\n",
    " \"positive\":[True, False]\n",
    " }"
   ]
  },
  {
   "cell_type": "code",
   "execution_count": 45,
   "id": "ce7b1594",
   "metadata": {},
   "outputs": [],
   "source": [
    "gridsearch = GridSearchCV(LinearRegression(), param_grid = param_grid, cv = 5, scoring = \"r2\")"
   ]
  },
  {
   "cell_type": "code",
   "execution_count": 46,
   "id": "82a41a02",
   "metadata": {},
   "outputs": [
    {
     "data": {
      "text/plain": [
       "GridSearchCV(cv=5, estimator=LinearRegression(),\n",
       "             param_grid={'copy_X': [True, False],\n",
       "                         'fit_intercept': [True, False],\n",
       "                         'normalize': [True, False],\n",
       "                         'positive': [True, False]},\n",
       "             scoring='r2')"
      ]
     },
     "execution_count": 46,
     "metadata": {},
     "output_type": "execute_result"
    }
   ],
   "source": [
    "gridsearch.fit(WHA.drop(columns = 'Score'), WHA['Score'])"
   ]
  },
  {
   "cell_type": "code",
   "execution_count": 47,
   "id": "65dbe914",
   "metadata": {},
   "outputs": [
    {
     "data": {
      "text/plain": [
       "LinearRegression(fit_intercept=False, normalize=True, positive=True)"
      ]
     },
     "execution_count": 47,
     "metadata": {},
     "output_type": "execute_result"
    }
   ],
   "source": [
    "gridsearch.best_estimator_"
   ]
  },
  {
   "cell_type": "code",
   "execution_count": 48,
   "id": "45af326b",
   "metadata": {},
   "outputs": [],
   "source": [
    "from sklearn.linear_model import LinearRegression"
   ]
  },
  {
   "cell_type": "code",
   "execution_count": 49,
   "id": "8935189d",
   "metadata": {},
   "outputs": [],
   "source": [
    "Linear_reg1 = LinearRegression(fit_intercept=False, normalize=True, positive=True)"
   ]
  },
  {
   "cell_type": "code",
   "execution_count": 50,
   "id": "9edb92fe",
   "metadata": {},
   "outputs": [],
   "source": [
    "x_train,x_test,y_train,y_test = train_test_split(x_scaled,y,test_size = 0.16, random_state=2)"
   ]
  },
  {
   "cell_type": "code",
   "execution_count": 51,
   "id": "6a9621b6",
   "metadata": {},
   "outputs": [
    {
     "data": {
      "text/plain": [
       "LinearRegression(fit_intercept=False, normalize=True, positive=True)"
      ]
     },
     "execution_count": 51,
     "metadata": {},
     "output_type": "execute_result"
    }
   ],
   "source": [
    "Linear_reg1.fit(x_train,y_train)"
   ]
  },
  {
   "cell_type": "code",
   "execution_count": 52,
   "id": "fe754d47",
   "metadata": {},
   "outputs": [],
   "source": [
    "y1_predict = Linear_reg1.predict(x_test)"
   ]
  },
  {
   "cell_type": "code",
   "execution_count": 53,
   "id": "1d8dede3",
   "metadata": {},
   "outputs": [
    {
     "name": "stdout",
     "output_type": "stream",
     "text": [
      "The r2_score of the model after hyper parameter tuning is:\n",
      " \n",
      " 0.9692150034349165\n"
     ]
    }
   ],
   "source": [
    "print(\"The r2_score of the model after hyper parameter tuning is:\\n\",'\\n',r2_score(y_test, y_predict))"
   ]
  },
  {
   "cell_type": "code",
   "execution_count": 54,
   "id": "f51c2251",
   "metadata": {},
   "outputs": [],
   "source": [
    "#gridsearch cv didn't help us with increasing the score"
   ]
  },
  {
   "cell_type": "markdown",
   "id": "5fb9e5e4",
   "metadata": {},
   "source": [
    "_____________________________________________________________"
   ]
  },
  {
   "cell_type": "code",
   "execution_count": 55,
   "id": "e3f74f75",
   "metadata": {},
   "outputs": [],
   "source": [
    "from sklearn.model_selection import cross_val_score\n",
    "from sklearn.model_selection import KFold"
   ]
  },
  {
   "cell_type": "code",
   "execution_count": 56,
   "id": "4bcc227c",
   "metadata": {},
   "outputs": [
    {
     "data": {
      "text/plain": [
       "array([0.96754987, 0.97489769, 0.99805637, 0.99858122, 0.9918038 ,\n",
       "       0.99273357, 0.99833812, 0.99861445, 0.99778358, 0.92509997,\n",
       "       0.98885642, 0.94295807])"
      ]
     },
     "execution_count": 56,
     "metadata": {},
     "output_type": "execute_result"
    }
   ],
   "source": [
    "\n",
    "cross_val_score = cross_val_score(Linear_reg,x,y,cv=KFold(12,shuffle=True))\n",
    "cross_val_score"
   ]
  },
  {
   "cell_type": "code",
   "execution_count": 57,
   "id": "98fdbf4d",
   "metadata": {},
   "outputs": [
    {
     "data": {
      "text/plain": [
       "0.981272760432673"
      ]
     },
     "execution_count": 57,
     "metadata": {},
     "output_type": "execute_result"
    }
   ],
   "source": [
    "np.mean(cross_val_score)"
   ]
  },
  {
   "cell_type": "code",
   "execution_count": 58,
   "id": "3253419b",
   "metadata": {},
   "outputs": [
    {
     "data": {
      "text/plain": [
       "0.03742862709244025"
      ]
     },
     "execution_count": 58,
     "metadata": {},
     "output_type": "execute_result"
    }
   ],
   "source": [
    "mean_squared_error(y_test,y_predict)"
   ]
  },
  {
   "cell_type": "code",
   "execution_count": 59,
   "id": "579a1477",
   "metadata": {},
   "outputs": [],
   "source": [
    "import statsmodels.api as sms"
   ]
  },
  {
   "cell_type": "code",
   "execution_count": 60,
   "id": "446e4992",
   "metadata": {},
   "outputs": [
    {
     "name": "stdout",
     "output_type": "stream",
     "text": [
      "                            OLS Regression Results                            \n",
      "==============================================================================\n",
      "Dep. Variable:                  Score   R-squared:                       0.989\n",
      "Model:                            OLS   Adj. R-squared:                  0.988\n",
      "Method:                 Least Squares   F-statistic:                     696.0\n",
      "Date:                Mon, 05 Jul 2021   Prob (F-statistic):          3.04e-120\n",
      "Time:                        23:11:46   Log-Likelihood:                 109.12\n",
      "No. Observations:                 150   AIC:                            -182.2\n",
      "Df Residuals:                     132   BIC:                            -128.0\n",
      "Df Model:                          17                                         \n",
      "Covariance Type:            nonrobust                                         \n",
      "==========================================================================================================\n",
      "                                             coef    std err          t      P>|t|      [0.025      0.975]\n",
      "----------------------------------------------------------------------------------------------------------\n",
      "Error                                     -0.2616      0.860     -0.304      0.762      -1.963       1.440\n",
      "Economy                                    0.9936      0.056     17.687      0.000       0.882       1.105\n",
      "Family                                     0.9557      0.063     15.156      0.000       0.831       1.080\n",
      "Life                                       1.1160      0.102     10.902      0.000       0.913       1.318\n",
      "Freedom                                    1.0032      0.102      9.819      0.000       0.801       1.205\n",
      "Trust                                      1.1161      0.118      9.489      0.000       0.883       1.349\n",
      "Generosity                                 0.9388      0.120      7.850      0.000       0.702       1.175\n",
      "Dystopia_Residual                          0.9547      0.022     43.331      0.000       0.911       0.998\n",
      "Region_Western Europe                      0.0447      0.128      0.348      0.728      -0.209       0.299\n",
      "Region_North America                       0.0812      0.159      0.512      0.610      -0.232       0.395\n",
      "Region_Australia and New Zealand           0.0524      0.160      0.327      0.744      -0.264       0.369\n",
      "Region_Middle East and Northern Africa     0.0403      0.109      0.369      0.713      -0.176       0.256\n",
      "Region_Latin America and Caribbean         0.1034      0.126      0.823      0.412      -0.145       0.352\n",
      "Region_Southeastern Asia                   0.0450      0.119      0.379      0.705      -0.190       0.280\n",
      "Region_Central and Eastern Europe          0.0710      0.110      0.644      0.521      -0.147       0.289\n",
      "Region_Eastern Asia                        0.0378      0.125      0.303      0.763      -0.209       0.285\n",
      "Region_Sub-Saharan Africa                  0.0460      0.093      0.497      0.620      -0.137       0.229\n",
      "Region_Southern Asia                       0.0773      0.102      0.755      0.451      -0.125       0.280\n",
      "==============================================================================\n",
      "Omnibus:                      191.826   Durbin-Watson:                   2.186\n",
      "Prob(Omnibus):                  0.000   Jarque-Bera (JB):             6351.389\n",
      "Skew:                          -5.138   Prob(JB):                         0.00\n",
      "Kurtosis:                      33.177   Cond. No.                         234.\n",
      "==============================================================================\n",
      "\n",
      "Notes:\n",
      "[1] Standard Errors assume that the covariance matrix of the errors is correctly specified.\n"
     ]
    }
   ],
   "source": [
    "result = sms.OLS(y,x).fit()\n",
    "print(result.summary())"
   ]
  },
  {
   "cell_type": "raw",
   "id": "b7b42f50",
   "metadata": {},
   "source": [
    "Decision Tree Regressor, \n",
    "\n",
    "plt.scatter(y_test,y_predict, color = \"red\")\n",
    "plt.plot(y_test, y_predict, color = \"green\")\n",
    "Support Vector Regressor"
   ]
  },
  {
   "cell_type": "markdown",
   "id": "7e5a9568",
   "metadata": {},
   "source": [
    "DecisionTreeRegressor()\n",
    "SVR()\n",
    "KNNR()"
   ]
  },
  {
   "cell_type": "code",
   "execution_count": 61,
   "id": "9c07f66d",
   "metadata": {
    "scrolled": false
   },
   "outputs": [
    {
     "data": {
      "text/plain": [
       "<seaborn.axisgrid.JointGrid at 0x1c59971bb50>"
      ]
     },
     "execution_count": 61,
     "metadata": {},
     "output_type": "execute_result"
    },
    {
     "data": {
      "image/png": "[encoded data removed]",
      "text/plain": [
       "<Figure size 432x432 with 3 Axes>"
      ]
     },
     "metadata": {
      "needs_background": "light"
     },
     "output_type": "display_data"
    }
   ],
   "source": [
    "sns.jointplot(x=y_test, y=y_predict,color='red', kind='scatter')"
   ]
  },
  {
   "cell_type": "code",
   "execution_count": null,
   "id": "64fdec88",
   "metadata": {},
   "outputs": [],
   "source": []
  },
  {
   "cell_type": "markdown",
   "id": "9f98aa6b",
   "metadata": {},
   "source": [
    "# Saving the model for future prediction"
   ]
  },
  {
   "cell_type": "code",
   "execution_count": 62,
   "id": "5a6979bb",
   "metadata": {},
   "outputs": [],
   "source": [
    "import pickle"
   ]
  },
  {
   "cell_type": "code",
   "execution_count": 63,
   "id": "24b443b2",
   "metadata": {},
   "outputs": [],
   "source": [
    "Linear_Regression='World_Happiness_model.pickle'\n",
    "pickle.dump(Linear_reg,open(Linear_Regression,'wb'))\n"
   ]
  }
 ],
 "metadata": {
  "kernelspec": {
   "display_name": "Python 3",
   "language": "python",
   "name": "python3"
  },
  "language_info": {
   "codemirror_mode": {
    "name": "ipython",
    "version": 3
   },
   "file_extension": ".py",
   "mimetype": "text/x-python",
   "name": "python",
   "nbconvert_exporter": "python",
   "pygments_lexer": "ipython3",
   "version": "3.8.8"
  }
 },
 "nbformat": 4,
 "nbformat_minor": 5
}
