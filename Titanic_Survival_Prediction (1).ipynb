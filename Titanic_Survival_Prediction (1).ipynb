{
 "cells": [
  {
   "cell_type": "markdown",
   "id": "66994d6f",
   "metadata": {},
   "source": [
    "# Titanic"
   ]
  },
  {
   "cell_type": "markdown",
   "id": "bc91a4f5",
   "metadata": {},
   "source": [
    "    The sinking of the Titanic is one of the most infamous shipwrecks in history.\n",
    "     The Titanic Problem is based on the sinking of the ‘Unsinkable’ ship Titanic in early 1912."
   ]
  },
  {
   "cell_type": "markdown",
   "id": "277f11b9",
   "metadata": {},
   "source": [
    "##### The training-set has 891 examples and 12 features + the target variable (survived)."
   ]
  },
  {
   "cell_type": "code",
   "execution_count": 1,
   "id": "d8ce174e",
   "metadata": {},
   "outputs": [],
   "source": [
    "import pandas as pd\n",
    "import numpy as np\n",
    "import seaborn as sns\n",
    "import matplotlib.pyplot as plt\n",
    "\n",
    "from sklearn.metrics import accuracy_score,confusion_matrix,r2_score,mean_squared_error,classification_report\n",
    "from sklearn.model_selection import cross_val_score\n",
    "\n",
    "\n",
    "%matplotlib inline\n",
    "\n",
    "import warnings\n",
    "warnings.filterwarnings('ignore')"
   ]
  },
  {
   "cell_type": "code",
   "execution_count": 2,
   "id": "2ec5d537",
   "metadata": {
    "scrolled": false
   },
   "outputs": [],
   "source": [
    "data = pd.read_csv('https://raw.githubusercontent.com/dsrscientist/dataset1/master/titanic_train.csv')"
   ]
  },
  {
   "cell_type": "code",
   "execution_count": 3,
   "id": "8a61b9e9",
   "metadata": {},
   "outputs": [
    {
     "data": {
      "text/html": [
       "<div>\n",
       "<style scoped>\n",
       "    .dataframe tbody tr th:only-of-type {\n",
       "        vertical-align: middle;\n",
       "    }\n",
       "\n",
       "    .dataframe tbody tr th {\n",
       "        vertical-align: top;\n",
       "    }\n",
       "\n",
       "    .dataframe thead th {\n",
       "        text-align: right;\n",
       "    }\n",
       "</style>\n",
       "<table border=\"1\" class=\"dataframe\">\n",
       "  <thead>\n",
       "    <tr style=\"text-align: right;\">\n",
       "      <th></th>\n",
       "      <th>PassengerId</th>\n",
       "      <th>Survived</th>\n",
       "      <th>Pclass</th>\n",
       "      <th>Name</th>\n",
       "      <th>Sex</th>\n",
       "      <th>Age</th>\n",
       "      <th>SibSp</th>\n",
       "      <th>Parch</th>\n",
       "      <th>Ticket</th>\n",
       "      <th>Fare</th>\n",
       "      <th>Cabin</th>\n",
       "      <th>Embarked</th>\n",
       "    </tr>\n",
       "  </thead>\n",
       "  <tbody>\n",
       "    <tr>\n",
       "      <th>0</th>\n",
       "      <td>1</td>\n",
       "      <td>0</td>\n",
       "      <td>3</td>\n",
       "      <td>Braund, Mr. Owen Harris</td>\n",
       "      <td>male</td>\n",
       "      <td>22.0</td>\n",
       "      <td>1</td>\n",
       "      <td>0</td>\n",
       "      <td>A/5 21171</td>\n",
       "      <td>7.2500</td>\n",
       "      <td>NaN</td>\n",
       "      <td>S</td>\n",
       "    </tr>\n",
       "    <tr>\n",
       "      <th>1</th>\n",
       "      <td>2</td>\n",
       "      <td>1</td>\n",
       "      <td>1</td>\n",
       "      <td>Cumings, Mrs. John Bradley (Florence Briggs Th...</td>\n",
       "      <td>female</td>\n",
       "      <td>38.0</td>\n",
       "      <td>1</td>\n",
       "      <td>0</td>\n",
       "      <td>PC 17599</td>\n",
       "      <td>71.2833</td>\n",
       "      <td>C85</td>\n",
       "      <td>C</td>\n",
       "    </tr>\n",
       "    <tr>\n",
       "      <th>2</th>\n",
       "      <td>3</td>\n",
       "      <td>1</td>\n",
       "      <td>3</td>\n",
       "      <td>Heikkinen, Miss. Laina</td>\n",
       "      <td>female</td>\n",
       "      <td>26.0</td>\n",
       "      <td>0</td>\n",
       "      <td>0</td>\n",
       "      <td>STON/O2. 3101282</td>\n",
       "      <td>7.9250</td>\n",
       "      <td>NaN</td>\n",
       "      <td>S</td>\n",
       "    </tr>\n",
       "    <tr>\n",
       "      <th>3</th>\n",
       "      <td>4</td>\n",
       "      <td>1</td>\n",
       "      <td>1</td>\n",
       "      <td>Futrelle, Mrs. Jacques Heath (Lily May Peel)</td>\n",
       "      <td>female</td>\n",
       "      <td>35.0</td>\n",
       "      <td>1</td>\n",
       "      <td>0</td>\n",
       "      <td>113803</td>\n",
       "      <td>53.1000</td>\n",
       "      <td>C123</td>\n",
       "      <td>S</td>\n",
       "    </tr>\n",
       "    <tr>\n",
       "      <th>4</th>\n",
       "      <td>5</td>\n",
       "      <td>0</td>\n",
       "      <td>3</td>\n",
       "      <td>Allen, Mr. William Henry</td>\n",
       "      <td>male</td>\n",
       "      <td>35.0</td>\n",
       "      <td>0</td>\n",
       "      <td>0</td>\n",
       "      <td>373450</td>\n",
       "      <td>8.0500</td>\n",
       "      <td>NaN</td>\n",
       "      <td>S</td>\n",
       "    </tr>\n",
       "    <tr>\n",
       "      <th>...</th>\n",
       "      <td>...</td>\n",
       "      <td>...</td>\n",
       "      <td>...</td>\n",
       "      <td>...</td>\n",
       "      <td>...</td>\n",
       "      <td>...</td>\n",
       "      <td>...</td>\n",
       "      <td>...</td>\n",
       "      <td>...</td>\n",
       "      <td>...</td>\n",
       "      <td>...</td>\n",
       "      <td>...</td>\n",
       "    </tr>\n",
       "    <tr>\n",
       "      <th>886</th>\n",
       "      <td>887</td>\n",
       "      <td>0</td>\n",
       "      <td>2</td>\n",
       "      <td>Montvila, Rev. Juozas</td>\n",
       "      <td>male</td>\n",
       "      <td>27.0</td>\n",
       "      <td>0</td>\n",
       "      <td>0</td>\n",
       "      <td>211536</td>\n",
       "      <td>13.0000</td>\n",
       "      <td>NaN</td>\n",
       "      <td>S</td>\n",
       "    </tr>\n",
       "    <tr>\n",
       "      <th>887</th>\n",
       "      <td>888</td>\n",
       "      <td>1</td>\n",
       "      <td>1</td>\n",
       "      <td>Graham, Miss. Margaret Edith</td>\n",
       "      <td>female</td>\n",
       "      <td>19.0</td>\n",
       "      <td>0</td>\n",
       "      <td>0</td>\n",
       "      <td>112053</td>\n",
       "      <td>30.0000</td>\n",
       "      <td>B42</td>\n",
       "      <td>S</td>\n",
       "    </tr>\n",
       "    <tr>\n",
       "      <th>888</th>\n",
       "      <td>889</td>\n",
       "      <td>0</td>\n",
       "      <td>3</td>\n",
       "      <td>Johnston, Miss. Catherine Helen \"Carrie\"</td>\n",
       "      <td>female</td>\n",
       "      <td>NaN</td>\n",
       "      <td>1</td>\n",
       "      <td>2</td>\n",
       "      <td>W./C. 6607</td>\n",
       "      <td>23.4500</td>\n",
       "      <td>NaN</td>\n",
       "      <td>S</td>\n",
       "    </tr>\n",
       "    <tr>\n",
       "      <th>889</th>\n",
       "      <td>890</td>\n",
       "      <td>1</td>\n",
       "      <td>1</td>\n",
       "      <td>Behr, Mr. Karl Howell</td>\n",
       "      <td>male</td>\n",
       "      <td>26.0</td>\n",
       "      <td>0</td>\n",
       "      <td>0</td>\n",
       "      <td>111369</td>\n",
       "      <td>30.0000</td>\n",
       "      <td>C148</td>\n",
       "      <td>C</td>\n",
       "    </tr>\n",
       "    <tr>\n",
       "      <th>890</th>\n",
       "      <td>891</td>\n",
       "      <td>0</td>\n",
       "      <td>3</td>\n",
       "      <td>Dooley, Mr. Patrick</td>\n",
       "      <td>male</td>\n",
       "      <td>32.0</td>\n",
       "      <td>0</td>\n",
       "      <td>0</td>\n",
       "      <td>370376</td>\n",
       "      <td>7.7500</td>\n",
       "      <td>NaN</td>\n",
       "      <td>Q</td>\n",
       "    </tr>\n",
       "  </tbody>\n",
       "</table>\n",
       "<p>891 rows × 12 columns</p>\n",
       "</div>"
      ],
      "text/plain": [
       "     PassengerId  Survived  Pclass  \\\n",
       "0              1         0       3   \n",
       "1              2         1       1   \n",
       "2              3         1       3   \n",
       "3              4         1       1   \n",
       "4              5         0       3   \n",
       "..           ...       ...     ...   \n",
       "886          887         0       2   \n",
       "887          888         1       1   \n",
       "888          889         0       3   \n",
       "889          890         1       1   \n",
       "890          891         0       3   \n",
       "\n",
       "                                                  Name     Sex   Age  SibSp  \\\n",
       "0                              Braund, Mr. Owen Harris    male  22.0      1   \n",
       "1    Cumings, Mrs. John Bradley (Florence Briggs Th...  female  38.0      1   \n",
       "2                               Heikkinen, Miss. Laina  female  26.0      0   \n",
       "3         Futrelle, Mrs. Jacques Heath (Lily May Peel)  female  35.0      1   \n",
       "4                             Allen, Mr. William Henry    male  35.0      0   \n",
       "..                                                 ...     ...   ...    ...   \n",
       "886                              Montvila, Rev. Juozas    male  27.0      0   \n",
       "887                       Graham, Miss. Margaret Edith  female  19.0      0   \n",
       "888           Johnston, Miss. Catherine Helen \"Carrie\"  female   NaN      1   \n",
       "889                              Behr, Mr. Karl Howell    male  26.0      0   \n",
       "890                                Dooley, Mr. Patrick    male  32.0      0   \n",
       "\n",
       "     Parch            Ticket     Fare Cabin Embarked  \n",
       "0        0         A/5 21171   7.2500   NaN        S  \n",
       "1        0          PC 17599  71.2833   C85        C  \n",
       "2        0  STON/O2. 3101282   7.9250   NaN        S  \n",
       "3        0            113803  53.1000  C123        S  \n",
       "4        0            373450   8.0500   NaN        S  \n",
       "..     ...               ...      ...   ...      ...  \n",
       "886      0            211536  13.0000   NaN        S  \n",
       "887      0            112053  30.0000   B42        S  \n",
       "888      2        W./C. 6607  23.4500   NaN        S  \n",
       "889      0            111369  30.0000  C148        C  \n",
       "890      0            370376   7.7500   NaN        Q  \n",
       "\n",
       "[891 rows x 12 columns]"
      ]
     },
     "execution_count": 3,
     "metadata": {},
     "output_type": "execute_result"
    }
   ],
   "source": [
    "data"
   ]
  },
  {
   "cell_type": "code",
   "execution_count": 4,
   "id": "72159968",
   "metadata": {},
   "outputs": [],
   "source": [
    "data = data.set_index('PassengerId') #setting the index as passneger ID"
   ]
  },
  {
   "cell_type": "code",
   "execution_count": 5,
   "id": "cb6a5144",
   "metadata": {},
   "outputs": [
    {
     "data": {
      "text/html": [
       "<div>\n",
       "<style scoped>\n",
       "    .dataframe tbody tr th:only-of-type {\n",
       "        vertical-align: middle;\n",
       "    }\n",
       "\n",
       "    .dataframe tbody tr th {\n",
       "        vertical-align: top;\n",
       "    }\n",
       "\n",
       "    .dataframe thead th {\n",
       "        text-align: right;\n",
       "    }\n",
       "</style>\n",
       "<table border=\"1\" class=\"dataframe\">\n",
       "  <thead>\n",
       "    <tr style=\"text-align: right;\">\n",
       "      <th></th>\n",
       "      <th>Survived</th>\n",
       "      <th>Pclass</th>\n",
       "      <th>Name</th>\n",
       "      <th>Sex</th>\n",
       "      <th>Age</th>\n",
       "      <th>SibSp</th>\n",
       "      <th>Parch</th>\n",
       "      <th>Ticket</th>\n",
       "      <th>Fare</th>\n",
       "      <th>Cabin</th>\n",
       "      <th>Embarked</th>\n",
       "    </tr>\n",
       "    <tr>\n",
       "      <th>PassengerId</th>\n",
       "      <th></th>\n",
       "      <th></th>\n",
       "      <th></th>\n",
       "      <th></th>\n",
       "      <th></th>\n",
       "      <th></th>\n",
       "      <th></th>\n",
       "      <th></th>\n",
       "      <th></th>\n",
       "      <th></th>\n",
       "      <th></th>\n",
       "    </tr>\n",
       "  </thead>\n",
       "  <tbody>\n",
       "    <tr>\n",
       "      <th>1</th>\n",
       "      <td>0</td>\n",
       "      <td>3</td>\n",
       "      <td>Braund, Mr. Owen Harris</td>\n",
       "      <td>male</td>\n",
       "      <td>22.0</td>\n",
       "      <td>1</td>\n",
       "      <td>0</td>\n",
       "      <td>A/5 21171</td>\n",
       "      <td>7.2500</td>\n",
       "      <td>NaN</td>\n",
       "      <td>S</td>\n",
       "    </tr>\n",
       "    <tr>\n",
       "      <th>2</th>\n",
       "      <td>1</td>\n",
       "      <td>1</td>\n",
       "      <td>Cumings, Mrs. John Bradley (Florence Briggs Th...</td>\n",
       "      <td>female</td>\n",
       "      <td>38.0</td>\n",
       "      <td>1</td>\n",
       "      <td>0</td>\n",
       "      <td>PC 17599</td>\n",
       "      <td>71.2833</td>\n",
       "      <td>C85</td>\n",
       "      <td>C</td>\n",
       "    </tr>\n",
       "    <tr>\n",
       "      <th>3</th>\n",
       "      <td>1</td>\n",
       "      <td>3</td>\n",
       "      <td>Heikkinen, Miss. Laina</td>\n",
       "      <td>female</td>\n",
       "      <td>26.0</td>\n",
       "      <td>0</td>\n",
       "      <td>0</td>\n",
       "      <td>STON/O2. 3101282</td>\n",
       "      <td>7.9250</td>\n",
       "      <td>NaN</td>\n",
       "      <td>S</td>\n",
       "    </tr>\n",
       "    <tr>\n",
       "      <th>4</th>\n",
       "      <td>1</td>\n",
       "      <td>1</td>\n",
       "      <td>Futrelle, Mrs. Jacques Heath (Lily May Peel)</td>\n",
       "      <td>female</td>\n",
       "      <td>35.0</td>\n",
       "      <td>1</td>\n",
       "      <td>0</td>\n",
       "      <td>113803</td>\n",
       "      <td>53.1000</td>\n",
       "      <td>C123</td>\n",
       "      <td>S</td>\n",
       "    </tr>\n",
       "    <tr>\n",
       "      <th>5</th>\n",
       "      <td>0</td>\n",
       "      <td>3</td>\n",
       "      <td>Allen, Mr. William Henry</td>\n",
       "      <td>male</td>\n",
       "      <td>35.0</td>\n",
       "      <td>0</td>\n",
       "      <td>0</td>\n",
       "      <td>373450</td>\n",
       "      <td>8.0500</td>\n",
       "      <td>NaN</td>\n",
       "      <td>S</td>\n",
       "    </tr>\n",
       "    <tr>\n",
       "      <th>...</th>\n",
       "      <td>...</td>\n",
       "      <td>...</td>\n",
       "      <td>...</td>\n",
       "      <td>...</td>\n",
       "      <td>...</td>\n",
       "      <td>...</td>\n",
       "      <td>...</td>\n",
       "      <td>...</td>\n",
       "      <td>...</td>\n",
       "      <td>...</td>\n",
       "      <td>...</td>\n",
       "    </tr>\n",
       "    <tr>\n",
       "      <th>887</th>\n",
       "      <td>0</td>\n",
       "      <td>2</td>\n",
       "      <td>Montvila, Rev. Juozas</td>\n",
       "      <td>male</td>\n",
       "      <td>27.0</td>\n",
       "      <td>0</td>\n",
       "      <td>0</td>\n",
       "      <td>211536</td>\n",
       "      <td>13.0000</td>\n",
       "      <td>NaN</td>\n",
       "      <td>S</td>\n",
       "    </tr>\n",
       "    <tr>\n",
       "      <th>888</th>\n",
       "      <td>1</td>\n",
       "      <td>1</td>\n",
       "      <td>Graham, Miss. Margaret Edith</td>\n",
       "      <td>female</td>\n",
       "      <td>19.0</td>\n",
       "      <td>0</td>\n",
       "      <td>0</td>\n",
       "      <td>112053</td>\n",
       "      <td>30.0000</td>\n",
       "      <td>B42</td>\n",
       "      <td>S</td>\n",
       "    </tr>\n",
       "    <tr>\n",
       "      <th>889</th>\n",
       "      <td>0</td>\n",
       "      <td>3</td>\n",
       "      <td>Johnston, Miss. Catherine Helen \"Carrie\"</td>\n",
       "      <td>female</td>\n",
       "      <td>NaN</td>\n",
       "      <td>1</td>\n",
       "      <td>2</td>\n",
       "      <td>W./C. 6607</td>\n",
       "      <td>23.4500</td>\n",
       "      <td>NaN</td>\n",
       "      <td>S</td>\n",
       "    </tr>\n",
       "    <tr>\n",
       "      <th>890</th>\n",
       "      <td>1</td>\n",
       "      <td>1</td>\n",
       "      <td>Behr, Mr. Karl Howell</td>\n",
       "      <td>male</td>\n",
       "      <td>26.0</td>\n",
       "      <td>0</td>\n",
       "      <td>0</td>\n",
       "      <td>111369</td>\n",
       "      <td>30.0000</td>\n",
       "      <td>C148</td>\n",
       "      <td>C</td>\n",
       "    </tr>\n",
       "    <tr>\n",
       "      <th>891</th>\n",
       "      <td>0</td>\n",
       "      <td>3</td>\n",
       "      <td>Dooley, Mr. Patrick</td>\n",
       "      <td>male</td>\n",
       "      <td>32.0</td>\n",
       "      <td>0</td>\n",
       "      <td>0</td>\n",
       "      <td>370376</td>\n",
       "      <td>7.7500</td>\n",
       "      <td>NaN</td>\n",
       "      <td>Q</td>\n",
       "    </tr>\n",
       "  </tbody>\n",
       "</table>\n",
       "<p>891 rows × 11 columns</p>\n",
       "</div>"
      ],
      "text/plain": [
       "             Survived  Pclass  \\\n",
       "PassengerId                     \n",
       "1                   0       3   \n",
       "2                   1       1   \n",
       "3                   1       3   \n",
       "4                   1       1   \n",
       "5                   0       3   \n",
       "...               ...     ...   \n",
       "887                 0       2   \n",
       "888                 1       1   \n",
       "889                 0       3   \n",
       "890                 1       1   \n",
       "891                 0       3   \n",
       "\n",
       "                                                          Name     Sex   Age  \\\n",
       "PassengerId                                                                    \n",
       "1                                      Braund, Mr. Owen Harris    male  22.0   \n",
       "2            Cumings, Mrs. John Bradley (Florence Briggs Th...  female  38.0   \n",
       "3                                       Heikkinen, Miss. Laina  female  26.0   \n",
       "4                 Futrelle, Mrs. Jacques Heath (Lily May Peel)  female  35.0   \n",
       "5                                     Allen, Mr. William Henry    male  35.0   \n",
       "...                                                        ...     ...   ...   \n",
       "887                                      Montvila, Rev. Juozas    male  27.0   \n",
       "888                               Graham, Miss. Margaret Edith  female  19.0   \n",
       "889                   Johnston, Miss. Catherine Helen \"Carrie\"  female   NaN   \n",
       "890                                      Behr, Mr. Karl Howell    male  26.0   \n",
       "891                                        Dooley, Mr. Patrick    male  32.0   \n",
       "\n",
       "             SibSp  Parch            Ticket     Fare Cabin Embarked  \n",
       "PassengerId                                                          \n",
       "1                1      0         A/5 21171   7.2500   NaN        S  \n",
       "2                1      0          PC 17599  71.2833   C85        C  \n",
       "3                0      0  STON/O2. 3101282   7.9250   NaN        S  \n",
       "4                1      0            113803  53.1000  C123        S  \n",
       "5                0      0            373450   8.0500   NaN        S  \n",
       "...            ...    ...               ...      ...   ...      ...  \n",
       "887              0      0            211536  13.0000   NaN        S  \n",
       "888              0      0            112053  30.0000   B42        S  \n",
       "889              1      2        W./C. 6607  23.4500   NaN        S  \n",
       "890              0      0            111369  30.0000  C148        C  \n",
       "891              0      0            370376   7.7500   NaN        Q  \n",
       "\n",
       "[891 rows x 11 columns]"
      ]
     },
     "execution_count": 5,
     "metadata": {},
     "output_type": "execute_result"
    }
   ],
   "source": [
    "data"
   ]
  },
  {
   "cell_type": "code",
   "execution_count": 6,
   "id": "36139c7d",
   "metadata": {},
   "outputs": [
    {
     "name": "stdout",
     "output_type": "stream",
     "text": [
      "<class 'pandas.core.frame.DataFrame'>\n",
      "Int64Index: 891 entries, 1 to 891\n",
      "Data columns (total 11 columns):\n",
      " #   Column    Non-Null Count  Dtype  \n",
      "---  ------    --------------  -----  \n",
      " 0   Survived  891 non-null    int64  \n",
      " 1   Pclass    891 non-null    int64  \n",
      " 2   Name      891 non-null    object \n",
      " 3   Sex       891 non-null    object \n",
      " 4   Age       714 non-null    float64\n",
      " 5   SibSp     891 non-null    int64  \n",
      " 6   Parch     891 non-null    int64  \n",
      " 7   Ticket    891 non-null    object \n",
      " 8   Fare      891 non-null    float64\n",
      " 9   Cabin     204 non-null    object \n",
      " 10  Embarked  889 non-null    object \n",
      "dtypes: float64(2), int64(4), object(5)\n",
      "memory usage: 83.5+ KB\n"
     ]
    }
   ],
   "source": [
    "data.info()"
   ]
  },
  {
   "cell_type": "markdown",
   "id": "8785809a",
   "metadata": {},
   "source": [
    "#### Numerical Features: \n",
    "    Age (Continuous), Fare (Continuous), SibSp (Discrete), Parch (Discrete)"
   ]
  },
  {
   "cell_type": "markdown",
   "id": "62b5f339",
   "metadata": {},
   "source": [
    "#### Categorical Features: \n",
    "    Survived, Sex, Embarked, Pclass"
   ]
  },
  {
   "cell_type": "markdown",
   "id": "a7d8040c",
   "metadata": {},
   "source": [
    "#### Alphanumeric Features: \n",
    "    Ticket, Cabin"
   ]
  },
  {
   "cell_type": "markdown",
   "id": "58dceb70",
   "metadata": {},
   "source": [
    " - Ticket feature may not be possible to effectively help in predicting the survival possibility\n",
    " - removing the Ticket Feature"
   ]
  },
  {
   "cell_type": "code",
   "execution_count": 7,
   "id": "b64bdc94",
   "metadata": {},
   "outputs": [],
   "source": [
    "data = data.drop(columns = 'Ticket')"
   ]
  },
  {
   "cell_type": "code",
   "execution_count": 8,
   "id": "d6084447",
   "metadata": {},
   "outputs": [
    {
     "data": {
      "text/plain": [
       "Survived      0\n",
       "Pclass        0\n",
       "Name          0\n",
       "Sex           0\n",
       "Age         177\n",
       "SibSp         0\n",
       "Parch         0\n",
       "Fare          0\n",
       "Cabin       687\n",
       "Embarked      2\n",
       "dtype: int64"
      ]
     },
     "execution_count": 8,
     "metadata": {},
     "output_type": "execute_result"
    }
   ],
   "source": [
    "data.isna().sum()"
   ]
  },
  {
   "cell_type": "markdown",
   "id": "35dc7451",
   "metadata": {},
   "source": [
    "##### We observed that\n",
    "- '714' rows Age data is available out of 891 rows  ('Missing 177')\n",
    "- '204' rows cabin data is available out of 891 rows  ('Missing 687')\n",
    "- '889' rows Embarked data is available out of 891 rows  ('Missing 2')"
   ]
  },
  {
   "cell_type": "markdown",
   "id": "b46bb192",
   "metadata": {},
   "source": [
    "We see that Cabin column contains maximum null/missing values, it will be difficult to fill these null values, if we do then, it may not give us the correct/possible predictions as the null values will now be filled with imaginary calculated value"
   ]
  },
  {
   "cell_type": "markdown",
   "id": "01ab9c2a",
   "metadata": {},
   "source": [
    "- Need to remove feature 'Cabin' "
   ]
  },
  {
   "cell_type": "code",
   "execution_count": 9,
   "id": "1a21b043",
   "metadata": {},
   "outputs": [],
   "source": [
    "data = data.drop(columns = 'Cabin')"
   ]
  },
  {
   "cell_type": "code",
   "execution_count": 10,
   "id": "862308f5",
   "metadata": {},
   "outputs": [
    {
     "data": {
      "text/plain": [
       "28.0"
      ]
     },
     "execution_count": 10,
     "metadata": {},
     "output_type": "execute_result"
    }
   ],
   "source": [
    "data['Age'].median()"
   ]
  },
  {
   "cell_type": "code",
   "execution_count": 11,
   "id": "34e933e5",
   "metadata": {},
   "outputs": [
    {
     "data": {
      "text/plain": [
       "'S'"
      ]
     },
     "execution_count": 11,
     "metadata": {},
     "output_type": "execute_result"
    }
   ],
   "source": [
    "data['Embarked'].mode()[0]"
   ]
  },
  {
   "cell_type": "code",
   "execution_count": 12,
   "id": "5da2f42c",
   "metadata": {},
   "outputs": [],
   "source": [
    "data['Age'].fillna(data['Age'].median(),inplace=True)\n"
   ]
  },
  {
   "cell_type": "code",
   "execution_count": 13,
   "id": "2f74c9ab",
   "metadata": {},
   "outputs": [],
   "source": [
    "data['Embarked'].fillna(data['Embarked'].mode()[0],inplace=True)"
   ]
  },
  {
   "cell_type": "code",
   "execution_count": 14,
   "id": "2d14ecb8",
   "metadata": {},
   "outputs": [
    {
     "data": {
      "text/plain": [
       "Survived    0\n",
       "Pclass      0\n",
       "Name        0\n",
       "Sex         0\n",
       "Age         0\n",
       "SibSp       0\n",
       "Parch       0\n",
       "Fare        0\n",
       "Embarked    0\n",
       "dtype: int64"
      ]
     },
     "execution_count": 14,
     "metadata": {},
     "output_type": "execute_result"
    }
   ],
   "source": [
    "data.isna().sum()"
   ]
  },
  {
   "cell_type": "markdown",
   "id": "af942c15",
   "metadata": {},
   "source": [
    "- There are no more null values"
   ]
  },
  {
   "cell_type": "code",
   "execution_count": 15,
   "id": "0c21618a",
   "metadata": {},
   "outputs": [
    {
     "data": {
      "text/html": [
       "<div>\n",
       "<style scoped>\n",
       "    .dataframe tbody tr th:only-of-type {\n",
       "        vertical-align: middle;\n",
       "    }\n",
       "\n",
       "    .dataframe tbody tr th {\n",
       "        vertical-align: top;\n",
       "    }\n",
       "\n",
       "    .dataframe thead th {\n",
       "        text-align: right;\n",
       "    }\n",
       "</style>\n",
       "<table border=\"1\" class=\"dataframe\">\n",
       "  <thead>\n",
       "    <tr style=\"text-align: right;\">\n",
       "      <th></th>\n",
       "      <th>Survived</th>\n",
       "      <th>Pclass</th>\n",
       "      <th>Age</th>\n",
       "      <th>SibSp</th>\n",
       "      <th>Parch</th>\n",
       "      <th>Fare</th>\n",
       "    </tr>\n",
       "  </thead>\n",
       "  <tbody>\n",
       "    <tr>\n",
       "      <th>count</th>\n",
       "      <td>891.000000</td>\n",
       "      <td>891.000000</td>\n",
       "      <td>891.000000</td>\n",
       "      <td>891.000000</td>\n",
       "      <td>891.000000</td>\n",
       "      <td>891.000000</td>\n",
       "    </tr>\n",
       "    <tr>\n",
       "      <th>mean</th>\n",
       "      <td>0.383838</td>\n",
       "      <td>2.308642</td>\n",
       "      <td>29.361582</td>\n",
       "      <td>0.523008</td>\n",
       "      <td>0.381594</td>\n",
       "      <td>32.204208</td>\n",
       "    </tr>\n",
       "    <tr>\n",
       "      <th>std</th>\n",
       "      <td>0.486592</td>\n",
       "      <td>0.836071</td>\n",
       "      <td>13.019697</td>\n",
       "      <td>1.102743</td>\n",
       "      <td>0.806057</td>\n",
       "      <td>49.693429</td>\n",
       "    </tr>\n",
       "    <tr>\n",
       "      <th>min</th>\n",
       "      <td>0.000000</td>\n",
       "      <td>1.000000</td>\n",
       "      <td>0.420000</td>\n",
       "      <td>0.000000</td>\n",
       "      <td>0.000000</td>\n",
       "      <td>0.000000</td>\n",
       "    </tr>\n",
       "    <tr>\n",
       "      <th>25%</th>\n",
       "      <td>0.000000</td>\n",
       "      <td>2.000000</td>\n",
       "      <td>22.000000</td>\n",
       "      <td>0.000000</td>\n",
       "      <td>0.000000</td>\n",
       "      <td>7.910400</td>\n",
       "    </tr>\n",
       "    <tr>\n",
       "      <th>50%</th>\n",
       "      <td>0.000000</td>\n",
       "      <td>3.000000</td>\n",
       "      <td>28.000000</td>\n",
       "      <td>0.000000</td>\n",
       "      <td>0.000000</td>\n",
       "      <td>14.454200</td>\n",
       "    </tr>\n",
       "    <tr>\n",
       "      <th>75%</th>\n",
       "      <td>1.000000</td>\n",
       "      <td>3.000000</td>\n",
       "      <td>35.000000</td>\n",
       "      <td>1.000000</td>\n",
       "      <td>0.000000</td>\n",
       "      <td>31.000000</td>\n",
       "    </tr>\n",
       "    <tr>\n",
       "      <th>max</th>\n",
       "      <td>1.000000</td>\n",
       "      <td>3.000000</td>\n",
       "      <td>80.000000</td>\n",
       "      <td>8.000000</td>\n",
       "      <td>6.000000</td>\n",
       "      <td>512.329200</td>\n",
       "    </tr>\n",
       "  </tbody>\n",
       "</table>\n",
       "</div>"
      ],
      "text/plain": [
       "         Survived      Pclass         Age       SibSp       Parch        Fare\n",
       "count  891.000000  891.000000  891.000000  891.000000  891.000000  891.000000\n",
       "mean     0.383838    2.308642   29.361582    0.523008    0.381594   32.204208\n",
       "std      0.486592    0.836071   13.019697    1.102743    0.806057   49.693429\n",
       "min      0.000000    1.000000    0.420000    0.000000    0.000000    0.000000\n",
       "25%      0.000000    2.000000   22.000000    0.000000    0.000000    7.910400\n",
       "50%      0.000000    3.000000   28.000000    0.000000    0.000000   14.454200\n",
       "75%      1.000000    3.000000   35.000000    1.000000    0.000000   31.000000\n",
       "max      1.000000    3.000000   80.000000    8.000000    6.000000  512.329200"
      ]
     },
     "execution_count": 15,
     "metadata": {},
     "output_type": "execute_result"
    }
   ],
   "source": [
    "data.describe()"
   ]
  },
  {
   "cell_type": "code",
   "execution_count": 16,
   "id": "59ddc271",
   "metadata": {},
   "outputs": [
    {
     "data": {
      "text/plain": [
       "0.42"
      ]
     },
     "execution_count": 16,
     "metadata": {},
     "output_type": "execute_result"
    }
   ],
   "source": [
    "data['Age'].min()"
   ]
  },
  {
   "cell_type": "markdown",
   "id": "d14be71c",
   "metadata": {},
   "source": [
    "### Survived"
   ]
  },
  {
   "cell_type": "code",
   "execution_count": 17,
   "id": "e5d41135",
   "metadata": {},
   "outputs": [
    {
     "data": {
      "text/plain": [
       "0    549\n",
       "1    342\n",
       "Name: Survived, dtype: int64"
      ]
     },
     "execution_count": 17,
     "metadata": {},
     "output_type": "execute_result"
    }
   ],
   "source": [
    "data['Survived'].value_counts()"
   ]
  },
  {
   "cell_type": "code",
   "execution_count": 18,
   "id": "37e2f397",
   "metadata": {},
   "outputs": [
    {
     "data": {
      "text/plain": [
       "<AxesSubplot:xlabel='Survived', ylabel='count'>"
      ]
     },
     "execution_count": 18,
     "metadata": {},
     "output_type": "execute_result"
    },
    {
     "data": {
      "image/png": "[encoded data removed]",
      "text/plain": [
       "<Figure size 720x432 with 1 Axes>"
      ]
     },
     "metadata": {
      "needs_background": "light"
     },
     "output_type": "display_data"
    }
   ],
   "source": [
    "plt.figure(figsize=(10,6))\n",
    "sns.countplot(x='Survived', data= data)"
   ]
  },
  {
   "cell_type": "markdown",
   "id": "474c2b12",
   "metadata": {},
   "source": [
    "### Sex"
   ]
  },
  {
   "cell_type": "code",
   "execution_count": 19,
   "id": "284bf83f",
   "metadata": {},
   "outputs": [
    {
     "data": {
      "text/plain": [
       "<AxesSubplot:xlabel='Sex', ylabel='count'>"
      ]
     },
     "execution_count": 19,
     "metadata": {},
     "output_type": "execute_result"
    },
    {
     "data": {
      "image/png": "[encoded data removed]",
      "text/plain": [
       "<Figure size 720x360 with 1 Axes>"
      ]
     },
     "metadata": {
      "needs_background": "light"
     },
     "output_type": "display_data"
    }
   ],
   "source": [
    "plt.figure(figsize=(10,5))\n",
    "sns.countplot(x='Sex', data= data)"
   ]
  },
  {
   "cell_type": "code",
   "execution_count": 20,
   "id": "458204ca",
   "metadata": {},
   "outputs": [
    {
     "data": {
      "text/plain": [
       "<AxesSubplot:xlabel='Survived', ylabel='count'>"
      ]
     },
     "execution_count": 20,
     "metadata": {},
     "output_type": "execute_result"
    },
    {
     "data": {
      "image/png": "[encoded data removed]",
      "text/plain": [
       "<Figure size 720x432 with 1 Axes>"
      ]
     },
     "metadata": {
      "needs_background": "light"
     },
     "output_type": "display_data"
    }
   ],
   "source": [
    "plt.figure(figsize=(10,6))\n",
    "sns.countplot(x='Survived', hue='Sex', data= data)"
   ]
  },
  {
   "cell_type": "markdown",
   "id": "136216d4",
   "metadata": {},
   "source": [
    "### Pclass"
   ]
  },
  {
   "cell_type": "markdown",
   "id": "d9190a59",
   "metadata": {},
   "source": [
    "There is no missing value on this feature and already a numerical value. so let's check it's impact on our train set."
   ]
  },
  {
   "cell_type": "code",
   "execution_count": 21,
   "id": "e5b0168e",
   "metadata": {},
   "outputs": [
    {
     "data": {
      "text/plain": [
       "3    491\n",
       "1    216\n",
       "2    184\n",
       "Name: Pclass, dtype: int64"
      ]
     },
     "execution_count": 21,
     "metadata": {},
     "output_type": "execute_result"
    }
   ],
   "source": [
    "data['Pclass'].value_counts()"
   ]
  },
  {
   "cell_type": "code",
   "execution_count": 22,
   "id": "3eecea2d",
   "metadata": {},
   "outputs": [
    {
     "name": "stdout",
     "output_type": "stream",
     "text": [
      "Survival Rate in Pclass: \n",
      "\n",
      "    Pclass  Survived\n",
      "0       1  0.629630\n",
      "1       2  0.472826\n",
      "2       3  0.242363\n"
     ]
    }
   ],
   "source": [
    "print('Survival Rate in Pclass: \\n\\n',data[['Pclass', 'Survived']].groupby(['Pclass'], as_index=False).mean())\n"
   ]
  },
  {
   "cell_type": "code",
   "execution_count": 23,
   "id": "7c55e621",
   "metadata": {
    "scrolled": false
   },
   "outputs": [
    {
     "data": {
      "text/plain": [
       "<AxesSubplot:xlabel='Survived', ylabel='count'>"
      ]
     },
     "execution_count": 23,
     "metadata": {},
     "output_type": "execute_result"
    },
    {
     "data": {
      "image/png": "[encoded data removed]",
      "text/plain": [
       "<Figure size 720x432 with 1 Axes>"
      ]
     },
     "metadata": {
      "needs_background": "light"
     },
     "output_type": "display_data"
    }
   ],
   "source": [
    "plt.figure(figsize=(10,6))\n",
    "sns.countplot(x='Survived', hue='Pclass', data= data)"
   ]
  },
  {
   "cell_type": "markdown",
   "id": "938682d7",
   "metadata": {},
   "source": [
    "### SibSp"
   ]
  },
  {
   "cell_type": "code",
   "execution_count": 24,
   "id": "51b451eb",
   "metadata": {},
   "outputs": [
    {
     "data": {
      "text/plain": [
       "0    608\n",
       "1    209\n",
       "2     28\n",
       "4     18\n",
       "3     16\n",
       "8      7\n",
       "5      5\n",
       "Name: SibSp, dtype: int64"
      ]
     },
     "execution_count": 24,
     "metadata": {},
     "output_type": "execute_result"
    }
   ],
   "source": [
    "data['SibSp'].value_counts()"
   ]
  },
  {
   "cell_type": "code",
   "execution_count": 25,
   "id": "5d812cea",
   "metadata": {},
   "outputs": [
    {
     "data": {
      "text/plain": [
       "<AxesSubplot:xlabel='Survived', ylabel='count'>"
      ]
     },
     "execution_count": 25,
     "metadata": {},
     "output_type": "execute_result"
    },
    {
     "data": {
      "image/png": "[encoded data removed]",
      "text/plain": [
       "<Figure size 720x432 with 1 Axes>"
      ]
     },
     "metadata": {
      "needs_background": "light"
     },
     "output_type": "display_data"
    }
   ],
   "source": [
    "plt.figure(figsize=(10,6))\n",
    "sns.countplot(x='Survived', hue='SibSp', data= data)"
   ]
  },
  {
   "cell_type": "markdown",
   "id": "b19774c1",
   "metadata": {},
   "source": [
    "#### Name"
   ]
  },
  {
   "cell_type": "code",
   "execution_count": 26,
   "id": "116661ac",
   "metadata": {},
   "outputs": [],
   "source": [
    "# new data frame with split value columns\n",
    "data[\"Name\"]= data[\"Name\"].str.split(\"t\", n = 1, expand = True)"
   ]
  },
  {
   "cell_type": "code",
   "execution_count": 27,
   "id": "1472a048",
   "metadata": {},
   "outputs": [],
   "source": [
    "# new data frame with split value columns\n",
    "new = data[\"Name\"].str.split(\" \", n = 1, expand = True)\n",
    "  \n",
    "# making separate first name column from new data frame\n",
    "data[\"First_Name\"]= new[1]\n",
    "  \n",
    "# making separate last name column from new data frame\n",
    "data[\"Last_Name\"]= new[0]\n",
    "  \n",
    "# Dropping old Name columns\n",
    "data.drop(columns =[\"Name\"], inplace = True)"
   ]
  },
  {
   "cell_type": "code",
   "execution_count": 28,
   "id": "3c4eccef",
   "metadata": {},
   "outputs": [
    {
     "data": {
      "text/html": [
       "<div>\n",
       "<style scoped>\n",
       "    .dataframe tbody tr th:only-of-type {\n",
       "        vertical-align: middle;\n",
       "    }\n",
       "\n",
       "    .dataframe tbody tr th {\n",
       "        vertical-align: top;\n",
       "    }\n",
       "\n",
       "    .dataframe thead th {\n",
       "        text-align: right;\n",
       "    }\n",
       "</style>\n",
       "<table border=\"1\" class=\"dataframe\">\n",
       "  <thead>\n",
       "    <tr style=\"text-align: right;\">\n",
       "      <th></th>\n",
       "      <th>Survived</th>\n",
       "      <th>Pclass</th>\n",
       "      <th>Sex</th>\n",
       "      <th>Age</th>\n",
       "      <th>SibSp</th>\n",
       "      <th>Parch</th>\n",
       "      <th>Fare</th>\n",
       "      <th>Embarked</th>\n",
       "      <th>First_Name</th>\n",
       "      <th>Last_Name</th>\n",
       "    </tr>\n",
       "    <tr>\n",
       "      <th>PassengerId</th>\n",
       "      <th></th>\n",
       "      <th></th>\n",
       "      <th></th>\n",
       "      <th></th>\n",
       "      <th></th>\n",
       "      <th></th>\n",
       "      <th></th>\n",
       "      <th></th>\n",
       "      <th></th>\n",
       "      <th></th>\n",
       "    </tr>\n",
       "  </thead>\n",
       "  <tbody>\n",
       "    <tr>\n",
       "      <th>1</th>\n",
       "      <td>0</td>\n",
       "      <td>3</td>\n",
       "      <td>male</td>\n",
       "      <td>22.0</td>\n",
       "      <td>1</td>\n",
       "      <td>0</td>\n",
       "      <td>7.2500</td>\n",
       "      <td>S</td>\n",
       "      <td>Mr. Owen Harris</td>\n",
       "      <td>Braund,</td>\n",
       "    </tr>\n",
       "    <tr>\n",
       "      <th>2</th>\n",
       "      <td>1</td>\n",
       "      <td>1</td>\n",
       "      <td>female</td>\n",
       "      <td>38.0</td>\n",
       "      <td>1</td>\n",
       "      <td>0</td>\n",
       "      <td>71.2833</td>\n",
       "      <td>C</td>\n",
       "      <td>Mrs. John Bradley (Florence Briggs Thayer)</td>\n",
       "      <td>Cumings,</td>\n",
       "    </tr>\n",
       "    <tr>\n",
       "      <th>3</th>\n",
       "      <td>1</td>\n",
       "      <td>3</td>\n",
       "      <td>female</td>\n",
       "      <td>26.0</td>\n",
       "      <td>0</td>\n",
       "      <td>0</td>\n",
       "      <td>7.9250</td>\n",
       "      <td>S</td>\n",
       "      <td>Miss. Laina</td>\n",
       "      <td>Heikkinen,</td>\n",
       "    </tr>\n",
       "    <tr>\n",
       "      <th>4</th>\n",
       "      <td>1</td>\n",
       "      <td>1</td>\n",
       "      <td>female</td>\n",
       "      <td>35.0</td>\n",
       "      <td>1</td>\n",
       "      <td>0</td>\n",
       "      <td>53.1000</td>\n",
       "      <td>S</td>\n",
       "      <td>None</td>\n",
       "      <td>Fu</td>\n",
       "    </tr>\n",
       "    <tr>\n",
       "      <th>5</th>\n",
       "      <td>0</td>\n",
       "      <td>3</td>\n",
       "      <td>male</td>\n",
       "      <td>35.0</td>\n",
       "      <td>0</td>\n",
       "      <td>0</td>\n",
       "      <td>8.0500</td>\n",
       "      <td>S</td>\n",
       "      <td>Mr. William Henry</td>\n",
       "      <td>Allen,</td>\n",
       "    </tr>\n",
       "    <tr>\n",
       "      <th>...</th>\n",
       "      <td>...</td>\n",
       "      <td>...</td>\n",
       "      <td>...</td>\n",
       "      <td>...</td>\n",
       "      <td>...</td>\n",
       "      <td>...</td>\n",
       "      <td>...</td>\n",
       "      <td>...</td>\n",
       "      <td>...</td>\n",
       "      <td>...</td>\n",
       "    </tr>\n",
       "    <tr>\n",
       "      <th>887</th>\n",
       "      <td>0</td>\n",
       "      <td>2</td>\n",
       "      <td>male</td>\n",
       "      <td>27.0</td>\n",
       "      <td>0</td>\n",
       "      <td>0</td>\n",
       "      <td>13.0000</td>\n",
       "      <td>S</td>\n",
       "      <td>None</td>\n",
       "      <td>Mon</td>\n",
       "    </tr>\n",
       "    <tr>\n",
       "      <th>888</th>\n",
       "      <td>1</td>\n",
       "      <td>1</td>\n",
       "      <td>female</td>\n",
       "      <td>19.0</td>\n",
       "      <td>0</td>\n",
       "      <td>0</td>\n",
       "      <td>30.0000</td>\n",
       "      <td>S</td>\n",
       "      <td>Miss. Margare</td>\n",
       "      <td>Graham,</td>\n",
       "    </tr>\n",
       "    <tr>\n",
       "      <th>889</th>\n",
       "      <td>0</td>\n",
       "      <td>3</td>\n",
       "      <td>female</td>\n",
       "      <td>28.0</td>\n",
       "      <td>1</td>\n",
       "      <td>2</td>\n",
       "      <td>23.4500</td>\n",
       "      <td>S</td>\n",
       "      <td>None</td>\n",
       "      <td>Johns</td>\n",
       "    </tr>\n",
       "    <tr>\n",
       "      <th>890</th>\n",
       "      <td>1</td>\n",
       "      <td>1</td>\n",
       "      <td>male</td>\n",
       "      <td>26.0</td>\n",
       "      <td>0</td>\n",
       "      <td>0</td>\n",
       "      <td>30.0000</td>\n",
       "      <td>C</td>\n",
       "      <td>Mr. Karl Howell</td>\n",
       "      <td>Behr,</td>\n",
       "    </tr>\n",
       "    <tr>\n",
       "      <th>891</th>\n",
       "      <td>0</td>\n",
       "      <td>3</td>\n",
       "      <td>male</td>\n",
       "      <td>32.0</td>\n",
       "      <td>0</td>\n",
       "      <td>0</td>\n",
       "      <td>7.7500</td>\n",
       "      <td>Q</td>\n",
       "      <td>Mr. Pa</td>\n",
       "      <td>Dooley,</td>\n",
       "    </tr>\n",
       "  </tbody>\n",
       "</table>\n",
       "<p>891 rows × 10 columns</p>\n",
       "</div>"
      ],
      "text/plain": [
       "             Survived  Pclass     Sex   Age  SibSp  Parch     Fare Embarked  \\\n",
       "PassengerId                                                                   \n",
       "1                   0       3    male  22.0      1      0   7.2500        S   \n",
       "2                   1       1  female  38.0      1      0  71.2833        C   \n",
       "3                   1       3  female  26.0      0      0   7.9250        S   \n",
       "4                   1       1  female  35.0      1      0  53.1000        S   \n",
       "5                   0       3    male  35.0      0      0   8.0500        S   \n",
       "...               ...     ...     ...   ...    ...    ...      ...      ...   \n",
       "887                 0       2    male  27.0      0      0  13.0000        S   \n",
       "888                 1       1  female  19.0      0      0  30.0000        S   \n",
       "889                 0       3  female  28.0      1      2  23.4500        S   \n",
       "890                 1       1    male  26.0      0      0  30.0000        C   \n",
       "891                 0       3    male  32.0      0      0   7.7500        Q   \n",
       "\n",
       "                                             First_Name   Last_Name  \n",
       "PassengerId                                                          \n",
       "1                                       Mr. Owen Harris     Braund,  \n",
       "2            Mrs. John Bradley (Florence Briggs Thayer)    Cumings,  \n",
       "3                                           Miss. Laina  Heikkinen,  \n",
       "4                                                  None          Fu  \n",
       "5                                     Mr. William Henry      Allen,  \n",
       "...                                                 ...         ...  \n",
       "887                                                None         Mon  \n",
       "888                                       Miss. Margare     Graham,  \n",
       "889                                                None       Johns  \n",
       "890                                     Mr. Karl Howell       Behr,  \n",
       "891                                              Mr. Pa     Dooley,  \n",
       "\n",
       "[891 rows x 10 columns]"
      ]
     },
     "execution_count": 28,
     "metadata": {},
     "output_type": "execute_result"
    }
   ],
   "source": [
    "data"
   ]
  },
  {
   "cell_type": "code",
   "execution_count": 29,
   "id": "337b55b7",
   "metadata": {},
   "outputs": [
    {
     "data": {
      "text/plain": [
       "S             14\n",
       "Andersson,     9\n",
       "Pe             8\n",
       "Sage,          7\n",
       "Car            6\n",
       "              ..\n",
       "Fleming,       1\n",
       "Silver         1\n",
       "Parkes,        1\n",
       "Jerwan,        1\n",
       "Nilsson,       1\n",
       "Name: Last_Name, Length: 638, dtype: int64"
      ]
     },
     "execution_count": 29,
     "metadata": {},
     "output_type": "execute_result"
    }
   ],
   "source": [
    "data['Last_Name'].value_counts()"
   ]
  },
  {
   "cell_type": "code",
   "execution_count": 30,
   "id": "3536e25d",
   "metadata": {},
   "outputs": [
    {
     "name": "stdout",
     "output_type": "stream",
     "text": [
      "Survival Rate for Passengers with same Surname: \n",
      "\n",
      "       Last_Name  Survived\n",
      "0             A  0.000000\n",
      "1       Abbing,  0.000000\n",
      "2          Abbo  0.500000\n",
      "3      Abelson,  0.500000\n",
      "4        Adahl,  0.000000\n",
      "..          ...       ...\n",
      "633     Zabour,  0.000000\n",
      "634  Zimmerman,  0.000000\n",
      "635          de  0.666667\n",
      "636         del  0.000000\n",
      "637         van  0.000000\n",
      "\n",
      "[638 rows x 2 columns]\n"
     ]
    }
   ],
   "source": [
    "print('Survival Rate for Passengers with same Surname: \\n\\n',data[['Last_Name', 'Survived']].groupby(['Last_Name'], as_index=False).mean())"
   ]
  },
  {
   "cell_type": "markdown",
   "id": "a2204752",
   "metadata": {},
   "source": [
    "- WIll remove the Name data as this may not be effective in overall prediction"
   ]
  },
  {
   "cell_type": "code",
   "execution_count": 31,
   "id": "0bfca114",
   "metadata": {},
   "outputs": [],
   "source": [
    "data = data.drop(columns = ['First_Name','Last_Name'])"
   ]
  },
  {
   "cell_type": "code",
   "execution_count": 32,
   "id": "d6cf434a",
   "metadata": {},
   "outputs": [
    {
     "data": {
      "text/html": [
       "<div>\n",
       "<style scoped>\n",
       "    .dataframe tbody tr th:only-of-type {\n",
       "        vertical-align: middle;\n",
       "    }\n",
       "\n",
       "    .dataframe tbody tr th {\n",
       "        vertical-align: top;\n",
       "    }\n",
       "\n",
       "    .dataframe thead th {\n",
       "        text-align: right;\n",
       "    }\n",
       "</style>\n",
       "<table border=\"1\" class=\"dataframe\">\n",
       "  <thead>\n",
       "    <tr style=\"text-align: right;\">\n",
       "      <th></th>\n",
       "      <th>Survived</th>\n",
       "      <th>Pclass</th>\n",
       "      <th>Sex</th>\n",
       "      <th>Age</th>\n",
       "      <th>SibSp</th>\n",
       "      <th>Parch</th>\n",
       "      <th>Fare</th>\n",
       "      <th>Embarked</th>\n",
       "    </tr>\n",
       "    <tr>\n",
       "      <th>PassengerId</th>\n",
       "      <th></th>\n",
       "      <th></th>\n",
       "      <th></th>\n",
       "      <th></th>\n",
       "      <th></th>\n",
       "      <th></th>\n",
       "      <th></th>\n",
       "      <th></th>\n",
       "    </tr>\n",
       "  </thead>\n",
       "  <tbody>\n",
       "    <tr>\n",
       "      <th>1</th>\n",
       "      <td>0</td>\n",
       "      <td>3</td>\n",
       "      <td>male</td>\n",
       "      <td>22.0</td>\n",
       "      <td>1</td>\n",
       "      <td>0</td>\n",
       "      <td>7.2500</td>\n",
       "      <td>S</td>\n",
       "    </tr>\n",
       "    <tr>\n",
       "      <th>2</th>\n",
       "      <td>1</td>\n",
       "      <td>1</td>\n",
       "      <td>female</td>\n",
       "      <td>38.0</td>\n",
       "      <td>1</td>\n",
       "      <td>0</td>\n",
       "      <td>71.2833</td>\n",
       "      <td>C</td>\n",
       "    </tr>\n",
       "    <tr>\n",
       "      <th>3</th>\n",
       "      <td>1</td>\n",
       "      <td>3</td>\n",
       "      <td>female</td>\n",
       "      <td>26.0</td>\n",
       "      <td>0</td>\n",
       "      <td>0</td>\n",
       "      <td>7.9250</td>\n",
       "      <td>S</td>\n",
       "    </tr>\n",
       "    <tr>\n",
       "      <th>4</th>\n",
       "      <td>1</td>\n",
       "      <td>1</td>\n",
       "      <td>female</td>\n",
       "      <td>35.0</td>\n",
       "      <td>1</td>\n",
       "      <td>0</td>\n",
       "      <td>53.1000</td>\n",
       "      <td>S</td>\n",
       "    </tr>\n",
       "    <tr>\n",
       "      <th>5</th>\n",
       "      <td>0</td>\n",
       "      <td>3</td>\n",
       "      <td>male</td>\n",
       "      <td>35.0</td>\n",
       "      <td>0</td>\n",
       "      <td>0</td>\n",
       "      <td>8.0500</td>\n",
       "      <td>S</td>\n",
       "    </tr>\n",
       "    <tr>\n",
       "      <th>...</th>\n",
       "      <td>...</td>\n",
       "      <td>...</td>\n",
       "      <td>...</td>\n",
       "      <td>...</td>\n",
       "      <td>...</td>\n",
       "      <td>...</td>\n",
       "      <td>...</td>\n",
       "      <td>...</td>\n",
       "    </tr>\n",
       "    <tr>\n",
       "      <th>887</th>\n",
       "      <td>0</td>\n",
       "      <td>2</td>\n",
       "      <td>male</td>\n",
       "      <td>27.0</td>\n",
       "      <td>0</td>\n",
       "      <td>0</td>\n",
       "      <td>13.0000</td>\n",
       "      <td>S</td>\n",
       "    </tr>\n",
       "    <tr>\n",
       "      <th>888</th>\n",
       "      <td>1</td>\n",
       "      <td>1</td>\n",
       "      <td>female</td>\n",
       "      <td>19.0</td>\n",
       "      <td>0</td>\n",
       "      <td>0</td>\n",
       "      <td>30.0000</td>\n",
       "      <td>S</td>\n",
       "    </tr>\n",
       "    <tr>\n",
       "      <th>889</th>\n",
       "      <td>0</td>\n",
       "      <td>3</td>\n",
       "      <td>female</td>\n",
       "      <td>28.0</td>\n",
       "      <td>1</td>\n",
       "      <td>2</td>\n",
       "      <td>23.4500</td>\n",
       "      <td>S</td>\n",
       "    </tr>\n",
       "    <tr>\n",
       "      <th>890</th>\n",
       "      <td>1</td>\n",
       "      <td>1</td>\n",
       "      <td>male</td>\n",
       "      <td>26.0</td>\n",
       "      <td>0</td>\n",
       "      <td>0</td>\n",
       "      <td>30.0000</td>\n",
       "      <td>C</td>\n",
       "    </tr>\n",
       "    <tr>\n",
       "      <th>891</th>\n",
       "      <td>0</td>\n",
       "      <td>3</td>\n",
       "      <td>male</td>\n",
       "      <td>32.0</td>\n",
       "      <td>0</td>\n",
       "      <td>0</td>\n",
       "      <td>7.7500</td>\n",
       "      <td>Q</td>\n",
       "    </tr>\n",
       "  </tbody>\n",
       "</table>\n",
       "<p>891 rows × 8 columns</p>\n",
       "</div>"
      ],
      "text/plain": [
       "             Survived  Pclass     Sex   Age  SibSp  Parch     Fare Embarked\n",
       "PassengerId                                                                \n",
       "1                   0       3    male  22.0      1      0   7.2500        S\n",
       "2                   1       1  female  38.0      1      0  71.2833        C\n",
       "3                   1       3  female  26.0      0      0   7.9250        S\n",
       "4                   1       1  female  35.0      1      0  53.1000        S\n",
       "5                   0       3    male  35.0      0      0   8.0500        S\n",
       "...               ...     ...     ...   ...    ...    ...      ...      ...\n",
       "887                 0       2    male  27.0      0      0  13.0000        S\n",
       "888                 1       1  female  19.0      0      0  30.0000        S\n",
       "889                 0       3  female  28.0      1      2  23.4500        S\n",
       "890                 1       1    male  26.0      0      0  30.0000        C\n",
       "891                 0       3    male  32.0      0      0   7.7500        Q\n",
       "\n",
       "[891 rows x 8 columns]"
      ]
     },
     "execution_count": 32,
     "metadata": {},
     "output_type": "execute_result"
    }
   ],
   "source": [
    "data"
   ]
  },
  {
   "cell_type": "markdown",
   "id": "40f743e8",
   "metadata": {},
   "source": [
    "## Data Visualization"
   ]
  },
  {
   "cell_type": "code",
   "execution_count": 33,
   "id": "b7fb749c",
   "metadata": {},
   "outputs": [
    {
     "data": {
      "image/png": "[encoded data removed]",
      "text/plain": [
       "<Figure size 1080x1656 with 2 Axes>"
      ]
     },
     "metadata": {
      "needs_background": "light"
     },
     "output_type": "display_data"
    }
   ],
   "source": [
    "df = ['Age','Fare']\n",
    "\n",
    "plt.figure(figsize = (15,23))\n",
    "plotnumber=1\n",
    "\n",
    "for i in df:\n",
    "    if plotnumber<12:\n",
    "        ax=plt.subplot(6,2,plotnumber)\n",
    "        sns.boxplot(data[i],color = 'Green')\n",
    "        plt.xlabel(i,fontsize=20)\n",
    "    plotnumber +=1\n",
    "\n",
    "plt.tight_layout()"
   ]
  },
  {
   "cell_type": "code",
   "execution_count": 34,
   "id": "93ed56ef",
   "metadata": {},
   "outputs": [],
   "source": [
    "DF = data.drop(columns = ['Survived','Pclass','Sex','SibSp', 'Parch','Embarked'])"
   ]
  },
  {
   "cell_type": "code",
   "execution_count": 329,
   "id": "ae1f3ced",
   "metadata": {},
   "outputs": [
    {
     "data": {
      "text/plain": [
       "Age     0.510245\n",
       "Fare    4.787317\n",
       "dtype: float64"
      ]
     },
     "execution_count": 329,
     "metadata": {},
     "output_type": "execute_result"
    }
   ],
   "source": [
    "DF.skew()"
   ]
  },
  {
   "cell_type": "markdown",
   "id": "9064921a",
   "metadata": {},
   "source": [
    "IQR Method"
   ]
  },
  {
   "cell_type": "code",
   "execution_count": 35,
   "id": "dfe8cfff",
   "metadata": {},
   "outputs": [],
   "source": [
    "Q1 = DF.quantile(0.25)\n",
    "Q3 = DF.quantile(0.75)\n",
    "IQR = Q3-Q1\n",
    "\n",
    "data_new1 = DF[~((DF < (Q1-1.5*IQR)) | (DF> (Q3 + 1.5*Q3))).any(axis = 1)]"
   ]
  },
  {
   "cell_type": "code",
   "execution_count": 36,
   "id": "f030d858",
   "metadata": {},
   "outputs": [
    {
     "name": "stdout",
     "output_type": "stream",
     "text": [
      "Shape - Before and After:\n",
      "\n",
      "Shape Before         : (891, 2)\n",
      "Shape After          : (779, 2)\n",
      "Percentage Loss      : 0.12570145903479238\n"
     ]
    }
   ],
   "source": [
    "print('Shape - Before and After:\\n')\n",
    "print('Shape Before'.ljust(20),\":\",DF.shape)\n",
    "print('Shape After'.ljust(20),\":\",data_new1.shape)\n",
    "print('Percentage Loss'.ljust(20),\":\",(DF.shape[0]-data_new1.shape[0])/DF.shape[0])"
   ]
  },
  {
   "cell_type": "code",
   "execution_count": 37,
   "id": "3dad97a8",
   "metadata": {},
   "outputs": [],
   "source": [
    "#importing libraries\n",
    "\n",
    "from scipy.stats import zscore"
   ]
  },
  {
   "cell_type": "code",
   "execution_count": 38,
   "id": "0c83916c",
   "metadata": {},
   "outputs": [],
   "source": [
    "z=np.abs(zscore(DF))\n",
    "threshold = 3\n",
    "data_new2 = DF[(z<3).all(axis=1)]"
   ]
  },
  {
   "cell_type": "code",
   "execution_count": 39,
   "id": "5ecf3e3f",
   "metadata": {},
   "outputs": [
    {
     "name": "stdout",
     "output_type": "stream",
     "text": [
      "Shape - Before and After:\n",
      "\n",
      "Shape Before         : (891, 2)\n",
      "Shape After          : (864, 2)\n",
      "Percentage Loss      : 0.030303030303030304\n"
     ]
    }
   ],
   "source": [
    "print('Shape - Before and After:\\n')\n",
    "print('Shape Before'.ljust(20),\":\",DF.shape)\n",
    "print('Shape After'.ljust(20),\":\",data_new2.shape)\n",
    "print('Percentage Loss'.ljust(20),\":\",(DF.shape[0]-data_new2.shape[0])/DF.shape[0])"
   ]
  },
  {
   "cell_type": "markdown",
   "id": "72b804a5",
   "metadata": {},
   "source": [
    "##### Loss of data is less by using zscore method when compared to IQR method\n",
    "- Hence using zscore cleaned data for further analysis"
   ]
  },
  {
   "cell_type": "code",
   "execution_count": 330,
   "id": "761e4ad8",
   "metadata": {},
   "outputs": [
    {
     "data": {
      "text/plain": [
       "Age     0.321096\n",
       "Fare    2.257178\n",
       "dtype: float64"
      ]
     },
     "execution_count": 330,
     "metadata": {},
     "output_type": "execute_result"
    }
   ],
   "source": [
    "data_new2.skew()"
   ]
  },
  {
   "cell_type": "code",
   "execution_count": 331,
   "id": "b7f2a649",
   "metadata": {},
   "outputs": [
    {
     "data": {
      "text/html": [
       "<div>\n",
       "<style scoped>\n",
       "    .dataframe tbody tr th:only-of-type {\n",
       "        vertical-align: middle;\n",
       "    }\n",
       "\n",
       "    .dataframe tbody tr th {\n",
       "        vertical-align: top;\n",
       "    }\n",
       "\n",
       "    .dataframe thead th {\n",
       "        text-align: right;\n",
       "    }\n",
       "</style>\n",
       "<table border=\"1\" class=\"dataframe\">\n",
       "  <thead>\n",
       "    <tr style=\"text-align: right;\">\n",
       "      <th></th>\n",
       "      <th>Age</th>\n",
       "      <th>Fare</th>\n",
       "    </tr>\n",
       "    <tr>\n",
       "      <th>PassengerId</th>\n",
       "      <th></th>\n",
       "      <th></th>\n",
       "    </tr>\n",
       "  </thead>\n",
       "  <tbody>\n",
       "    <tr>\n",
       "      <th>1</th>\n",
       "      <td>22.0</td>\n",
       "      <td>7.2500</td>\n",
       "    </tr>\n",
       "    <tr>\n",
       "      <th>2</th>\n",
       "      <td>38.0</td>\n",
       "      <td>71.2833</td>\n",
       "    </tr>\n",
       "    <tr>\n",
       "      <th>3</th>\n",
       "      <td>26.0</td>\n",
       "      <td>7.9250</td>\n",
       "    </tr>\n",
       "    <tr>\n",
       "      <th>4</th>\n",
       "      <td>35.0</td>\n",
       "      <td>53.1000</td>\n",
       "    </tr>\n",
       "    <tr>\n",
       "      <th>5</th>\n",
       "      <td>35.0</td>\n",
       "      <td>8.0500</td>\n",
       "    </tr>\n",
       "    <tr>\n",
       "      <th>...</th>\n",
       "      <td>...</td>\n",
       "      <td>...</td>\n",
       "    </tr>\n",
       "    <tr>\n",
       "      <th>887</th>\n",
       "      <td>27.0</td>\n",
       "      <td>13.0000</td>\n",
       "    </tr>\n",
       "    <tr>\n",
       "      <th>888</th>\n",
       "      <td>19.0</td>\n",
       "      <td>30.0000</td>\n",
       "    </tr>\n",
       "    <tr>\n",
       "      <th>889</th>\n",
       "      <td>28.0</td>\n",
       "      <td>23.4500</td>\n",
       "    </tr>\n",
       "    <tr>\n",
       "      <th>890</th>\n",
       "      <td>26.0</td>\n",
       "      <td>30.0000</td>\n",
       "    </tr>\n",
       "    <tr>\n",
       "      <th>891</th>\n",
       "      <td>32.0</td>\n",
       "      <td>7.7500</td>\n",
       "    </tr>\n",
       "  </tbody>\n",
       "</table>\n",
       "<p>864 rows × 2 columns</p>\n",
       "</div>"
      ],
      "text/plain": [
       "              Age     Fare\n",
       "PassengerId               \n",
       "1            22.0   7.2500\n",
       "2            38.0  71.2833\n",
       "3            26.0   7.9250\n",
       "4            35.0  53.1000\n",
       "5            35.0   8.0500\n",
       "...           ...      ...\n",
       "887          27.0  13.0000\n",
       "888          19.0  30.0000\n",
       "889          28.0  23.4500\n",
       "890          26.0  30.0000\n",
       "891          32.0   7.7500\n",
       "\n",
       "[864 rows x 2 columns]"
      ]
     },
     "execution_count": 331,
     "metadata": {},
     "output_type": "execute_result"
    }
   ],
   "source": [
    "data_new2"
   ]
  },
  {
   "cell_type": "code",
   "execution_count": 41,
   "id": "382b6a8e",
   "metadata": {},
   "outputs": [],
   "source": [
    "data = data.drop(columns = ['Age','Fare'])  #droping the original Age and Fare data in order to add the cleaned data"
   ]
  },
  {
   "cell_type": "code",
   "execution_count": 42,
   "id": "31947267",
   "metadata": {},
   "outputs": [
    {
     "data": {
      "text/html": [
       "<div>\n",
       "<style scoped>\n",
       "    .dataframe tbody tr th:only-of-type {\n",
       "        vertical-align: middle;\n",
       "    }\n",
       "\n",
       "    .dataframe tbody tr th {\n",
       "        vertical-align: top;\n",
       "    }\n",
       "\n",
       "    .dataframe thead th {\n",
       "        text-align: right;\n",
       "    }\n",
       "</style>\n",
       "<table border=\"1\" class=\"dataframe\">\n",
       "  <thead>\n",
       "    <tr style=\"text-align: right;\">\n",
       "      <th></th>\n",
       "      <th>Survived</th>\n",
       "      <th>Pclass</th>\n",
       "      <th>Sex</th>\n",
       "      <th>SibSp</th>\n",
       "      <th>Parch</th>\n",
       "      <th>Embarked</th>\n",
       "    </tr>\n",
       "    <tr>\n",
       "      <th>PassengerId</th>\n",
       "      <th></th>\n",
       "      <th></th>\n",
       "      <th></th>\n",
       "      <th></th>\n",
       "      <th></th>\n",
       "      <th></th>\n",
       "    </tr>\n",
       "  </thead>\n",
       "  <tbody>\n",
       "    <tr>\n",
       "      <th>1</th>\n",
       "      <td>0</td>\n",
       "      <td>3</td>\n",
       "      <td>male</td>\n",
       "      <td>1</td>\n",
       "      <td>0</td>\n",
       "      <td>S</td>\n",
       "    </tr>\n",
       "    <tr>\n",
       "      <th>2</th>\n",
       "      <td>1</td>\n",
       "      <td>1</td>\n",
       "      <td>female</td>\n",
       "      <td>1</td>\n",
       "      <td>0</td>\n",
       "      <td>C</td>\n",
       "    </tr>\n",
       "    <tr>\n",
       "      <th>3</th>\n",
       "      <td>1</td>\n",
       "      <td>3</td>\n",
       "      <td>female</td>\n",
       "      <td>0</td>\n",
       "      <td>0</td>\n",
       "      <td>S</td>\n",
       "    </tr>\n",
       "    <tr>\n",
       "      <th>4</th>\n",
       "      <td>1</td>\n",
       "      <td>1</td>\n",
       "      <td>female</td>\n",
       "      <td>1</td>\n",
       "      <td>0</td>\n",
       "      <td>S</td>\n",
       "    </tr>\n",
       "    <tr>\n",
       "      <th>5</th>\n",
       "      <td>0</td>\n",
       "      <td>3</td>\n",
       "      <td>male</td>\n",
       "      <td>0</td>\n",
       "      <td>0</td>\n",
       "      <td>S</td>\n",
       "    </tr>\n",
       "    <tr>\n",
       "      <th>...</th>\n",
       "      <td>...</td>\n",
       "      <td>...</td>\n",
       "      <td>...</td>\n",
       "      <td>...</td>\n",
       "      <td>...</td>\n",
       "      <td>...</td>\n",
       "    </tr>\n",
       "    <tr>\n",
       "      <th>887</th>\n",
       "      <td>0</td>\n",
       "      <td>2</td>\n",
       "      <td>male</td>\n",
       "      <td>0</td>\n",
       "      <td>0</td>\n",
       "      <td>S</td>\n",
       "    </tr>\n",
       "    <tr>\n",
       "      <th>888</th>\n",
       "      <td>1</td>\n",
       "      <td>1</td>\n",
       "      <td>female</td>\n",
       "      <td>0</td>\n",
       "      <td>0</td>\n",
       "      <td>S</td>\n",
       "    </tr>\n",
       "    <tr>\n",
       "      <th>889</th>\n",
       "      <td>0</td>\n",
       "      <td>3</td>\n",
       "      <td>female</td>\n",
       "      <td>1</td>\n",
       "      <td>2</td>\n",
       "      <td>S</td>\n",
       "    </tr>\n",
       "    <tr>\n",
       "      <th>890</th>\n",
       "      <td>1</td>\n",
       "      <td>1</td>\n",
       "      <td>male</td>\n",
       "      <td>0</td>\n",
       "      <td>0</td>\n",
       "      <td>C</td>\n",
       "    </tr>\n",
       "    <tr>\n",
       "      <th>891</th>\n",
       "      <td>0</td>\n",
       "      <td>3</td>\n",
       "      <td>male</td>\n",
       "      <td>0</td>\n",
       "      <td>0</td>\n",
       "      <td>Q</td>\n",
       "    </tr>\n",
       "  </tbody>\n",
       "</table>\n",
       "<p>891 rows × 6 columns</p>\n",
       "</div>"
      ],
      "text/plain": [
       "             Survived  Pclass     Sex  SibSp  Parch Embarked\n",
       "PassengerId                                                 \n",
       "1                   0       3    male      1      0        S\n",
       "2                   1       1  female      1      0        C\n",
       "3                   1       3  female      0      0        S\n",
       "4                   1       1  female      1      0        S\n",
       "5                   0       3    male      0      0        S\n",
       "...               ...     ...     ...    ...    ...      ...\n",
       "887                 0       2    male      0      0        S\n",
       "888                 1       1  female      0      0        S\n",
       "889                 0       3  female      1      2        S\n",
       "890                 1       1    male      0      0        C\n",
       "891                 0       3    male      0      0        Q\n",
       "\n",
       "[891 rows x 6 columns]"
      ]
     },
     "execution_count": 42,
     "metadata": {},
     "output_type": "execute_result"
    }
   ],
   "source": [
    "data"
   ]
  },
  {
   "cell_type": "code",
   "execution_count": 43,
   "id": "1791a7b4",
   "metadata": {},
   "outputs": [],
   "source": [
    "cleaned_data1 = data_new2['Age']"
   ]
  },
  {
   "cell_type": "code",
   "execution_count": 44,
   "id": "8e28504d",
   "metadata": {},
   "outputs": [],
   "source": [
    "data = pd.concat([data, cleaned_data1], axis=1, join=\"inner\")"
   ]
  },
  {
   "cell_type": "code",
   "execution_count": 45,
   "id": "a874f0af",
   "metadata": {},
   "outputs": [],
   "source": [
    "cleaned_data2 = data_new2['Fare']"
   ]
  },
  {
   "cell_type": "code",
   "execution_count": 46,
   "id": "df67dc3e",
   "metadata": {},
   "outputs": [],
   "source": [
    "data = pd.concat([data, cleaned_data2], axis=1, join=\"inner\")"
   ]
  },
  {
   "cell_type": "code",
   "execution_count": 327,
   "id": "51ab82c9",
   "metadata": {},
   "outputs": [
    {
     "data": {
      "text/html": [
       "<div>\n",
       "<style scoped>\n",
       "    .dataframe tbody tr th:only-of-type {\n",
       "        vertical-align: middle;\n",
       "    }\n",
       "\n",
       "    .dataframe tbody tr th {\n",
       "        vertical-align: top;\n",
       "    }\n",
       "\n",
       "    .dataframe thead th {\n",
       "        text-align: right;\n",
       "    }\n",
       "</style>\n",
       "<table border=\"1\" class=\"dataframe\">\n",
       "  <thead>\n",
       "    <tr style=\"text-align: right;\">\n",
       "      <th></th>\n",
       "      <th>Survived</th>\n",
       "      <th>Pclass</th>\n",
       "      <th>Sex</th>\n",
       "      <th>SibSp</th>\n",
       "      <th>Parch</th>\n",
       "      <th>Embarked</th>\n",
       "      <th>Age</th>\n",
       "      <th>Fare</th>\n",
       "      <th>Family_members</th>\n",
       "    </tr>\n",
       "    <tr>\n",
       "      <th>PassengerId</th>\n",
       "      <th></th>\n",
       "      <th></th>\n",
       "      <th></th>\n",
       "      <th></th>\n",
       "      <th></th>\n",
       "      <th></th>\n",
       "      <th></th>\n",
       "      <th></th>\n",
       "      <th></th>\n",
       "    </tr>\n",
       "  </thead>\n",
       "  <tbody>\n",
       "    <tr>\n",
       "      <th>1</th>\n",
       "      <td>0</td>\n",
       "      <td>3</td>\n",
       "      <td>male</td>\n",
       "      <td>1</td>\n",
       "      <td>0</td>\n",
       "      <td>2</td>\n",
       "      <td>22.0</td>\n",
       "      <td>7.2500</td>\n",
       "      <td>2</td>\n",
       "    </tr>\n",
       "    <tr>\n",
       "      <th>2</th>\n",
       "      <td>1</td>\n",
       "      <td>1</td>\n",
       "      <td>female</td>\n",
       "      <td>1</td>\n",
       "      <td>0</td>\n",
       "      <td>0</td>\n",
       "      <td>38.0</td>\n",
       "      <td>71.2833</td>\n",
       "      <td>2</td>\n",
       "    </tr>\n",
       "    <tr>\n",
       "      <th>3</th>\n",
       "      <td>1</td>\n",
       "      <td>3</td>\n",
       "      <td>female</td>\n",
       "      <td>0</td>\n",
       "      <td>0</td>\n",
       "      <td>2</td>\n",
       "      <td>26.0</td>\n",
       "      <td>7.9250</td>\n",
       "      <td>1</td>\n",
       "    </tr>\n",
       "    <tr>\n",
       "      <th>4</th>\n",
       "      <td>1</td>\n",
       "      <td>1</td>\n",
       "      <td>female</td>\n",
       "      <td>1</td>\n",
       "      <td>0</td>\n",
       "      <td>2</td>\n",
       "      <td>35.0</td>\n",
       "      <td>53.1000</td>\n",
       "      <td>2</td>\n",
       "    </tr>\n",
       "    <tr>\n",
       "      <th>5</th>\n",
       "      <td>0</td>\n",
       "      <td>3</td>\n",
       "      <td>male</td>\n",
       "      <td>0</td>\n",
       "      <td>0</td>\n",
       "      <td>2</td>\n",
       "      <td>35.0</td>\n",
       "      <td>8.0500</td>\n",
       "      <td>1</td>\n",
       "    </tr>\n",
       "    <tr>\n",
       "      <th>...</th>\n",
       "      <td>...</td>\n",
       "      <td>...</td>\n",
       "      <td>...</td>\n",
       "      <td>...</td>\n",
       "      <td>...</td>\n",
       "      <td>...</td>\n",
       "      <td>...</td>\n",
       "      <td>...</td>\n",
       "      <td>...</td>\n",
       "    </tr>\n",
       "    <tr>\n",
       "      <th>887</th>\n",
       "      <td>0</td>\n",
       "      <td>2</td>\n",
       "      <td>male</td>\n",
       "      <td>0</td>\n",
       "      <td>0</td>\n",
       "      <td>2</td>\n",
       "      <td>27.0</td>\n",
       "      <td>13.0000</td>\n",
       "      <td>1</td>\n",
       "    </tr>\n",
       "    <tr>\n",
       "      <th>888</th>\n",
       "      <td>1</td>\n",
       "      <td>1</td>\n",
       "      <td>female</td>\n",
       "      <td>0</td>\n",
       "      <td>0</td>\n",
       "      <td>2</td>\n",
       "      <td>19.0</td>\n",
       "      <td>30.0000</td>\n",
       "      <td>1</td>\n",
       "    </tr>\n",
       "    <tr>\n",
       "      <th>889</th>\n",
       "      <td>0</td>\n",
       "      <td>3</td>\n",
       "      <td>female</td>\n",
       "      <td>1</td>\n",
       "      <td>2</td>\n",
       "      <td>2</td>\n",
       "      <td>28.0</td>\n",
       "      <td>23.4500</td>\n",
       "      <td>4</td>\n",
       "    </tr>\n",
       "    <tr>\n",
       "      <th>890</th>\n",
       "      <td>1</td>\n",
       "      <td>1</td>\n",
       "      <td>male</td>\n",
       "      <td>0</td>\n",
       "      <td>0</td>\n",
       "      <td>0</td>\n",
       "      <td>26.0</td>\n",
       "      <td>30.0000</td>\n",
       "      <td>1</td>\n",
       "    </tr>\n",
       "    <tr>\n",
       "      <th>891</th>\n",
       "      <td>0</td>\n",
       "      <td>3</td>\n",
       "      <td>male</td>\n",
       "      <td>0</td>\n",
       "      <td>0</td>\n",
       "      <td>1</td>\n",
       "      <td>32.0</td>\n",
       "      <td>7.7500</td>\n",
       "      <td>1</td>\n",
       "    </tr>\n",
       "  </tbody>\n",
       "</table>\n",
       "<p>864 rows × 9 columns</p>\n",
       "</div>"
      ],
      "text/plain": [
       "             Survived  Pclass     Sex  SibSp  Parch  Embarked   Age     Fare  \\\n",
       "PassengerId                                                                    \n",
       "1                   0       3    male      1      0         2  22.0   7.2500   \n",
       "2                   1       1  female      1      0         0  38.0  71.2833   \n",
       "3                   1       3  female      0      0         2  26.0   7.9250   \n",
       "4                   1       1  female      1      0         2  35.0  53.1000   \n",
       "5                   0       3    male      0      0         2  35.0   8.0500   \n",
       "...               ...     ...     ...    ...    ...       ...   ...      ...   \n",
       "887                 0       2    male      0      0         2  27.0  13.0000   \n",
       "888                 1       1  female      0      0         2  19.0  30.0000   \n",
       "889                 0       3  female      1      2         2  28.0  23.4500   \n",
       "890                 1       1    male      0      0         0  26.0  30.0000   \n",
       "891                 0       3    male      0      0         1  32.0   7.7500   \n",
       "\n",
       "             Family_members  \n",
       "PassengerId                  \n",
       "1                         2  \n",
       "2                         2  \n",
       "3                         1  \n",
       "4                         2  \n",
       "5                         1  \n",
       "...                     ...  \n",
       "887                       1  \n",
       "888                       1  \n",
       "889                       4  \n",
       "890                       1  \n",
       "891                       1  \n",
       "\n",
       "[864 rows x 9 columns]"
      ]
     },
     "execution_count": 327,
     "metadata": {},
     "output_type": "execute_result"
    }
   ],
   "source": [
    "data"
   ]
  },
  {
   "cell_type": "code",
   "execution_count": 48,
   "id": "a9f5b086",
   "metadata": {},
   "outputs": [
    {
     "data": {
      "image/png": "[encoded data removed]",
      "text/plain": [
       "<Figure size 1080x1656 with 2 Axes>"
      ]
     },
     "metadata": {
      "needs_background": "light"
     },
     "output_type": "display_data"
    }
   ],
   "source": [
    "y_vars = ['Age','Fare']\n",
    "\n",
    "plt.figure(figsize = (15,23))\n",
    "plotnumber=1\n",
    "\n",
    "for y in y_vars:\n",
    "    if plotnumber<12:\n",
    "        ax=plt.subplot(6,2,plotnumber)\n",
    "        sns.stripplot(data=data,x='Survived',y=y, size=10, linewidth=1)\n",
    "    plotnumber +=1    "
   ]
  },
  {
   "cell_type": "markdown",
   "id": "9ddeb7e7",
   "metadata": {},
   "source": [
    "\n",
    "\n",
    "\n",
    "#### SibSp  and   Parch"
   ]
  },
  {
   "cell_type": "markdown",
   "id": "842bd8ac",
   "metadata": {},
   "source": [
    "With the number of siblings/spouse and the number of children/parents we can create new feature called \"Family_members\"."
   ]
  },
  {
   "cell_type": "code",
   "execution_count": 49,
   "id": "f300378f",
   "metadata": {},
   "outputs": [],
   "source": [
    "data['Family_members'] = data.SibSp + data.Parch + 1"
   ]
  },
  {
   "cell_type": "code",
   "execution_count": 50,
   "id": "b02fcaf2",
   "metadata": {},
   "outputs": [
    {
     "name": "stdout",
     "output_type": "stream",
     "text": [
      "   Family_members  Survived\n",
      "0               1  0.299618\n",
      "1               2  0.541935\n",
      "2               3  0.590000\n",
      "3               4  0.724138\n",
      "4               5  0.076923\n",
      "5               6  0.055556\n",
      "6               7  0.333333\n",
      "7               8  0.000000\n",
      "8              11  0.000000\n"
     ]
    }
   ],
   "source": [
    "print (data[['Family_members', 'Survived']].groupby(['Family_members'], as_index=False).mean())"
   ]
  },
  {
   "cell_type": "markdown",
   "id": "9ce9e013",
   "metadata": {},
   "source": [
    "It seems has a good effect on our prediction"
   ]
  },
  {
   "cell_type": "markdown",
   "id": "bfebc077",
   "metadata": {},
   "source": [
    "#### Embarked"
   ]
  },
  {
   "cell_type": "code",
   "execution_count": 51,
   "id": "f8ced44c",
   "metadata": {},
   "outputs": [],
   "source": [
    "from sklearn.preprocessing import LabelEncoder\n",
    "l_enc = LabelEncoder()"
   ]
  },
  {
   "cell_type": "code",
   "execution_count": 52,
   "id": "0b8ebcc4",
   "metadata": {},
   "outputs": [
    {
     "data": {
      "text/html": [
       "<div>\n",
       "<style scoped>\n",
       "    .dataframe tbody tr th:only-of-type {\n",
       "        vertical-align: middle;\n",
       "    }\n",
       "\n",
       "    .dataframe tbody tr th {\n",
       "        vertical-align: top;\n",
       "    }\n",
       "\n",
       "    .dataframe thead th {\n",
       "        text-align: right;\n",
       "    }\n",
       "</style>\n",
       "<table border=\"1\" class=\"dataframe\">\n",
       "  <thead>\n",
       "    <tr style=\"text-align: right;\">\n",
       "      <th></th>\n",
       "      <th>Survived</th>\n",
       "      <th>Pclass</th>\n",
       "      <th>Sex</th>\n",
       "      <th>SibSp</th>\n",
       "      <th>Parch</th>\n",
       "      <th>Embarked</th>\n",
       "      <th>Age</th>\n",
       "      <th>Fare</th>\n",
       "      <th>Family_members</th>\n",
       "    </tr>\n",
       "    <tr>\n",
       "      <th>PassengerId</th>\n",
       "      <th></th>\n",
       "      <th></th>\n",
       "      <th></th>\n",
       "      <th></th>\n",
       "      <th></th>\n",
       "      <th></th>\n",
       "      <th></th>\n",
       "      <th></th>\n",
       "      <th></th>\n",
       "    </tr>\n",
       "  </thead>\n",
       "  <tbody>\n",
       "    <tr>\n",
       "      <th>1</th>\n",
       "      <td>0</td>\n",
       "      <td>3</td>\n",
       "      <td>male</td>\n",
       "      <td>1</td>\n",
       "      <td>0</td>\n",
       "      <td>2</td>\n",
       "      <td>22.0</td>\n",
       "      <td>7.2500</td>\n",
       "      <td>2</td>\n",
       "    </tr>\n",
       "    <tr>\n",
       "      <th>2</th>\n",
       "      <td>1</td>\n",
       "      <td>1</td>\n",
       "      <td>female</td>\n",
       "      <td>1</td>\n",
       "      <td>0</td>\n",
       "      <td>0</td>\n",
       "      <td>38.0</td>\n",
       "      <td>71.2833</td>\n",
       "      <td>2</td>\n",
       "    </tr>\n",
       "    <tr>\n",
       "      <th>3</th>\n",
       "      <td>1</td>\n",
       "      <td>3</td>\n",
       "      <td>female</td>\n",
       "      <td>0</td>\n",
       "      <td>0</td>\n",
       "      <td>2</td>\n",
       "      <td>26.0</td>\n",
       "      <td>7.9250</td>\n",
       "      <td>1</td>\n",
       "    </tr>\n",
       "    <tr>\n",
       "      <th>4</th>\n",
       "      <td>1</td>\n",
       "      <td>1</td>\n",
       "      <td>female</td>\n",
       "      <td>1</td>\n",
       "      <td>0</td>\n",
       "      <td>2</td>\n",
       "      <td>35.0</td>\n",
       "      <td>53.1000</td>\n",
       "      <td>2</td>\n",
       "    </tr>\n",
       "    <tr>\n",
       "      <th>5</th>\n",
       "      <td>0</td>\n",
       "      <td>3</td>\n",
       "      <td>male</td>\n",
       "      <td>0</td>\n",
       "      <td>0</td>\n",
       "      <td>2</td>\n",
       "      <td>35.0</td>\n",
       "      <td>8.0500</td>\n",
       "      <td>1</td>\n",
       "    </tr>\n",
       "  </tbody>\n",
       "</table>\n",
       "</div>"
      ],
      "text/plain": [
       "             Survived  Pclass     Sex  SibSp  Parch  Embarked   Age     Fare  \\\n",
       "PassengerId                                                                    \n",
       "1                   0       3    male      1      0         2  22.0   7.2500   \n",
       "2                   1       1  female      1      0         0  38.0  71.2833   \n",
       "3                   1       3  female      0      0         2  26.0   7.9250   \n",
       "4                   1       1  female      1      0         2  35.0  53.1000   \n",
       "5                   0       3    male      0      0         2  35.0   8.0500   \n",
       "\n",
       "             Family_members  \n",
       "PassengerId                  \n",
       "1                         2  \n",
       "2                         2  \n",
       "3                         1  \n",
       "4                         2  \n",
       "5                         1  "
      ]
     },
     "execution_count": 52,
     "metadata": {},
     "output_type": "execute_result"
    }
   ],
   "source": [
    "data['Embarked'] = l_enc.fit_transform(data['Embarked'])\n",
    "data.head()"
   ]
  },
  {
   "cell_type": "markdown",
   "id": "208bba07",
   "metadata": {},
   "source": [
    "## Correlation between features v/s features"
   ]
  },
  {
   "cell_type": "code",
   "execution_count": 53,
   "id": "05e88523",
   "metadata": {},
   "outputs": [
    {
     "data": {
      "image/png": "[encoded data removed]",
      "text/plain": [
       "<Figure size 648x504 with 2 Axes>"
      ]
     },
     "metadata": {
      "needs_background": "light"
     },
     "output_type": "display_data"
    }
   ],
   "source": [
    "data_corr = data.corr().abs() #to get the correlation values\n",
    "\n",
    "plt.figure(figsize=(9,7))\n",
    "sns.heatmap(data_corr,vmin=-1,vmax=1,annot=True,square=True,center=0,fmt='.1g',linewidth=0.02,cmap = 'PuBu_r')\n",
    "\n",
    "plt.tight_layout()"
   ]
  },
  {
   "cell_type": "markdown",
   "id": "bb07cdc1",
   "metadata": {},
   "source": [
    "- Features 'Embarked' and 'Age' are least correlated with each other with valu '0.009'\n",
    "- Features 'Family_members' are highly correlated with 'SibSp' value '0.9' and with 'Parch' value '0.8'\n",
    "- we see that correlation between features are not more than 0.9"
   ]
  },
  {
   "cell_type": "markdown",
   "id": "53334862",
   "metadata": {},
   "source": [
    "###### Applying Encoding to Categorical Data"
   ]
  },
  {
   "cell_type": "code",
   "execution_count": 54,
   "id": "cb66ffb7",
   "metadata": {},
   "outputs": [
    {
     "name": "stdout",
     "output_type": "stream",
     "text": [
      "Requirement already satisfied: category_encoders in c:\\users\\91977\\anaconda3\\lib\\site-packages (2.2.2)\n",
      "Requirement already satisfied: statsmodels>=0.9.0 in c:\\users\\91977\\anaconda3\\lib\\site-packages (from category_encoders) (0.12.2)\n",
      "Requirement already satisfied: numpy>=1.14.0 in c:\\users\\91977\\anaconda3\\lib\\site-packages (from category_encoders) (1.20.1)\n",
      "Requirement already satisfied: scikit-learn>=0.20.0 in c:\\users\\91977\\anaconda3\\lib\\site-packages (from category_encoders) (0.24.1)\n",
      "Requirement already satisfied: pandas>=0.21.1 in c:\\users\\91977\\anaconda3\\lib\\site-packages (from category_encoders) (1.2.4)\n",
      "Requirement already satisfied: scipy>=1.0.0 in c:\\users\\91977\\anaconda3\\lib\\site-packages (from category_encoders) (1.6.2)\n",
      "Requirement already satisfied: patsy>=0.5.1 in c:\\users\\91977\\anaconda3\\lib\\site-packages (from category_encoders) (0.5.1)\n",
      "Requirement already satisfied: python-dateutil>=2.7.3 in c:\\users\\91977\\anaconda3\\lib\\site-packages (from pandas>=0.21.1->category_encoders) (2.8.1)\n",
      "Requirement already satisfied: pytz>=2017.3 in c:\\users\\91977\\anaconda3\\lib\\site-packages (from pandas>=0.21.1->category_encoders) (2021.1)\n",
      "Requirement already satisfied: six in c:\\users\\91977\\anaconda3\\lib\\site-packages (from patsy>=0.5.1->category_encoders) (1.15.0)\n",
      "Requirement already satisfied: threadpoolctl>=2.0.0 in c:\\users\\91977\\anaconda3\\lib\\site-packages (from scikit-learn>=0.20.0->category_encoders) (2.1.0)\n",
      "Requirement already satisfied: joblib>=0.11 in c:\\users\\91977\\anaconda3\\lib\\site-packages (from scikit-learn>=0.20.0->category_encoders) (1.0.1)\n",
      "Note: you may need to restart the kernel to use updated packages.\n"
     ]
    }
   ],
   "source": [
    "pip install category_encoders"
   ]
  },
  {
   "cell_type": "code",
   "execution_count": 55,
   "id": "2941d3e2",
   "metadata": {},
   "outputs": [],
   "source": [
    "import category_encoders as ce\n",
    "\n",
    "ohe = ce.OneHotEncoder(cols = ['Sex'],use_cat_names=True)\n",
    "Titanic = ohe.fit_transform(data)"
   ]
  },
  {
   "cell_type": "code",
   "execution_count": 56,
   "id": "4f7207d0",
   "metadata": {},
   "outputs": [
    {
     "data": {
      "text/html": [
       "<div>\n",
       "<style scoped>\n",
       "    .dataframe tbody tr th:only-of-type {\n",
       "        vertical-align: middle;\n",
       "    }\n",
       "\n",
       "    .dataframe tbody tr th {\n",
       "        vertical-align: top;\n",
       "    }\n",
       "\n",
       "    .dataframe thead th {\n",
       "        text-align: right;\n",
       "    }\n",
       "</style>\n",
       "<table border=\"1\" class=\"dataframe\">\n",
       "  <thead>\n",
       "    <tr style=\"text-align: right;\">\n",
       "      <th></th>\n",
       "      <th>Survived</th>\n",
       "      <th>Pclass</th>\n",
       "      <th>Sex_male</th>\n",
       "      <th>Sex_female</th>\n",
       "      <th>SibSp</th>\n",
       "      <th>Parch</th>\n",
       "      <th>Embarked</th>\n",
       "      <th>Age</th>\n",
       "      <th>Fare</th>\n",
       "      <th>Family_members</th>\n",
       "    </tr>\n",
       "    <tr>\n",
       "      <th>PassengerId</th>\n",
       "      <th></th>\n",
       "      <th></th>\n",
       "      <th></th>\n",
       "      <th></th>\n",
       "      <th></th>\n",
       "      <th></th>\n",
       "      <th></th>\n",
       "      <th></th>\n",
       "      <th></th>\n",
       "      <th></th>\n",
       "    </tr>\n",
       "  </thead>\n",
       "  <tbody>\n",
       "    <tr>\n",
       "      <th>1</th>\n",
       "      <td>0</td>\n",
       "      <td>3</td>\n",
       "      <td>1</td>\n",
       "      <td>0</td>\n",
       "      <td>1</td>\n",
       "      <td>0</td>\n",
       "      <td>2</td>\n",
       "      <td>22.0</td>\n",
       "      <td>7.2500</td>\n",
       "      <td>2</td>\n",
       "    </tr>\n",
       "    <tr>\n",
       "      <th>2</th>\n",
       "      <td>1</td>\n",
       "      <td>1</td>\n",
       "      <td>0</td>\n",
       "      <td>1</td>\n",
       "      <td>1</td>\n",
       "      <td>0</td>\n",
       "      <td>0</td>\n",
       "      <td>38.0</td>\n",
       "      <td>71.2833</td>\n",
       "      <td>2</td>\n",
       "    </tr>\n",
       "    <tr>\n",
       "      <th>3</th>\n",
       "      <td>1</td>\n",
       "      <td>3</td>\n",
       "      <td>0</td>\n",
       "      <td>1</td>\n",
       "      <td>0</td>\n",
       "      <td>0</td>\n",
       "      <td>2</td>\n",
       "      <td>26.0</td>\n",
       "      <td>7.9250</td>\n",
       "      <td>1</td>\n",
       "    </tr>\n",
       "    <tr>\n",
       "      <th>4</th>\n",
       "      <td>1</td>\n",
       "      <td>1</td>\n",
       "      <td>0</td>\n",
       "      <td>1</td>\n",
       "      <td>1</td>\n",
       "      <td>0</td>\n",
       "      <td>2</td>\n",
       "      <td>35.0</td>\n",
       "      <td>53.1000</td>\n",
       "      <td>2</td>\n",
       "    </tr>\n",
       "    <tr>\n",
       "      <th>5</th>\n",
       "      <td>0</td>\n",
       "      <td>3</td>\n",
       "      <td>1</td>\n",
       "      <td>0</td>\n",
       "      <td>0</td>\n",
       "      <td>0</td>\n",
       "      <td>2</td>\n",
       "      <td>35.0</td>\n",
       "      <td>8.0500</td>\n",
       "      <td>1</td>\n",
       "    </tr>\n",
       "    <tr>\n",
       "      <th>...</th>\n",
       "      <td>...</td>\n",
       "      <td>...</td>\n",
       "      <td>...</td>\n",
       "      <td>...</td>\n",
       "      <td>...</td>\n",
       "      <td>...</td>\n",
       "      <td>...</td>\n",
       "      <td>...</td>\n",
       "      <td>...</td>\n",
       "      <td>...</td>\n",
       "    </tr>\n",
       "    <tr>\n",
       "      <th>887</th>\n",
       "      <td>0</td>\n",
       "      <td>2</td>\n",
       "      <td>1</td>\n",
       "      <td>0</td>\n",
       "      <td>0</td>\n",
       "      <td>0</td>\n",
       "      <td>2</td>\n",
       "      <td>27.0</td>\n",
       "      <td>13.0000</td>\n",
       "      <td>1</td>\n",
       "    </tr>\n",
       "    <tr>\n",
       "      <th>888</th>\n",
       "      <td>1</td>\n",
       "      <td>1</td>\n",
       "      <td>0</td>\n",
       "      <td>1</td>\n",
       "      <td>0</td>\n",
       "      <td>0</td>\n",
       "      <td>2</td>\n",
       "      <td>19.0</td>\n",
       "      <td>30.0000</td>\n",
       "      <td>1</td>\n",
       "    </tr>\n",
       "    <tr>\n",
       "      <th>889</th>\n",
       "      <td>0</td>\n",
       "      <td>3</td>\n",
       "      <td>0</td>\n",
       "      <td>1</td>\n",
       "      <td>1</td>\n",
       "      <td>2</td>\n",
       "      <td>2</td>\n",
       "      <td>28.0</td>\n",
       "      <td>23.4500</td>\n",
       "      <td>4</td>\n",
       "    </tr>\n",
       "    <tr>\n",
       "      <th>890</th>\n",
       "      <td>1</td>\n",
       "      <td>1</td>\n",
       "      <td>1</td>\n",
       "      <td>0</td>\n",
       "      <td>0</td>\n",
       "      <td>0</td>\n",
       "      <td>0</td>\n",
       "      <td>26.0</td>\n",
       "      <td>30.0000</td>\n",
       "      <td>1</td>\n",
       "    </tr>\n",
       "    <tr>\n",
       "      <th>891</th>\n",
       "      <td>0</td>\n",
       "      <td>3</td>\n",
       "      <td>1</td>\n",
       "      <td>0</td>\n",
       "      <td>0</td>\n",
       "      <td>0</td>\n",
       "      <td>1</td>\n",
       "      <td>32.0</td>\n",
       "      <td>7.7500</td>\n",
       "      <td>1</td>\n",
       "    </tr>\n",
       "  </tbody>\n",
       "</table>\n",
       "<p>864 rows × 10 columns</p>\n",
       "</div>"
      ],
      "text/plain": [
       "             Survived  Pclass  Sex_male  Sex_female  SibSp  Parch  Embarked  \\\n",
       "PassengerId                                                                   \n",
       "1                   0       3         1           0      1      0         2   \n",
       "2                   1       1         0           1      1      0         0   \n",
       "3                   1       3         0           1      0      0         2   \n",
       "4                   1       1         0           1      1      0         2   \n",
       "5                   0       3         1           0      0      0         2   \n",
       "...               ...     ...       ...         ...    ...    ...       ...   \n",
       "887                 0       2         1           0      0      0         2   \n",
       "888                 1       1         0           1      0      0         2   \n",
       "889                 0       3         0           1      1      2         2   \n",
       "890                 1       1         1           0      0      0         0   \n",
       "891                 0       3         1           0      0      0         1   \n",
       "\n",
       "              Age     Fare  Family_members  \n",
       "PassengerId                                 \n",
       "1            22.0   7.2500               2  \n",
       "2            38.0  71.2833               2  \n",
       "3            26.0   7.9250               1  \n",
       "4            35.0  53.1000               2  \n",
       "5            35.0   8.0500               1  \n",
       "...           ...      ...             ...  \n",
       "887          27.0  13.0000               1  \n",
       "888          19.0  30.0000               1  \n",
       "889          28.0  23.4500               4  \n",
       "890          26.0  30.0000               1  \n",
       "891          32.0   7.7500               1  \n",
       "\n",
       "[864 rows x 10 columns]"
      ]
     },
     "execution_count": 56,
     "metadata": {},
     "output_type": "execute_result"
    }
   ],
   "source": [
    "Titanic"
   ]
  },
  {
   "cell_type": "markdown",
   "id": "d2ee4550",
   "metadata": {},
   "source": [
    "# Splitting Features and Label"
   ]
  },
  {
   "cell_type": "code",
   "execution_count": 57,
   "id": "4fc42c26",
   "metadata": {},
   "outputs": [],
   "source": [
    "X = Titanic.drop(columns = 'Survived')\n",
    "Y= Titanic['Survived']"
   ]
  },
  {
   "cell_type": "markdown",
   "id": "bdd83afc",
   "metadata": {},
   "source": [
    "### Scaling data"
   ]
  },
  {
   "cell_type": "code",
   "execution_count": 58,
   "id": "a4d3366f",
   "metadata": {},
   "outputs": [
    {
     "data": {
      "text/plain": [
       "array([[ 0.8017188 ,  0.7330529 , -0.7330529 , ..., -0.55868162,\n",
       "        -0.6551603 ,  0.06935837],\n",
       "       [-1.64161469, -1.36415804,  1.36415804, ...,  0.72218694,\n",
       "         1.52409036,  0.06935837],\n",
       "       [ 0.8017188 , -1.36415804,  1.36415804, ..., -0.23846448,\n",
       "        -0.63218797, -0.55486695],\n",
       "       ...,\n",
       "       [ 0.8017188 , -1.36415804,  1.36415804, ..., -0.07835591,\n",
       "        -0.10382434,  1.317809  ],\n",
       "       [-1.64161469,  0.7330529 , -0.7330529 , ..., -0.23846448,\n",
       "         0.11909236, -0.55486695],\n",
       "       [ 0.8017188 ,  0.7330529 , -0.7330529 , ...,  0.24186123,\n",
       "        -0.63814376, -0.55486695]])"
      ]
     },
     "execution_count": 58,
     "metadata": {},
     "output_type": "execute_result"
    }
   ],
   "source": [
    "from sklearn.preprocessing import StandardScaler\n",
    "scaler = StandardScaler()\n",
    "\n",
    "X_scaled = scaler.fit_transform(X)\n",
    "X_scaled"
   ]
  },
  {
   "cell_type": "markdown",
   "id": "ddb04007",
   "metadata": {},
   "source": [
    "# Splitting train and test data"
   ]
  },
  {
   "cell_type": "code",
   "execution_count": 59,
   "id": "882d0cde",
   "metadata": {},
   "outputs": [],
   "source": [
    "#importing libraries\n",
    "from sklearn.model_selection import train_test_split\n"
   ]
  },
  {
   "cell_type": "code",
   "execution_count": 642,
   "id": "8c804c7a",
   "metadata": {},
   "outputs": [
    {
     "data": {
      "text/plain": [
       "PassengerId\n",
       "601    1\n",
       "90     0\n",
       "566    0\n",
       "243    0\n",
       "310    1\n",
       "Name: Survived, dtype: int64"
      ]
     },
     "execution_count": 642,
     "metadata": {},
     "output_type": "execute_result"
    }
   ],
   "source": [
    "x_train,x_test,y_train,y_test = train_test_split(X_scaled,Y,test_size = 0.20, random_state=23) #not applying scaled data\n",
    "y_train.sample(5)"
   ]
  },
  {
   "cell_type": "markdown",
   "id": "394f8fa7",
   "metadata": {},
   "source": [
    "# MODEL BUILDING:"
   ]
  },
  {
   "cell_type": "markdown",
   "id": "c2b829a5",
   "metadata": {},
   "source": [
    "#### Model1 : LogisticRegression"
   ]
  },
  {
   "cell_type": "code",
   "execution_count": 643,
   "id": "4d7ac159",
   "metadata": {},
   "outputs": [],
   "source": [
    "from sklearn.linear_model import LogisticRegression\n",
    "Log_Reg = LogisticRegression()\n",
    "Log_Reg.fit(x_train,y_train)\n",
    "y_pred_log = Log_Reg.predict(x_test)"
   ]
  },
  {
   "cell_type": "markdown",
   "id": "ffaf8d1d",
   "metadata": {},
   "source": [
    "Accuracy Score:"
   ]
  },
  {
   "cell_type": "code",
   "execution_count": 644,
   "id": "364f15ce",
   "metadata": {},
   "outputs": [
    {
     "name": "stdout",
     "output_type": "stream",
     "text": [
      "Accuracy Score:  0.7976878612716763\n",
      "Mean_Squared_Error:  0.2023121387283237\n",
      "R2_Score:  0.14259416595865215\n"
     ]
    }
   ],
   "source": [
    "print(\"Accuracy Score: \",accuracy_score(y_test,y_pred_log))\n",
    "print('Mean_Squared_Error: ',mean_squared_error(y_test,y_pred_log))\n",
    "print('R2_Score: ',r2_score(y_test,y_pred_log))"
   ]
  },
  {
   "cell_type": "markdown",
   "id": "b03a9244",
   "metadata": {},
   "source": [
    "Cross Validation:"
   ]
  },
  {
   "cell_type": "code",
   "execution_count": 645,
   "id": "ad0af110",
   "metadata": {},
   "outputs": [
    {
     "name": "stdout",
     "output_type": "stream",
     "text": [
      "Cross Validation Score:  [0.79166667 0.79513889 0.79513889]\n",
      "Avg_Cross_Validation Score:  0.7939814814814814\n"
     ]
    }
   ],
   "source": [
    "print(\"Cross Validation Score: \", cross_val_score(Log_Reg,X,Y,cv=3))\n",
    "print('Avg_Cross_Validation Score: ',cross_val_score(Log_Reg,X,Y,cv=3).mean())"
   ]
  },
  {
   "cell_type": "markdown",
   "id": "d91d528c",
   "metadata": {},
   "source": [
    "Confusion Matrix"
   ]
  },
  {
   "cell_type": "code",
   "execution_count": 646,
   "id": "3a2ab6d5",
   "metadata": {},
   "outputs": [
    {
     "data": {
      "text/plain": [
       "array([[92, 15],\n",
       "       [20, 46]], dtype=int64)"
      ]
     },
     "execution_count": 646,
     "metadata": {},
     "output_type": "execute_result"
    }
   ],
   "source": [
    "confusion_matrix(y_test,y_pred_log)"
   ]
  },
  {
   "cell_type": "code",
   "execution_count": 647,
   "id": "050bf972",
   "metadata": {},
   "outputs": [
    {
     "data": {
      "image/png": "[encoded data removed]",
      "text/plain": [
       "<Figure size 432x288 with 2 Axes>"
      ]
     },
     "metadata": {
      "needs_background": "light"
     },
     "output_type": "display_data"
    }
   ],
   "source": [
    "import scikitplot as skplt\n",
    "skplt.metrics.plot_confusion_matrix(y_test,y_pred_log)\n",
    "plt.show()"
   ]
  },
  {
   "cell_type": "code",
   "execution_count": 648,
   "id": "82766e46",
   "metadata": {},
   "outputs": [
    {
     "name": "stdout",
     "output_type": "stream",
     "text": [
      "              precision    recall  f1-score   support\n",
      "\n",
      "           0       0.82      0.86      0.84       107\n",
      "           1       0.75      0.70      0.72        66\n",
      "\n",
      "    accuracy                           0.80       173\n",
      "   macro avg       0.79      0.78      0.78       173\n",
      "weighted avg       0.80      0.80      0.80       173\n",
      "\n"
     ]
    }
   ],
   "source": [
    "print(classification_report(y_test,y_pred_log))"
   ]
  },
  {
   "cell_type": "markdown",
   "id": "77975377",
   "metadata": {},
   "source": [
    "#### Model2: DecisionTreeClassifier"
   ]
  },
  {
   "cell_type": "code",
   "execution_count": 649,
   "id": "60818cfe",
   "metadata": {},
   "outputs": [],
   "source": [
    "from sklearn.tree import DecisionTreeClassifier\n",
    "\n",
    "dtc = DecisionTreeClassifier()\n",
    "dtc.fit(x_train,y_train)\n",
    "y_pred_dtc= dtc.predict(x_test)"
   ]
  },
  {
   "cell_type": "markdown",
   "id": "66ac1c5e",
   "metadata": {},
   "source": [
    "Accuracy Score:"
   ]
  },
  {
   "cell_type": "code",
   "execution_count": 650,
   "id": "27f19ea3",
   "metadata": {},
   "outputs": [
    {
     "name": "stdout",
     "output_type": "stream",
     "text": [
      "Accuracy Score:  0.8323699421965318\n",
      "Mean_Squared_Error:  0.1676300578034682\n",
      "R2_Score:  0.2895780232228832\n"
     ]
    }
   ],
   "source": [
    "print(\"Accuracy Score: \",accuracy_score(y_test,y_pred_dtc))\n",
    "print('Mean_Squared_Error: ',mean_squared_error(y_test,y_pred_dtc))\n",
    "print('R2_Score: ',r2_score(y_test,y_pred_dtc))"
   ]
  },
  {
   "cell_type": "markdown",
   "id": "aea852a1",
   "metadata": {},
   "source": [
    "Cross Validation:"
   ]
  },
  {
   "cell_type": "code",
   "execution_count": 651,
   "id": "78b4ade9",
   "metadata": {},
   "outputs": [
    {
     "name": "stdout",
     "output_type": "stream",
     "text": [
      "Cross Validation Score:  [0.74305556 0.78819444 0.77777778]\n",
      "Avg_Cross_Validation Score:  0.7708333333333334\n"
     ]
    }
   ],
   "source": [
    "print(\"Cross Validation Score: \", cross_val_score(dtc,X,Y,cv=3))\n",
    "print('Avg_Cross_Validation Score: ',cross_val_score(dtc,X,Y,cv=3).mean())"
   ]
  },
  {
   "cell_type": "markdown",
   "id": "748abcbe",
   "metadata": {},
   "source": [
    "Confusion Matrix"
   ]
  },
  {
   "cell_type": "code",
   "execution_count": 652,
   "id": "ce847a3a",
   "metadata": {},
   "outputs": [
    {
     "data": {
      "text/plain": [
       "array([[96, 11],\n",
       "       [18, 48]], dtype=int64)"
      ]
     },
     "execution_count": 652,
     "metadata": {},
     "output_type": "execute_result"
    }
   ],
   "source": [
    "confusion_matrix(y_test,y_pred_dtc)"
   ]
  },
  {
   "cell_type": "code",
   "execution_count": 653,
   "id": "aef69006",
   "metadata": {},
   "outputs": [
    {
     "data": {
      "image/png": "[encoded data removed]",
      "text/plain": [
       "<Figure size 432x288 with 2 Axes>"
      ]
     },
     "metadata": {
      "needs_background": "light"
     },
     "output_type": "display_data"
    }
   ],
   "source": [
    "import scikitplot as skplt\n",
    "skplt.metrics.plot_confusion_matrix(y_test,y_pred_dtc)\n",
    "plt.show()"
   ]
  },
  {
   "cell_type": "markdown",
   "id": "253d48bd",
   "metadata": {},
   "source": [
    "Classification Report"
   ]
  },
  {
   "cell_type": "code",
   "execution_count": 654,
   "id": "26881535",
   "metadata": {},
   "outputs": [
    {
     "name": "stdout",
     "output_type": "stream",
     "text": [
      "              precision    recall  f1-score   support\n",
      "\n",
      "           0       0.84      0.90      0.87       107\n",
      "           1       0.81      0.73      0.77        66\n",
      "\n",
      "    accuracy                           0.83       173\n",
      "   macro avg       0.83      0.81      0.82       173\n",
      "weighted avg       0.83      0.83      0.83       173\n",
      "\n"
     ]
    }
   ],
   "source": [
    "print(classification_report(y_test,y_pred_dtc))"
   ]
  },
  {
   "cell_type": "markdown",
   "id": "8366ff02",
   "metadata": {},
   "source": [
    "#### Model3 : RandomForestClassifier"
   ]
  },
  {
   "cell_type": "code",
   "execution_count": 655,
   "id": "e7c0b5ab",
   "metadata": {},
   "outputs": [],
   "source": [
    "from sklearn.ensemble import RandomForestClassifier\n",
    "\n",
    "Rand_C = RandomForestClassifier()\n",
    "Rand_C.fit(x_train,y_train)\n",
    "y_pred_Rand_C = Rand_C.predict(x_test)"
   ]
  },
  {
   "cell_type": "markdown",
   "id": "74e682ba",
   "metadata": {},
   "source": [
    "Accuracy Score:"
   ]
  },
  {
   "cell_type": "code",
   "execution_count": 656,
   "id": "139ecea6",
   "metadata": {},
   "outputs": [
    {
     "name": "stdout",
     "output_type": "stream",
     "text": [
      "Accuracy Score:  0.8265895953757225\n",
      "Mean_Squared_Error:  0.17341040462427745\n",
      "R2_Score:  0.26508071367884467\n"
     ]
    }
   ],
   "source": [
    "print(\"Accuracy Score: \",accuracy_score(y_test,y_pred_Rand_C))\n",
    "print('Mean_Squared_Error: ',mean_squared_error(y_test,y_pred_Rand_C))\n",
    "print('R2_Score: ',r2_score(y_test,y_pred_Rand_C))"
   ]
  },
  {
   "cell_type": "markdown",
   "id": "3f16fa35",
   "metadata": {},
   "source": [
    "Cross Validation:"
   ]
  },
  {
   "cell_type": "code",
   "execution_count": 657,
   "id": "2d247594",
   "metadata": {},
   "outputs": [
    {
     "name": "stdout",
     "output_type": "stream",
     "text": [
      "Cross Validation Score:  [0.77777778 0.80902778 0.80208333]\n",
      "Avg_Cross_Validation Score:  0.8020833333333334\n"
     ]
    }
   ],
   "source": [
    "print(\"Cross Validation Score: \", cross_val_score(Rand_C,X,Y,cv=3))\n",
    "print('Avg_Cross_Validation Score: ',cross_val_score(Rand_C,X,Y,cv=3).mean())"
   ]
  },
  {
   "cell_type": "markdown",
   "id": "5ad66e89",
   "metadata": {},
   "source": [
    "Confusion Matrix"
   ]
  },
  {
   "cell_type": "code",
   "execution_count": 658,
   "id": "46aef4bb",
   "metadata": {},
   "outputs": [
    {
     "data": {
      "text/plain": [
       "array([[95, 12],\n",
       "       [18, 48]], dtype=int64)"
      ]
     },
     "execution_count": 658,
     "metadata": {},
     "output_type": "execute_result"
    }
   ],
   "source": [
    "confusion_matrix(y_test,y_pred_Rand_C)"
   ]
  },
  {
   "cell_type": "code",
   "execution_count": 659,
   "id": "58ffd6d8",
   "metadata": {},
   "outputs": [
    {
     "data": {
      "image/png": "[encoded data removed]",
      "text/plain": [
       "<Figure size 432x288 with 2 Axes>"
      ]
     },
     "metadata": {
      "needs_background": "light"
     },
     "output_type": "display_data"
    }
   ],
   "source": [
    "import scikitplot as skplt\n",
    "skplt.metrics.plot_confusion_matrix(y_test,y_pred_Rand_C)\n",
    "plt.show()"
   ]
  },
  {
   "cell_type": "markdown",
   "id": "134108a9",
   "metadata": {},
   "source": [
    "Classification Report"
   ]
  },
  {
   "cell_type": "code",
   "execution_count": 660,
   "id": "64b4cb36",
   "metadata": {},
   "outputs": [
    {
     "name": "stdout",
     "output_type": "stream",
     "text": [
      "              precision    recall  f1-score   support\n",
      "\n",
      "           0       0.84      0.89      0.86       107\n",
      "           1       0.80      0.73      0.76        66\n",
      "\n",
      "    accuracy                           0.83       173\n",
      "   macro avg       0.82      0.81      0.81       173\n",
      "weighted avg       0.83      0.83      0.82       173\n",
      "\n"
     ]
    }
   ],
   "source": [
    "print(classification_report(y_test,y_pred_Rand_C))"
   ]
  },
  {
   "cell_type": "markdown",
   "id": "dd10e20d",
   "metadata": {},
   "source": [
    "#### Model4: KnnClassifier"
   ]
  },
  {
   "cell_type": "code",
   "execution_count": 661,
   "id": "b55b700b",
   "metadata": {},
   "outputs": [],
   "source": [
    "from sklearn.neighbors import KNeighborsClassifier\n",
    "\n",
    "knn=KNeighborsClassifier()\n",
    "\n",
    "knn.fit(x_train,y_train)\n",
    "y_pred_knn=knn.predict(x_test)"
   ]
  },
  {
   "cell_type": "markdown",
   "id": "21cda05a",
   "metadata": {},
   "source": [
    "Accuracy Score:"
   ]
  },
  {
   "cell_type": "code",
   "execution_count": 662,
   "id": "95d229e2",
   "metadata": {},
   "outputs": [
    {
     "name": "stdout",
     "output_type": "stream",
     "text": [
      "Accuracy Score:  0.8554913294797688\n",
      "Mean_Squared_Error:  0.14450867052023122\n",
      "R2_Score:  0.14259416595865215\n"
     ]
    }
   ],
   "source": [
    "print(\"Accuracy Score: \",accuracy_score(y_test,y_pred_knn))\n",
    "print('Mean_Squared_Error: ',mean_squared_error(y_test,y_pred_knn))\n",
    "print('R2_Score: ',r2_score(y_test,y_pred_log))"
   ]
  },
  {
   "cell_type": "markdown",
   "id": "45591dd1",
   "metadata": {},
   "source": [
    "Cross Validation:"
   ]
  },
  {
   "cell_type": "code",
   "execution_count": 663,
   "id": "ed0e2ee4",
   "metadata": {},
   "outputs": [
    {
     "name": "stdout",
     "output_type": "stream",
     "text": [
      "Cross Validation Score:  [0.69444444 0.75694444 0.75      ]\n",
      "Avg_Cross_Validation Score:  0.7337962962962963\n"
     ]
    }
   ],
   "source": [
    "print(\"Cross Validation Score: \", cross_val_score(knn,X,Y,cv=3))\n",
    "print('Avg_Cross_Validation Score: ',cross_val_score(knn,X,Y,cv=3).mean())"
   ]
  },
  {
   "cell_type": "markdown",
   "id": "8bceef9d",
   "metadata": {},
   "source": [
    "Confusion Matrix"
   ]
  },
  {
   "cell_type": "code",
   "execution_count": 664,
   "id": "0f3d7447",
   "metadata": {},
   "outputs": [
    {
     "data": {
      "text/plain": [
       "array([[100,   7],\n",
       "       [ 18,  48]], dtype=int64)"
      ]
     },
     "execution_count": 664,
     "metadata": {},
     "output_type": "execute_result"
    }
   ],
   "source": [
    "confusion_matrix(y_test,y_pred_knn)"
   ]
  },
  {
   "cell_type": "code",
   "execution_count": 665,
   "id": "c9b4bf97",
   "metadata": {},
   "outputs": [
    {
     "data": {
      "image/png": "[encoded data removed]",
      "text/plain": [
       "<Figure size 432x288 with 2 Axes>"
      ]
     },
     "metadata": {
      "needs_background": "light"
     },
     "output_type": "display_data"
    }
   ],
   "source": [
    "import scikitplot as skplt\n",
    "skplt.metrics.plot_confusion_matrix(y_test,y_pred_knn)\n",
    "plt.show()"
   ]
  },
  {
   "cell_type": "markdown",
   "id": "d834b4d7",
   "metadata": {},
   "source": [
    "Classification Report"
   ]
  },
  {
   "cell_type": "code",
   "execution_count": 666,
   "id": "c04bfa67",
   "metadata": {},
   "outputs": [
    {
     "name": "stdout",
     "output_type": "stream",
     "text": [
      "              precision    recall  f1-score   support\n",
      "\n",
      "           0       0.85      0.93      0.89       107\n",
      "           1       0.87      0.73      0.79        66\n",
      "\n",
      "    accuracy                           0.86       173\n",
      "   macro avg       0.86      0.83      0.84       173\n",
      "weighted avg       0.86      0.86      0.85       173\n",
      "\n"
     ]
    }
   ],
   "source": [
    "print(classification_report(y_test,y_pred_knn))"
   ]
  },
  {
   "cell_type": "markdown",
   "id": "e94dfa6e",
   "metadata": {},
   "source": [
    "#### Model5 : SVC"
   ]
  },
  {
   "cell_type": "code",
   "execution_count": 667,
   "id": "d56674b9",
   "metadata": {},
   "outputs": [],
   "source": [
    "from sklearn.svm import SVC\n",
    "\n",
    "sv = SVC()\n",
    "sv.fit(x_train,y_train)\n",
    "y_pred_sv = sv.predict(x_test)"
   ]
  },
  {
   "cell_type": "markdown",
   "id": "b35d1ec9",
   "metadata": {},
   "source": [
    "Accuracy Score:"
   ]
  },
  {
   "cell_type": "code",
   "execution_count": 668,
   "id": "7f6b7f04",
   "metadata": {},
   "outputs": [
    {
     "name": "stdout",
     "output_type": "stream",
     "text": [
      "Accuracy Score:  0.8497109826589595\n",
      "Mean_Squared_Error:  0.15028901734104047\n",
      "R2_Score:  0.14259416595865215\n"
     ]
    }
   ],
   "source": [
    "print(\"Accuracy Score: \",accuracy_score(y_test,y_pred_sv))\n",
    "print('Mean_Squared_Error: ',mean_squared_error(y_test,y_pred_sv))\n",
    "print('R2_Score: ',r2_score(y_test,y_pred_log))"
   ]
  },
  {
   "cell_type": "markdown",
   "id": "e3daea95",
   "metadata": {},
   "source": [
    "Cross Validation:"
   ]
  },
  {
   "cell_type": "code",
   "execution_count": 669,
   "id": "8aa6a8e9",
   "metadata": {},
   "outputs": [
    {
     "name": "stdout",
     "output_type": "stream",
     "text": [
      "Cross Validation Score:  [0.625      0.71180556 0.68055556]\n",
      "Avg_Cross_Validation Score:  0.6724537037037037\n"
     ]
    }
   ],
   "source": [
    "print(\"Cross Validation Score: \", cross_val_score(sv,X,Y,cv=3))\n",
    "print('Avg_Cross_Validation Score: ',cross_val_score(sv,X,Y,cv=3).mean())"
   ]
  },
  {
   "cell_type": "markdown",
   "id": "16abfc45",
   "metadata": {},
   "source": [
    "Confusion Matrix"
   ]
  },
  {
   "cell_type": "code",
   "execution_count": 670,
   "id": "e9711024",
   "metadata": {},
   "outputs": [
    {
     "data": {
      "text/plain": [
       "array([[98,  9],\n",
       "       [17, 49]], dtype=int64)"
      ]
     },
     "execution_count": 670,
     "metadata": {},
     "output_type": "execute_result"
    }
   ],
   "source": [
    "confusion_matrix(y_test,y_pred_sv)"
   ]
  },
  {
   "cell_type": "code",
   "execution_count": 671,
   "id": "d482fd3e",
   "metadata": {},
   "outputs": [
    {
     "data": {
      "image/png": "[encoded data removed]",
      "text/plain": [
       "<Figure size 432x288 with 2 Axes>"
      ]
     },
     "metadata": {
      "needs_background": "light"
     },
     "output_type": "display_data"
    }
   ],
   "source": [
    "import scikitplot as skplt\n",
    "skplt.metrics.plot_confusion_matrix(y_test,y_pred_sv)\n",
    "plt.show()"
   ]
  },
  {
   "cell_type": "markdown",
   "id": "8996be05",
   "metadata": {},
   "source": [
    "Classification Report"
   ]
  },
  {
   "cell_type": "code",
   "execution_count": 672,
   "id": "7b7645a8",
   "metadata": {},
   "outputs": [
    {
     "name": "stdout",
     "output_type": "stream",
     "text": [
      "              precision    recall  f1-score   support\n",
      "\n",
      "           0       0.85      0.92      0.88       107\n",
      "           1       0.84      0.74      0.79        66\n",
      "\n",
      "    accuracy                           0.85       173\n",
      "   macro avg       0.85      0.83      0.84       173\n",
      "weighted avg       0.85      0.85      0.85       173\n",
      "\n"
     ]
    }
   ],
   "source": [
    "print(classification_report(y_test,y_pred_sv))"
   ]
  },
  {
   "cell_type": "markdown",
   "id": "bd076568",
   "metadata": {},
   "source": [
    "#### Model6: Naive Bayes classifier(GaussianNB)"
   ]
  },
  {
   "cell_type": "code",
   "execution_count": 673,
   "id": "f6950d37",
   "metadata": {},
   "outputs": [],
   "source": [
    "from sklearn.naive_bayes import GaussianNB\n",
    "\n",
    "\n",
    "gnb = GaussianNB()\n",
    "gnb.fit(x_train, y_train)\n",
    "y_pred_gnb = gnb.predict(x_test)"
   ]
  },
  {
   "cell_type": "markdown",
   "id": "85b1d0f9",
   "metadata": {},
   "source": [
    "Accuracy Score:"
   ]
  },
  {
   "cell_type": "code",
   "execution_count": 674,
   "id": "af7dd19c",
   "metadata": {},
   "outputs": [
    {
     "name": "stdout",
     "output_type": "stream",
     "text": [
      "Accuracy Score:  0.8208092485549133\n",
      "Mean_Squared_Error:  0.1791907514450867\n",
      "R2_Score:  0.24058340413480617\n"
     ]
    }
   ],
   "source": [
    "print(\"Accuracy Score: \",accuracy_score(y_test,y_pred_gnb))\n",
    "print('Mean_Squared_Error: ',mean_squared_error(y_test,y_pred_gnb))\n",
    "print('R2_Score: ',r2_score(y_test,y_pred_gnb))"
   ]
  },
  {
   "cell_type": "markdown",
   "id": "2dc94240",
   "metadata": {},
   "source": [
    "Cross Validation:"
   ]
  },
  {
   "cell_type": "code",
   "execution_count": 675,
   "id": "3d3aa385",
   "metadata": {},
   "outputs": [
    {
     "name": "stdout",
     "output_type": "stream",
     "text": [
      "Cross Validation Score:  [0.75347222 0.80208333 0.79166667]\n",
      "Avg_Cross_Validation Score:  0.7824074074074074\n"
     ]
    }
   ],
   "source": [
    "print(\"Cross Validation Score: \", cross_val_score(gnb,X,Y,cv=3))\n",
    "print('Avg_Cross_Validation Score: ',cross_val_score(gnb,X,Y,cv=3).mean())"
   ]
  },
  {
   "cell_type": "markdown",
   "id": "608395c1",
   "metadata": {},
   "source": [
    "Confusion Matrix"
   ]
  },
  {
   "cell_type": "code",
   "execution_count": 676,
   "id": "45151b6e",
   "metadata": {},
   "outputs": [
    {
     "data": {
      "text/plain": [
       "array([[93, 14],\n",
       "       [17, 49]], dtype=int64)"
      ]
     },
     "execution_count": 676,
     "metadata": {},
     "output_type": "execute_result"
    }
   ],
   "source": [
    "confusion_matrix(y_test,y_pred_gnb)"
   ]
  },
  {
   "cell_type": "code",
   "execution_count": 677,
   "id": "30b21ed1",
   "metadata": {},
   "outputs": [
    {
     "data": {
      "image/png": "[encoded data removed]",
      "text/plain": [
       "<Figure size 432x288 with 2 Axes>"
      ]
     },
     "metadata": {
      "needs_background": "light"
     },
     "output_type": "display_data"
    }
   ],
   "source": [
    "import scikitplot as skplt\n",
    "skplt.metrics.plot_confusion_matrix(y_test,y_pred_gnb)\n",
    "plt.show()"
   ]
  },
  {
   "cell_type": "markdown",
   "id": "f4e592aa",
   "metadata": {},
   "source": [
    "Classification Report"
   ]
  },
  {
   "cell_type": "code",
   "execution_count": 678,
   "id": "e566b219",
   "metadata": {},
   "outputs": [
    {
     "name": "stdout",
     "output_type": "stream",
     "text": [
      "              precision    recall  f1-score   support\n",
      "\n",
      "           0       0.85      0.87      0.86       107\n",
      "           1       0.78      0.74      0.76        66\n",
      "\n",
      "    accuracy                           0.82       173\n",
      "   macro avg       0.81      0.81      0.81       173\n",
      "weighted avg       0.82      0.82      0.82       173\n",
      "\n"
     ]
    }
   ],
   "source": [
    "print(classification_report(y_test,y_pred_gnb))"
   ]
  },
  {
   "cell_type": "markdown",
   "id": "f31ca707",
   "metadata": {},
   "source": [
    "##### Comparing Models"
   ]
  },
  {
   "cell_type": "code",
   "execution_count": 679,
   "id": "94100b33",
   "metadata": {},
   "outputs": [],
   "source": [
    "#Accuracy Score\n",
    "A1 = accuracy_score(y_test,y_pred_log)\n",
    "A2 = accuracy_score(y_test,y_pred_dtc)\n",
    "A3 = accuracy_score(y_test,y_pred_Rand_C)\n",
    "A4 = accuracy_score(y_test,y_pred_knn)\n",
    "A5 = accuracy_score(y_test,y_pred_sv)\n",
    "A6 = accuracy_score(y_test,y_pred_gnb)\n",
    "\n",
    "#Cross Validation Scores\n",
    "C1 = cross_val_score(Log_Reg,X,Y,cv=3).mean()\n",
    "C2 = cross_val_score(dtc,X,Y,cv=3).mean()\n",
    "C3 = cross_val_score(Rand_C,X,Y,cv=3).mean()\n",
    "C4 = cross_val_score(knn,X,Y,cv=3).mean()\n",
    "C5 = cross_val_score(sv,X,Y,cv=3).mean()\n",
    "C6 = cross_val_score(gnb,X,Y,cv=3).mean()"
   ]
  },
  {
   "cell_type": "code",
   "execution_count": 680,
   "id": "b48b25e7",
   "metadata": {},
   "outputs": [],
   "source": [
    "Overall_Score = pd.DataFrame({'Model':['Logistic Regression','Decision Tree','Random Forest Classifier','KnnClassifier','SVC','GNB'],'Accuracy_Score':[A1,A2,A3,A4,A5,A6],'Cross_Validation_Score':[C1,C2,C3,C4,C5,C6]})\n",
    "Overall_Score['Difference'] = Overall_Score['Accuracy_Score'] - Overall_Score['Cross_Validation_Score']"
   ]
  },
  {
   "cell_type": "code",
   "execution_count": 681,
   "id": "4b8db82d",
   "metadata": {
    "scrolled": true
   },
   "outputs": [
    {
     "data": {
      "text/html": [
       "<div>\n",
       "<style scoped>\n",
       "    .dataframe tbody tr th:only-of-type {\n",
       "        vertical-align: middle;\n",
       "    }\n",
       "\n",
       "    .dataframe tbody tr th {\n",
       "        vertical-align: top;\n",
       "    }\n",
       "\n",
       "    .dataframe thead th {\n",
       "        text-align: right;\n",
       "    }\n",
       "</style>\n",
       "<table border=\"1\" class=\"dataframe\">\n",
       "  <thead>\n",
       "    <tr style=\"text-align: right;\">\n",
       "      <th></th>\n",
       "      <th>Model</th>\n",
       "      <th>Accuracy_Score</th>\n",
       "      <th>Cross_Validation_Score</th>\n",
       "      <th>Difference</th>\n",
       "    </tr>\n",
       "  </thead>\n",
       "  <tbody>\n",
       "    <tr>\n",
       "      <th>0</th>\n",
       "      <td>Logistic Regression</td>\n",
       "      <td>0.797688</td>\n",
       "      <td>0.793981</td>\n",
       "      <td>0.003706</td>\n",
       "    </tr>\n",
       "    <tr>\n",
       "      <th>1</th>\n",
       "      <td>Decision Tree</td>\n",
       "      <td>0.832370</td>\n",
       "      <td>0.771991</td>\n",
       "      <td>0.060379</td>\n",
       "    </tr>\n",
       "    <tr>\n",
       "      <th>2</th>\n",
       "      <td>Random Forest Classifier</td>\n",
       "      <td>0.826590</td>\n",
       "      <td>0.798611</td>\n",
       "      <td>0.027978</td>\n",
       "    </tr>\n",
       "    <tr>\n",
       "      <th>3</th>\n",
       "      <td>KnnClassifier</td>\n",
       "      <td>0.855491</td>\n",
       "      <td>0.733796</td>\n",
       "      <td>0.121695</td>\n",
       "    </tr>\n",
       "    <tr>\n",
       "      <th>4</th>\n",
       "      <td>SVC</td>\n",
       "      <td>0.849711</td>\n",
       "      <td>0.672454</td>\n",
       "      <td>0.177257</td>\n",
       "    </tr>\n",
       "    <tr>\n",
       "      <th>5</th>\n",
       "      <td>GNB</td>\n",
       "      <td>0.820809</td>\n",
       "      <td>0.782407</td>\n",
       "      <td>0.038402</td>\n",
       "    </tr>\n",
       "  </tbody>\n",
       "</table>\n",
       "</div>"
      ],
      "text/plain": [
       "                      Model  Accuracy_Score  Cross_Validation_Score  \\\n",
       "0       Logistic Regression        0.797688                0.793981   \n",
       "1             Decision Tree        0.832370                0.771991   \n",
       "2  Random Forest Classifier        0.826590                0.798611   \n",
       "3             KnnClassifier        0.855491                0.733796   \n",
       "4                       SVC        0.849711                0.672454   \n",
       "5                       GNB        0.820809                0.782407   \n",
       "\n",
       "   Difference  \n",
       "0    0.003706  \n",
       "1    0.060379  \n",
       "2    0.027978  \n",
       "3    0.121695  \n",
       "4    0.177257  \n",
       "5    0.038402  "
      ]
     },
     "execution_count": 681,
     "metadata": {},
     "output_type": "execute_result"
    }
   ],
   "source": [
    "Overall_Score"
   ]
  },
  {
   "cell_type": "code",
   "execution_count": 682,
   "id": "d2d6f49b",
   "metadata": {},
   "outputs": [
    {
     "data": {
      "text/plain": [
       "0.003706379790194947"
      ]
     },
     "execution_count": 682,
     "metadata": {},
     "output_type": "execute_result"
    }
   ],
   "source": [
    "Overall_Score['Difference'].min()"
   ]
  },
  {
   "cell_type": "code",
   "execution_count": 692,
   "id": "a5c8f359",
   "metadata": {},
   "outputs": [
    {
     "data": {
      "text/html": [
       "<div>\n",
       "<style scoped>\n",
       "    .dataframe tbody tr th:only-of-type {\n",
       "        vertical-align: middle;\n",
       "    }\n",
       "\n",
       "    .dataframe tbody tr th {\n",
       "        vertical-align: top;\n",
       "    }\n",
       "\n",
       "    .dataframe thead th {\n",
       "        text-align: right;\n",
       "    }\n",
       "</style>\n",
       "<table border=\"1\" class=\"dataframe\">\n",
       "  <thead>\n",
       "    <tr style=\"text-align: right;\">\n",
       "      <th></th>\n",
       "      <th>Model</th>\n",
       "      <th>Accuracy_Score</th>\n",
       "      <th>Cross_Validation_Score</th>\n",
       "      <th>Difference</th>\n",
       "    </tr>\n",
       "  </thead>\n",
       "  <tbody>\n",
       "    <tr>\n",
       "      <th>0</th>\n",
       "      <td>Logistic Regression</td>\n",
       "      <td>0.797688</td>\n",
       "      <td>0.793981</td>\n",
       "      <td>0.003706</td>\n",
       "    </tr>\n",
       "  </tbody>\n",
       "</table>\n",
       "</div>"
      ],
      "text/plain": [
       "                 Model  Accuracy_Score  Cross_Validation_Score  Difference\n",
       "0  Logistic Regression        0.797688                0.793981    0.003706"
      ]
     },
     "execution_count": 692,
     "metadata": {},
     "output_type": "execute_result"
    }
   ],
   "source": [
    "Overall_Score[Overall_Score['Difference'] == 0.003706379790194947]"
   ]
  },
  {
   "cell_type": "markdown",
   "id": "2c2f981a",
   "metadata": {},
   "source": [
    "Let's use Hyper Parameter Tuning to increase the accuracy"
   ]
  },
  {
   "cell_type": "code",
   "execution_count": 684,
   "id": "0ca86b08",
   "metadata": {},
   "outputs": [],
   "source": [
    "param_grid = {'penalty': ['l1','l2'], 'C': [100,1000],'intercept_scaling':[1,5,10,50],'fit_intercept':[True],  'max_iter':[10,100]}"
   ]
  },
  {
   "cell_type": "code",
   "execution_count": 685,
   "id": "4f29abc3",
   "metadata": {},
   "outputs": [],
   "source": [
    "from sklearn.model_selection import GridSearchCV\n",
    "gridsearch=GridSearchCV(estimator=Log_Reg,param_grid=param_grid)"
   ]
  },
  {
   "cell_type": "code",
   "execution_count": 686,
   "id": "65d45781",
   "metadata": {},
   "outputs": [
    {
     "name": "stdout",
     "output_type": "stream",
     "text": [
      "0.790126159941612 {'C': 100, 'fit_intercept': True, 'intercept_scaling': 1, 'max_iter': 10, 'penalty': 'l2'}\n"
     ]
    }
   ],
   "source": [
    "gridsearch.fit(x_train,y_train)\n",
    "print(gridsearch.best_score_, gridsearch.best_params_)"
   ]
  },
  {
   "cell_type": "code",
   "execution_count": 687,
   "id": "b8cb92d1",
   "metadata": {},
   "outputs": [],
   "source": [
    "Log_Reg_gridsearch = LogisticRegression(C =  100print(classification_report(y_test,y_pred_knn_gridsearch)), penalty = 'l2', intercept_scaling=1, fit_intercept=True, max_iter = 10)\n",
    "Log_Reg_gridsearch.fit(x_train,y_train)\n",
    "y_pred_log_gridsearch = Log_Reg_gridsearch.predict(x_test)"
   ]
  },
  {
   "cell_type": "markdown",
   "id": "eea63cd6",
   "metadata": {},
   "source": [
    "##### Accuracy Score after tuning:"
   ]
  },
  {
   "cell_type": "code",
   "execution_count": 699,
   "id": "cc74c3d3",
   "metadata": {},
   "outputs": [
    {
     "name": "stdout",
     "output_type": "stream",
     "text": [
      "Accuracy Score:  0.8034682080924855\n",
      "Mean_Squared_Error:  0.19653179190751446\n",
      "R2_Score:  0.16709147550269066\n"
     ]
    }
   ],
   "source": [
    "print(\"Accuracy Score: \",accuracy_score(y_test,y_pred_log_gridsearch))\n",
    "print('Mean_Squared_Error: ',mean_squared_error(y_test,y_pred_log_gridsearch))\n",
    "print('R2_Score: ',r2_score(y_test,y_pred_log_gridsearch))"
   ]
  },
  {
   "cell_type": "markdown",
   "id": "ed8fca3c",
   "metadata": {},
   "source": [
    "##### Cross Validation Score after tuning:"
   ]
  },
  {
   "cell_type": "code",
   "execution_count": 689,
   "id": "156a2d62",
   "metadata": {},
   "outputs": [
    {
     "name": "stdout",
     "output_type": "stream",
     "text": [
      "Cross Validation Score:  [0.74305556 0.71527778 0.73263889]\n",
      "Avg_Cross_Validation Score:  0.7303240740740741\n"
     ]
    }
   ],
   "source": [
    "print(\"Cross Validation Score: \", cross_val_score(Log_Reg_gridsearch,X,Y,cv=3))\n",
    "print('Avg_Cross_Validation Score: ',cross_val_score(Log_Reg_gridsearch,X,Y,cv=3).mean())"
   ]
  },
  {
   "cell_type": "markdown",
   "id": "402c677d",
   "metadata": {},
   "source": [
    "##### confusion matrix after tuning"
   ]
  },
  {
   "cell_type": "code",
   "execution_count": 690,
   "id": "f4a3ede2",
   "metadata": {},
   "outputs": [
    {
     "data": {
      "text/plain": [
       "array([[92, 15],\n",
       "       [19, 47]], dtype=int64)"
      ]
     },
     "execution_count": 690,
     "metadata": {},
     "output_type": "execute_result"
    }
   ],
   "source": [
    "confusion_matrix(y_test,y_pred_log_gridsearch)"
   ]
  },
  {
   "cell_type": "markdown",
   "id": "69ab4c3e",
   "metadata": {},
   "source": [
    "##### Classification Report after tuning"
   ]
  },
  {
   "cell_type": "code",
   "execution_count": 691,
   "id": "9a6abe88",
   "metadata": {},
   "outputs": [
    {
     "name": "stdout",
     "output_type": "stream",
     "text": [
      "              precision    recall  f1-score   support\n",
      "\n",
      "           0       0.83      0.86      0.84       107\n",
      "           1       0.76      0.71      0.73        66\n",
      "\n",
      "    accuracy                           0.80       173\n",
      "   macro avg       0.79      0.79      0.79       173\n",
      "weighted avg       0.80      0.80      0.80       173\n",
      "\n"
     ]
    }
   ],
   "source": [
    "print(classification_report(y_test,y_pred_log_gridsearch))"
   ]
  },
  {
   "cell_type": "code",
   "execution_count": 693,
   "id": "cfd40bae",
   "metadata": {},
   "outputs": [
    {
     "data": {
      "image/png": "[encoded data removed]",
      "text/plain": [
       "<Figure size 432x288 with 1 Axes>"
      ]
     },
     "metadata": {
      "needs_background": "light"
     },
     "output_type": "display_data"
    }
   ],
   "source": [
    "import matplotlib.pyplot as plt\n",
    "import scikitplot as skplt\n",
    "\n",
    "# This is a RandomForest classifier after tuning. We'll generate probabilities on the test set.\n",
    "Log_Reg_gridsearch.fit(x_train, y_train)\n",
    "probas1 = Log_Reg_gridsearch.predict_proba(x_test)\n",
    "# Now plot.\n",
    "skplt.metrics.plot_precision_recall_curve(y_test, probas1)\n",
    "\n",
    "plt.show()"
   ]
  },
  {
   "cell_type": "code",
   "execution_count": 694,
   "id": "8edeed43",
   "metadata": {},
   "outputs": [
    {
     "data": {
      "image/png": "[encoded data removed]",
      "text/plain": [
       "<Figure size 432x288 with 1 Axes>"
      ]
     },
     "metadata": {
      "needs_background": "light"
     },
     "output_type": "display_data"
    }
   ],
   "source": [
    "import matplotlib.pyplot as plt\n",
    "import scikitplot as skplt\n",
    "\n",
    "# This is a RandomForest classifier. We'll generate probabilities on the test set.\n",
    "Log_Reg_gridsearch.fit(x_train, y_train)\n",
    "probas1 = Log_Reg_gridsearch.predict_proba(x_test)\n",
    "# Now plot.\n",
    "skplt.metrics.plot_roc(y_test, probas1)\n",
    "\n",
    "plt.show()"
   ]
  },
  {
   "cell_type": "code",
   "execution_count": 695,
   "id": "bcf55f59",
   "metadata": {},
   "outputs": [
    {
     "data": {
      "text/plain": [
       "array([[369,  61],\n",
       "       [ 86, 175]], dtype=int64)"
      ]
     },
     "execution_count": 695,
     "metadata": {},
     "output_type": "execute_result"
    }
   ],
   "source": [
    "from sklearn.model_selection import cross_val_predict\n",
    "\n",
    "\n",
    "predictions = cross_val_predict(Log_Reg_gridsearch, x_train, y_train, cv=3)\n",
    "confusion_matrix(y_train, predictions)"
   ]
  },
  {
   "cell_type": "code",
   "execution_count": 696,
   "id": "60972877",
   "metadata": {},
   "outputs": [
    {
     "data": {
      "image/png": "[encoded data removed]",
      "text/plain": [
       "<Figure size 432x288 with 2 Axes>"
      ]
     },
     "metadata": {
      "needs_background": "light"
     },
     "output_type": "display_data"
    }
   ],
   "source": [
    "import scikitplot as skplt\n",
    "\n",
    "skplt.metrics.plot_confusion_matrix(y_test,y_pred_log_gridsearch)\n",
    "plt.show()"
   ]
  },
  {
   "cell_type": "markdown",
   "id": "d9ec0359",
   "metadata": {},
   "source": [
    "## Evaluated: \n",
    "    - The first row is about the not-survived-predictions: 92 passengers were correctly classified as not survived (called true negatives) and 15 where wrongly classified as survived (false positives).\n",
    "\n",
    "    - The second row is about the survived-predictions: 19 passengers were wrongly classified as not survived (false negatives) and 47 where correctly classified as survived (true positives).\n",
    "\n"
   ]
  },
  {
   "cell_type": "markdown",
   "id": "ab8c25aa",
   "metadata": {},
   "source": [
    "A confusion matrix gives you a lot of information about how well your model does, but theres a way to get even more, like computing the classifiers precision."
   ]
  },
  {
   "cell_type": "code",
   "execution_count": 697,
   "id": "22fb6153",
   "metadata": {},
   "outputs": [
    {
     "name": "stdout",
     "output_type": "stream",
     "text": [
      "Precision: 0.7415254237288136\n",
      "Recall: 0.6704980842911877\n"
     ]
    }
   ],
   "source": [
    "from sklearn.metrics import precision_score, recall_score\n",
    "\n",
    "print(\"Precision:\", precision_score(y_train, predictions))\n",
    "print(\"Recall:\",recall_score(y_train, predictions))"
   ]
  },
  {
   "cell_type": "code",
   "execution_count": 698,
   "id": "39cbacec",
   "metadata": {},
   "outputs": [
    {
     "name": "stdout",
     "output_type": "stream",
     "text": [
      "F1_Score:  0.7042253521126761\n"
     ]
    }
   ],
   "source": [
    "from sklearn.metrics import f1_score\n",
    "print('F1_Score: ',f1_score(y_train, predictions))"
   ]
  },
  {
   "cell_type": "markdown",
   "id": "80c4b770",
   "metadata": {},
   "source": [
    "Our model predicts 70% of the time, a passengers survival correctly (precision). The recall tells us that it predicted the survival of 67 % of the people who actually survived."
   ]
  },
  {
   "cell_type": "markdown",
   "id": "73efb7f4",
   "metadata": {},
   "source": [
    "## Saving the model for future prediction:"
   ]
  },
  {
   "cell_type": "code",
   "execution_count": 700,
   "id": "04b42c4b",
   "metadata": {},
   "outputs": [],
   "source": [
    "import pickle"
   ]
  },
  {
   "cell_type": "code",
   "execution_count": 701,
   "id": "5b26fbed",
   "metadata": {},
   "outputs": [],
   "source": [
    "Titanic='Titanic_Survival_Prediction__model.pickle'\n",
    "pickle.dump(Log_Reg_gridsearch,open(Titanic,'wb'))"
   ]
  },
  {
   "cell_type": "markdown",
   "id": "d34bc322",
   "metadata": {},
   "source": [
    "______________________"
   ]
  },
  {
   "cell_type": "markdown",
   "id": "bbfed067",
   "metadata": {},
   "source": [
    "# '0': shows died\n",
    "# '1': shows survived"
   ]
  }
 ],
 "metadata": {
  "kernelspec": {
   "display_name": "Python 3",
   "language": "python",
   "name": "python3"
  },
  "language_info": {
   "codemirror_mode": {
    "name": "ipython",
    "version": 3
   },
   "file_extension": ".py",
   "mimetype": "text/x-python",
   "name": "python",
   "nbconvert_exporter": "python",
   "pygments_lexer": "ipython3",
   "version": "3.8.8"
  }
 },
 "nbformat": 4,
 "nbformat_minor": 5
}
